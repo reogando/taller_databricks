{
 "cells": [
  {
   "cell_type": "markdown",
   "metadata": {
    "application/vnd.databricks.v1+cell": {
     "cellMetadata": {
      "byteLimit": 2048000,
      "rowLimit": 10000
     },
     "inputWidgets": {},
     "nuid": "d9db2ede-f8b4-456d-ad18-286bbed68ed3",
     "showTitle": false,
     "tableResultSettingsMap": {},
     "title": ""
    }
   },
   "source": [
    "## 1. Generar los esquemas en formato medallón (bronce, plata y oro) para comenzar a guardar la data proveniente del Storage Account de Azure (Gen2). \uD83D\uDCBC\uD83E\uDDF3\uD83D\uDCAA\n"
   ]
  },
  {
   "cell_type": "code",
   "execution_count": 0,
   "metadata": {
    "application/vnd.databricks.v1+cell": {
     "cellMetadata": {
      "byteLimit": 2048000,
      "implicitDf": true,
      "rowLimit": 10000
     },
     "inputWidgets": {},
     "nuid": "82be38d6-3235-43e2-80c4-6ce9e0cdfa68",
     "showTitle": false,
     "tableResultSettingsMap": {},
     "title": ""
    }
   },
   "outputs": [
    {
     "output_type": "display_data",
     "data": {
      "text/html": [
       "<style scoped>\n",
       "  .table-result-container {\n",
       "    max-height: 300px;\n",
       "    overflow: auto;\n",
       "  }\n",
       "  table, th, td {\n",
       "    border: 1px solid black;\n",
       "    border-collapse: collapse;\n",
       "  }\n",
       "  th, td {\n",
       "    padding: 5px;\n",
       "  }\n",
       "  th {\n",
       "    text-align: left;\n",
       "  }\n",
       "</style><div class='table-result-container'><table class='table-result'><thead style='background-color: white'><tr></tr></thead><tbody></tbody></table></div>"
      ]
     },
     "metadata": {
      "application/vnd.databricks.v1+output": {
       "addedWidgets": {},
       "aggData": [],
       "aggError": "",
       "aggOverflow": false,
       "aggSchema": [],
       "aggSeriesLimitReached": false,
       "aggType": "",
       "arguments": {},
       "columnCustomDisplayInfos": {},
       "data": [],
       "datasetInfos": [],
       "dbfsResultPath": null,
       "isJsonSchema": true,
       "metadata": {
        "dataframeName": null
       },
       "overflow": false,
       "plotOptions": {
        "customPlotOptions": {},
        "displayType": "table",
        "pivotAggregation": null,
        "pivotColumns": null,
        "xColumns": null,
        "yColumns": null
       },
       "removedWidgets": [],
       "schema": [],
       "type": "table"
      }
     },
     "output_type": "display_data"
    }
   ],
   "source": [
    "%sql\n",
    "CREATE SCHEMA IF NOT EXISTS bronce;\n",
    "CREATE SCHEMA IF NOT EXISTS silver;\n",
    "CREATE SCHEMA IF NOT EXISTS gold;"
   ]
  },
  {
   "cell_type": "markdown",
   "metadata": {
    "application/vnd.databricks.v1+cell": {
     "cellMetadata": {
      "byteLimit": 2048000,
      "rowLimit": 10000
     },
     "inputWidgets": {},
     "nuid": "5b1cfd24-17fd-4ee4-9f70-990423361ca3",
     "showTitle": false,
     "tableResultSettingsMap": {},
     "title": ""
    }
   },
   "source": [
    "## 2. Guardar la Shared Access Signature (SAS) como secreto usando Databricks Secrets para una conexión segura al Storage. \uD83D\uDD11\uD83D\uDD10"
   ]
  },
  {
   "cell_type": "code",
   "execution_count": 0,
   "metadata": {
    "application/vnd.databricks.v1+cell": {
     "cellMetadata": {
      "byteLimit": 2048000,
      "rowLimit": 10000
     },
     "inputWidgets": {},
     "nuid": "f1a23b38-ad35-4ed0-997e-eabff8b33bf3",
     "showTitle": false,
     "tableResultSettingsMap": {
      "0": {
       "dataGridStateBlob": "{\"version\":1,\"tableState\":{\"columnPinning\":{\"left\":[\"#row_number#\"],\"right\":[]},\"columnSizing\":{\"name\":303},\"columnVisibility\":{}},\"settings\":{\"columns\":{}},\"syncTimestamp\":1752694091365}",
       "filterBlob": null,
       "queryPlanFiltersBlob": null,
       "tableResultIndex": 0
      }
     },
     "title": ""
    }
   },
   "outputs": [
    {
     "output_type": "display_data",
     "data": {
      "text/html": [
       "<style scoped>\n",
       "  .table-result-container {\n",
       "    max-height: 300px;\n",
       "    overflow: auto;\n",
       "  }\n",
       "  table, th, td {\n",
       "    border: 1px solid black;\n",
       "    border-collapse: collapse;\n",
       "  }\n",
       "  th, td {\n",
       "    padding: 5px;\n",
       "  }\n",
       "  th {\n",
       "    text-align: left;\n",
       "  }\n",
       "</style><div class='table-result-container'><table class='table-result'><thead style='background-color: white'><tr><th>name</th></tr></thead><tbody><tr><td>databricks-course-secret-scope</td></tr></tbody></table></div>"
      ]
     },
     "metadata": {
      "application/vnd.databricks.v1+output": {
       "addedWidgets": {},
       "aggData": [],
       "aggError": "",
       "aggOverflow": false,
       "aggSchema": [],
       "aggSeriesLimitReached": false,
       "aggType": "",
       "arguments": {},
       "columnCustomDisplayInfos": {},
       "data": [
        [
         "databricks-course-secret-scope"
        ]
       ],
       "datasetInfos": [],
       "dbfsResultPath": null,
       "isJsonSchema": true,
       "metadata": {},
       "overflow": false,
       "plotOptions": {
        "customPlotOptions": {},
        "displayType": "table",
        "pivotAggregation": null,
        "pivotColumns": null,
        "xColumns": null,
        "yColumns": null
       },
       "removedWidgets": [],
       "schema": [
        {
         "metadata": "{}",
         "name": "name",
         "type": "\"string\""
        }
       ],
       "type": "table"
      }
     },
     "output_type": "display_data"
    },
    {
     "output_type": "display_data",
     "data": {
      "text/html": [
       "<style scoped>\n",
       "  .table-result-container {\n",
       "    max-height: 300px;\n",
       "    overflow: auto;\n",
       "  }\n",
       "  table, th, td {\n",
       "    border: 1px solid black;\n",
       "    border-collapse: collapse;\n",
       "  }\n",
       "  th, td {\n",
       "    padding: 5px;\n",
       "  }\n",
       "  th {\n",
       "    text-align: left;\n",
       "  }\n",
       "</style><div class='table-result-container'><table class='table-result'><thead style='background-color: white'><tr><th>key</th></tr></thead><tbody><tr><td>databricks-course-sas-token</td></tr></tbody></table></div>"
      ]
     },
     "metadata": {
      "application/vnd.databricks.v1+output": {
       "addedWidgets": {},
       "aggData": [],
       "aggError": "",
       "aggOverflow": false,
       "aggSchema": [],
       "aggSeriesLimitReached": false,
       "aggType": "",
       "arguments": {},
       "columnCustomDisplayInfos": {},
       "data": [
        [
         "databricks-course-sas-token"
        ]
       ],
       "datasetInfos": [],
       "dbfsResultPath": null,
       "isJsonSchema": true,
       "metadata": {},
       "overflow": false,
       "plotOptions": {
        "customPlotOptions": {},
        "displayType": "table",
        "pivotAggregation": null,
        "pivotColumns": null,
        "xColumns": null,
        "yColumns": null
       },
       "removedWidgets": [],
       "schema": [
        {
         "metadata": "{}",
         "name": "key",
         "type": "\"string\""
        }
       ],
       "type": "table"
      }
     },
     "output_type": "display_data"
    }
   ],
   "source": [
    "# Verificamos que los secretos existen previamente.\n",
    "\n",
    "display(dbutils.secrets.listScopes())\n",
    "display(dbutils.secrets.list(\"databricks-course-secret-scope\"))"
   ]
  },
  {
   "cell_type": "code",
   "execution_count": 0,
   "metadata": {
    "application/vnd.databricks.v1+cell": {
     "cellMetadata": {
      "byteLimit": 2048000,
      "rowLimit": 10000
     },
     "inputWidgets": {},
     "nuid": "14e6c9e3-5740-451d-a8fe-fa5b83248f3a",
     "showTitle": false,
     "tableResultSettingsMap": {},
     "title": ""
    }
   },
   "outputs": [
    {
     "output_type": "stream",
     "name": "stdout",
     "output_type": "stream",
     "text": [
      "[REDACTED]\n"
     ]
    }
   ],
   "source": [
    "dbc_sas_token = dbutils.secrets.get(scope=\"databricks-course-secret-scope\", key=\"databricks-course-sas-token\")\n",
    "print(dbc_sas_token)"
   ]
  },
  {
   "cell_type": "code",
   "execution_count": 0,
   "metadata": {
    "application/vnd.databricks.v1+cell": {
     "cellMetadata": {
      "byteLimit": 2048000,
      "rowLimit": 10000
     },
     "inputWidgets": {},
     "nuid": "0627ece5-7c82-4ee3-b6fb-5c1ed40db8a4",
     "showTitle": false,
     "tableResultSettingsMap": {},
     "title": ""
    }
   },
   "outputs": [],
   "source": [
    "spark.conf.set(\"fs.azure.account.auth.type.sadatabrickscourse001.dfs.core.windows.net\", \"SAS\")\n",
    "spark.conf.set(\"fs.azure.sas.token.provider.type.sadatabrickscourse001.dfs.core.windows.net\", \"org.apache.hadoop.fs.azurebfs.sas.FixedSASTokenProvider\")\n",
    "spark.conf.set(\"fs.azure.sas.fixed.token.sadatabrickscourse001.dfs.core.windows.net\", dbc_sas_token)"
   ]
  },
  {
   "cell_type": "code",
   "execution_count": 0,
   "metadata": {
    "application/vnd.databricks.v1+cell": {
     "cellMetadata": {
      "byteLimit": 2048000,
      "rowLimit": 10000
     },
     "inputWidgets": {},
     "nuid": "cfed5e18-3fd1-44f6-9b3b-c0c926c9d180",
     "showTitle": false,
     "tableResultSettingsMap": {},
     "title": ""
    }
   },
   "outputs": [
    {
     "output_type": "display_data",
     "data": {
      "text/html": [
       "<style scoped>\n",
       "  .table-result-container {\n",
       "    max-height: 300px;\n",
       "    overflow: auto;\n",
       "  }\n",
       "  table, th, td {\n",
       "    border: 1px solid black;\n",
       "    border-collapse: collapse;\n",
       "  }\n",
       "  th, td {\n",
       "    padding: 5px;\n",
       "  }\n",
       "  th {\n",
       "    text-align: left;\n",
       "  }\n",
       "</style><div class='table-result-container'><table class='table-result'><thead style='background-color: white'><tr><th>path</th><th>name</th><th>size</th><th>modificationTime</th></tr></thead><tbody><tr><td>abfss://container-course-databricks-001@sadatabrickscourse001.dfs.core.windows.net/categorias/</td><td>categorias/</td><td>0</td><td>1750552959000</td></tr><tr><td>abfss://container-course-databricks-001@sadatabrickscourse001.dfs.core.windows.net/clientes/</td><td>clientes/</td><td>0</td><td>1750552924000</td></tr><tr><td>abfss://container-course-databricks-001@sadatabrickscourse001.dfs.core.windows.net/productos/</td><td>productos/</td><td>0</td><td>1750552935000</td></tr><tr><td>abfss://container-course-databricks-001@sadatabrickscourse001.dfs.core.windows.net/ventas/</td><td>ventas/</td><td>0</td><td>1750552944000</td></tr></tbody></table></div>"
      ]
     },
     "metadata": {
      "application/vnd.databricks.v1+output": {
       "addedWidgets": {},
       "aggData": [],
       "aggError": "",
       "aggOverflow": false,
       "aggSchema": [],
       "aggSeriesLimitReached": false,
       "aggType": "",
       "arguments": {},
       "columnCustomDisplayInfos": {},
       "data": [
        [
         "abfss://container-course-databricks-001@sadatabrickscourse001.dfs.core.windows.net/categorias/",
         "categorias/",
         0,
         1750552959000
        ],
        [
         "abfss://container-course-databricks-001@sadatabrickscourse001.dfs.core.windows.net/clientes/",
         "clientes/",
         0,
         1750552924000
        ],
        [
         "abfss://container-course-databricks-001@sadatabrickscourse001.dfs.core.windows.net/productos/",
         "productos/",
         0,
         1750552935000
        ],
        [
         "abfss://container-course-databricks-001@sadatabrickscourse001.dfs.core.windows.net/ventas/",
         "ventas/",
         0,
         1750552944000
        ]
       ],
       "datasetInfos": [],
       "dbfsResultPath": null,
       "isJsonSchema": true,
       "metadata": {},
       "overflow": false,
       "plotOptions": {
        "customPlotOptions": {},
        "displayType": "table",
        "pivotAggregation": null,
        "pivotColumns": null,
        "xColumns": null,
        "yColumns": null
       },
       "removedWidgets": [],
       "schema": [
        {
         "metadata": "{}",
         "name": "path",
         "type": "\"string\""
        },
        {
         "metadata": "{}",
         "name": "name",
         "type": "\"string\""
        },
        {
         "metadata": "{}",
         "name": "size",
         "type": "\"long\""
        },
        {
         "metadata": "{}",
         "name": "modificationTime",
         "type": "\"long\""
        }
       ],
       "type": "table"
      }
     },
     "output_type": "display_data"
    }
   ],
   "source": [
    "#Comprobamos que tenemos acceso\n",
    "display(dbutils.fs.ls(\"abfss://container-course-databricks-001@sadatabrickscourse001.dfs.core.windows.net\"))"
   ]
  },
  {
   "cell_type": "code",
   "execution_count": 0,
   "metadata": {
    "application/vnd.databricks.v1+cell": {
     "cellMetadata": {
      "byteLimit": 2048000,
      "rowLimit": 10000
     },
     "inputWidgets": {},
     "nuid": "24223017-db14-406c-bcd9-3ec721d3a447",
     "showTitle": false,
     "tableResultSettingsMap": {
      "0": {
       "dataGridStateBlob": "{\"version\":1,\"tableState\":{\"columnPinning\":{\"left\":[\"#row_number#\"],\"right\":[]},\"columnSizing\":{\"path\":607},\"columnVisibility\":{}},\"settings\":{\"columns\":{}},\"syncTimestamp\":1753282951130}",
       "filterBlob": null,
       "queryPlanFiltersBlob": null,
       "tableResultIndex": 0
      }
     },
     "title": ""
    }
   },
   "outputs": [
    {
     "output_type": "display_data",
     "data": {
      "text/html": [
       "<style scoped>\n",
       "  .table-result-container {\n",
       "    max-height: 300px;\n",
       "    overflow: auto;\n",
       "  }\n",
       "  table, th, td {\n",
       "    border: 1px solid black;\n",
       "    border-collapse: collapse;\n",
       "  }\n",
       "  th, td {\n",
       "    padding: 5px;\n",
       "  }\n",
       "  th {\n",
       "    text-align: left;\n",
       "  }\n",
       "</style><div class='table-result-container'><table class='table-result'><thead style='background-color: white'><tr><th>path</th><th>name</th><th>size</th><th>modificationTime</th></tr></thead><tbody><tr><td>abfss://container-course-databricks-001@sadatabrickscourse001.dfs.core.windows.net/clientes/clientes.csv</td><td>clientes.csv</td><td>4486</td><td>1750553065000</td></tr><tr><td>abfss://container-course-databricks-001@sadatabrickscourse001.dfs.core.windows.net/clientes/clientes_5.csv</td><td>clientes_5.csv</td><td>3112</td><td>1756910909000</td></tr></tbody></table></div>"
      ]
     },
     "metadata": {
      "application/vnd.databricks.v1+output": {
       "addedWidgets": {},
       "aggData": [],
       "aggError": "",
       "aggOverflow": false,
       "aggSchema": [],
       "aggSeriesLimitReached": false,
       "aggType": "",
       "arguments": {},
       "columnCustomDisplayInfos": {},
       "data": [
        [
         "abfss://container-course-databricks-001@sadatabrickscourse001.dfs.core.windows.net/clientes/clientes.csv",
         "clientes.csv",
         4486,
         1750553065000
        ],
        [
         "abfss://container-course-databricks-001@sadatabrickscourse001.dfs.core.windows.net/clientes/clientes_5.csv",
         "clientes_5.csv",
         3112,
         1756910909000
        ]
       ],
       "datasetInfos": [],
       "dbfsResultPath": null,
       "isJsonSchema": true,
       "metadata": {},
       "overflow": false,
       "plotOptions": {
        "customPlotOptions": {},
        "displayType": "table",
        "pivotAggregation": null,
        "pivotColumns": null,
        "xColumns": null,
        "yColumns": null
       },
       "removedWidgets": [],
       "schema": [
        {
         "metadata": "{}",
         "name": "path",
         "type": "\"string\""
        },
        {
         "metadata": "{}",
         "name": "name",
         "type": "\"string\""
        },
        {
         "metadata": "{}",
         "name": "size",
         "type": "\"long\""
        },
        {
         "metadata": "{}",
         "name": "modificationTime",
         "type": "\"long\""
        }
       ],
       "type": "table"
      }
     },
     "output_type": "display_data"
    }
   ],
   "source": [
    "display(dbutils.fs.ls(\"abfss://container-course-databricks-001@sadatabrickscourse001.dfs.core.windows.net/clientes/\"))"
   ]
  },
  {
   "cell_type": "markdown",
   "metadata": {
    "application/vnd.databricks.v1+cell": {
     "cellMetadata": {
      "byteLimit": 2048000,
      "rowLimit": 10000
     },
     "inputWidgets": {},
     "nuid": "1c756035-c1aa-4d08-8ea2-571ea5062f45",
     "showTitle": false,
     "tableResultSettingsMap": {},
     "title": ""
    }
   },
   "source": [
    "## 3. Realizar la ingesta de los archivos CSV usando Auto Loader: ☁️☁️\n",
    "- Utilizar el formato 'cloudFiles'.\n",
    "- Habilitar la evolución del esquema (schema evolution) en lectura y escritura.\n",
    "- Guardar los datos en formato Delta dentro de un esquema llamado 'bronce'.\n",
    "- Utilizamos metadata.\n",
    "- Agregamos columnas para auditoría.\n",
    "\n",
    "\uD83D\uDEA8\uD83D\uDEA8\uD83D\uDEA8 IMPORTANTE \uD83D\uDEA8\uD83D\uDEA8\uD83D\uDEA8\n",
    "\n",
    "Utilizamos \"awaitTermination\" para asegurarnos que todo se cargue correctamente. \n"
   ]
  },
  {
   "cell_type": "code",
   "execution_count": 0,
   "metadata": {
    "application/vnd.databricks.v1+cell": {
     "cellMetadata": {
      "byteLimit": 2048000,
      "rowLimit": 10000
     },
     "inputWidgets": {},
     "nuid": "b14f4319-4371-4b6d-b304-8ddebd43b7be",
     "showTitle": false,
     "tableResultSettingsMap": {},
     "title": ""
    }
   },
   "outputs": [],
   "source": [
    "# Cargamos las librerías necesarias\n",
    "\n",
    "from pyspark.sql.functions import col, schema_of_json, from_json, lit, when, current_timestamp, input_file_name, expr, max, row_number, desc\n",
    "from pyspark.sql import DataFrame\n",
    "from pyspark.sql.window import Window\n",
    "from pyspark.sql.types import StructType, StringType, NumericType\n",
    "from delta.tables import DeltaTable\n",
    "import json, uuid, time\n"
   ]
  },
  {
   "cell_type": "code",
   "execution_count": 0,
   "metadata": {
    "application/vnd.databricks.v1+cell": {
     "cellMetadata": {
      "byteLimit": 2048000,
      "rowLimit": 10000
     },
     "inputWidgets": {},
     "nuid": "477a8e0f-22ee-4721-99a5-8e54dc8f17a8",
     "showTitle": false,
     "tableResultSettingsMap": {},
     "title": ""
    }
   },
   "outputs": [],
   "source": [
    "# Guardamos los nombres del storage y del contenedor desde Azure Storage Gen2.\n",
    "container = \"container-course-databricks-001\"\n",
    "storage = \"sadatabrickscourse001\"\n",
    "\n",
    "# Generamos la función para ingestar los datos.\n",
    "def ingestar_auto_loader(location, table_name):\n",
    "  path_location_azure = f\"abfss://{container}@{storage}.dfs.core.windows.net/{location}\"\n",
    "  schema_location = f\"/Filestore/course/databricks/advanced/autoloader/schema/datapath/data/{table_name}\"\n",
    "  checkpoint_location = f\"/Filestore/course/databricks/advanced/autoloader/checkpoint/datapath/dataclass/{table_name}\"\n",
    "\n",
    "# Leemos los datos en modo streaming con rescue.\n",
    "  df_streaming = (spark.readStream\n",
    "    .format(\"cloudFiles\")\n",
    "    .option(\"cloudFiles.format\", \"csv\")\n",
    "    .option(\"cloudFiles.schemaLocation\", schema_location)\n",
    "    .option(\"cloudFiles.schemaEvolutionMode\", \"rescue\")\n",
    "    .load(path_location_azure)\n",
    "  )\n",
    "\n",
    "# Enriquecemos con metadata\n",
    "  df_enriched = (df_streaming\n",
    "    .withColumn(\"ingestion_ts\", current_timestamp()) # Marca temporal de ingesta\n",
    "    .withColumn(\"ingestion_id\", expr(\"uuid()\")) # ID único de ingesta\n",
    "    .withColumn(\"source_file\", col(\"_metadata.file_name\")) # Nombre del archivo\n",
    "    .withColumn(\"source_path\", col(\"_metadata.file_path\")) # Ruta completa\n",
    "    .withColumn(\"file_modification_time\", col(\"_metadata.file_modification_time\")) # Modificación del archivo en el storage\n",
    "    .withColumn(\"file_size\", col(\"_metadata.file_size\")) # Tamaño del archivo\n",
    "  )\n",
    "\n",
    "# Guardamos en bronze\n",
    "  (df_enriched \n",
    "      .writeStream\n",
    "      .trigger(availableNow=True)\n",
    "      .option(\"mergeSchema\", \"true\")\n",
    "      .option(\"checkpointLocation\", checkpoint_location)\n",
    "      .toTable(f\"hive_metastore.bronce.{table_name}\")\n",
    "      .awaitTermination()\n",
    "  )"
   ]
  },
  {
   "cell_type": "markdown",
   "metadata": {
    "application/vnd.databricks.v1+cell": {
     "cellMetadata": {
      "byteLimit": 2048000,
      "rowLimit": 10000
     },
     "inputWidgets": {},
     "nuid": "2caf52fa-1845-44bd-85cd-5e2112123b73",
     "showTitle": false,
     "tableResultSettingsMap": {},
     "title": ""
    }
   },
   "source": [
    "##4. Limpiar duplicados y valores nulos, y mover los datos al esquema 'plata'. \uD83D\uDEE0️⚡\n",
    "- Detectamos cambios con la columna rescue_data.\n",
    "- Inferimos esquema.\n",
    "- Utilizamos funciones para simplificar la lectura.\n",
    "- Guardamos Delta."
   ]
  },
  {
   "cell_type": "code",
   "execution_count": 0,
   "metadata": {
    "application/vnd.databricks.v1+cell": {
     "cellMetadata": {
      "byteLimit": 2048000,
      "rowLimit": 10000
     },
     "inputWidgets": {},
     "nuid": "c8fa524c-60db-4ae4-8d53-8dc87e7db8b1",
     "showTitle": false,
     "tableResultSettingsMap": {},
     "title": ""
    }
   },
   "outputs": [],
   "source": [
    "def replace_nulls(df):\n",
    "\n",
    "    # Detectamos columnas string y numéricas.\n",
    "    str_cols = [f.name for f in df.schema.fields if isinstance(f.dataType, StringType)]\n",
    "    num_cols = [f.name for f in df.schema.fields if isinstance(f.dataType, NumericType)]\n",
    "\n",
    "    # Reemplazamos nulos por \"NA\" o 0 según tipo de dato\n",
    "    return df.fillna(\"NA\", subset=str_cols).fillna(0, subset=num_cols)\n",
    "    "
   ]
  },
  {
   "cell_type": "code",
   "execution_count": 0,
   "metadata": {
    "application/vnd.databricks.v1+cell": {
     "cellMetadata": {
      "byteLimit": 2048000,
      "rowLimit": 10000
     },
     "inputWidgets": {},
     "nuid": "7884190d-a55e-4959-adcb-9ae22873dd8c",
     "showTitle": false,
     "tableResultSettingsMap": {
      "1": {
       "dataGridStateBlob": "{\"version\":1,\"tableState\":{\"columnPinning\":{\"left\":[\"#row_number#\"],\"right\":[]},\"columnSizing\":{\"ingestion_id\":292},\"columnVisibility\":{}},\"settings\":{\"columns\":{}},\"syncTimestamp\":1756915156343}",
       "filterBlob": null,
       "queryPlanFiltersBlob": null,
       "tableResultIndex": 1
      },
      "2": {
       "dataGridStateBlob": "{\"version\":1,\"tableState\":{\"columnPinning\":{\"left\":[\"#row_number#\"],\"right\":[]},\"columnSizing\":{},\"columnVisibility\":{}},\"settings\":{\"columns\":{}},\"syncTimestamp\":1756913781512}",
       "filterBlob": null,
       "queryPlanFiltersBlob": null,
       "tableResultIndex": 2
      }
     },
     "title": ""
    }
   },
   "outputs": [
    {
     "output_type": "display_data",
     "data": {
      "text/html": [
       "<style scoped>\n",
       "  .table-result-container {\n",
       "    max-height: 300px;\n",
       "    overflow: auto;\n",
       "  }\n",
       "  table, th, td {\n",
       "    border: 1px solid black;\n",
       "    border-collapse: collapse;\n",
       "  }\n",
       "  th, td {\n",
       "    padding: 5px;\n",
       "  }\n",
       "  th {\n",
       "    text-align: left;\n",
       "  }\n",
       "</style><div class='table-result-container'><table class='table-result'><thead style='background-color: white'><tr><th>cliente_id</th><th>nombre</th><th>correo</th><th>ciudad</th><th>_rescued_data</th><th>ingestion_ts</th><th>ingestion_id</th><th>source_file</th><th>source_path</th><th>file_modification_time</th><th>file_size</th></tr></thead><tbody><tr><td>100</td><td>Juan Gomez</td><td>cliente100@correo.com</td><td>Lima</td><td>{\"continente\":\"Asia\",\"_file_path\":\"abfss://container-course-databricks-001@sadatabrickscourse001.dfs.core.windows.net/clientes/clientes_5.csv\"}</td><td>2025-09-03T15:09:26.995Z</td><td>f291160e-d96c-4630-b7c9-f490ad74a0f8</td><td>clientes_5.csv</td><td>abfss://container-course-databricks-001@sadatabrickscourse001.dfs.core.windows.net/clientes/clientes_5.csv</td><td>2025-09-03T14:48:29Z</td><td>3112</td></tr><tr><td>43</td><td>Maria Gomez</td><td>cliente43@correo.com</td><td>Mendoza</td><td>{\"continente\":\"America\",\"_file_path\":\"abfss://container-course-databricks-001@sadatabrickscourse001.dfs.core.windows.net/clientes/clientes_5.csv\"}</td><td>2025-09-03T15:09:26.995Z</td><td>2a70cc1b-9f41-4cb5-aef9-76c64bfa4cd9</td><td>clientes_5.csv</td><td>abfss://container-course-databricks-001@sadatabrickscourse001.dfs.core.windows.net/clientes/clientes_5.csv</td><td>2025-09-03T14:48:29Z</td><td>3112</td></tr><tr><td>44</td><td>Juan Gomez</td><td>cliente44@correo.com</td><td>Barranquilla</td><td>{\"continente\":\"America\",\"_file_path\":\"abfss://container-course-databricks-001@sadatabrickscourse001.dfs.core.windows.net/clientes/clientes_5.csv\"}</td><td>2025-09-03T15:09:26.995Z</td><td>9c5284ec-7e84-4266-889a-6c4de7aeb7cf</td><td>clientes_5.csv</td><td>abfss://container-course-databricks-001@sadatabrickscourse001.dfs.core.windows.net/clientes/clientes_5.csv</td><td>2025-09-03T14:48:29Z</td><td>3112</td></tr><tr><td>45</td><td>Maria Perez</td><td>cliente45@correo.com</td><td>Lima</td><td>{\"continente\":\"America\",\"_file_path\":\"abfss://container-course-databricks-001@sadatabrickscourse001.dfs.core.windows.net/clientes/clientes_5.csv\"}</td><td>2025-09-03T15:09:26.995Z</td><td>8d5185d0-0ddc-42e9-ab39-f4dc98461c6e</td><td>clientes_5.csv</td><td>abfss://container-course-databricks-001@sadatabrickscourse001.dfs.core.windows.net/clientes/clientes_5.csv</td><td>2025-09-03T14:48:29Z</td><td>3112</td></tr><tr><td>46</td><td>Juan Gomez</td><td>cliente46@correo.com</td><td>Merida</td><td>{\"continente\":\"America\",\"_file_path\":\"abfss://container-course-databricks-001@sadatabrickscourse001.dfs.core.windows.net/clientes/clientes_5.csv\"}</td><td>2025-09-03T15:09:26.995Z</td><td>d4b23198-cd86-4416-846f-d702e865dc62</td><td>clientes_5.csv</td><td>abfss://container-course-databricks-001@sadatabrickscourse001.dfs.core.windows.net/clientes/clientes_5.csv</td><td>2025-09-03T14:48:29Z</td><td>3112</td></tr><tr><td>47</td><td>Maria Gomez</td><td>cliente47@correo.com</td><td>Medellin</td><td>{\"continente\":\"America\",\"_file_path\":\"abfss://container-course-databricks-001@sadatabrickscourse001.dfs.core.windows.net/clientes/clientes_5.csv\"}</td><td>2025-09-03T15:09:26.995Z</td><td>9397a7f0-4ece-4b3d-86d9-d50011f931fd</td><td>clientes_5.csv</td><td>abfss://container-course-databricks-001@sadatabrickscourse001.dfs.core.windows.net/clientes/clientes_5.csv</td><td>2025-09-03T14:48:29Z</td><td>3112</td></tr><tr><td>48</td><td>Juan Perez</td><td>cliente48@correo.com</td><td>Mendoza</td><td>{\"continente\":\"America\",\"_file_path\":\"abfss://container-course-databricks-001@sadatabrickscourse001.dfs.core.windows.net/clientes/clientes_5.csv\"}</td><td>2025-09-03T15:09:26.995Z</td><td>28b6b6b9-2ce3-4df8-97e7-4f442765cb66</td><td>clientes_5.csv</td><td>abfss://container-course-databricks-001@sadatabrickscourse001.dfs.core.windows.net/clientes/clientes_5.csv</td><td>2025-09-03T14:48:29Z</td><td>3112</td></tr><tr><td>49</td><td>Maria Gomez</td><td>cliente49@correo.com</td><td>Barranquilla</td><td>{\"continente\":\"America\",\"_file_path\":\"abfss://container-course-databricks-001@sadatabrickscourse001.dfs.core.windows.net/clientes/clientes_5.csv\"}</td><td>2025-09-03T15:09:26.995Z</td><td>e6d92430-bab1-4a05-bea8-22c5fab29ef2</td><td>clientes_5.csv</td><td>abfss://container-course-databricks-001@sadatabrickscourse001.dfs.core.windows.net/clientes/clientes_5.csv</td><td>2025-09-03T14:48:29Z</td><td>3112</td></tr><tr><td>50</td><td>Juan Gomez</td><td>cliente50@correo.com</td><td>Lima</td><td>{\"continente\":\"America\",\"_file_path\":\"abfss://container-course-databricks-001@sadatabrickscourse001.dfs.core.windows.net/clientes/clientes_5.csv\"}</td><td>2025-09-03T15:09:26.995Z</td><td>07f1ba65-bcf0-4933-b85a-c2b8abedf8fd</td><td>clientes_5.csv</td><td>abfss://container-course-databricks-001@sadatabrickscourse001.dfs.core.windows.net/clientes/clientes_5.csv</td><td>2025-09-03T14:48:29Z</td><td>3112</td></tr><tr><td>51</td><td>Maria Perez</td><td>cliente51@correo.com</td><td>Merida</td><td>{\"continente\":\"America\",\"_file_path\":\"abfss://container-course-databricks-001@sadatabrickscourse001.dfs.core.windows.net/clientes/clientes_5.csv\"}</td><td>2025-09-03T15:09:26.995Z</td><td>1055aeae-3fc5-464e-b467-2a9071ccfec9</td><td>clientes_5.csv</td><td>abfss://container-course-databricks-001@sadatabrickscourse001.dfs.core.windows.net/clientes/clientes_5.csv</td><td>2025-09-03T14:48:29Z</td><td>3112</td></tr><tr><td>52</td><td>Juan Gomez</td><td>cliente52@correo.com</td><td>Medellin</td><td>{\"continente\":\"America\",\"_file_path\":\"abfss://container-course-databricks-001@sadatabrickscourse001.dfs.core.windows.net/clientes/clientes_5.csv\"}</td><td>2025-09-03T15:09:26.995Z</td><td>d3355446-6a88-4063-9e28-a5fdcb8447e6</td><td>clientes_5.csv</td><td>abfss://container-course-databricks-001@sadatabrickscourse001.dfs.core.windows.net/clientes/clientes_5.csv</td><td>2025-09-03T14:48:29Z</td><td>3112</td></tr><tr><td>53</td><td>Maria Gomez</td><td>cliente53@correo.com</td><td>Mendoza</td><td>{\"continente\":\"America\",\"_file_path\":\"abfss://container-course-databricks-001@sadatabrickscourse001.dfs.core.windows.net/clientes/clientes_5.csv\"}</td><td>2025-09-03T15:09:26.995Z</td><td>13952f34-9a58-4409-acb2-08e5184be631</td><td>clientes_5.csv</td><td>abfss://container-course-databricks-001@sadatabrickscourse001.dfs.core.windows.net/clientes/clientes_5.csv</td><td>2025-09-03T14:48:29Z</td><td>3112</td></tr><tr><td>54</td><td>Juan Perez</td><td>cliente54@correo.com</td><td>Barranquilla</td><td>{\"continente\":\"America\",\"_file_path\":\"abfss://container-course-databricks-001@sadatabrickscourse001.dfs.core.windows.net/clientes/clientes_5.csv\"}</td><td>2025-09-03T15:09:26.995Z</td><td>bab74e70-224d-43a1-8c47-51a612087e38</td><td>clientes_5.csv</td><td>abfss://container-course-databricks-001@sadatabrickscourse001.dfs.core.windows.net/clientes/clientes_5.csv</td><td>2025-09-03T14:48:29Z</td><td>3112</td></tr><tr><td>55</td><td>Maria Gomez</td><td>cliente55@correo.com</td><td>Lima</td><td>{\"continente\":\"America\",\"_file_path\":\"abfss://container-course-databricks-001@sadatabrickscourse001.dfs.core.windows.net/clientes/clientes_5.csv\"}</td><td>2025-09-03T15:09:26.995Z</td><td>390a04f9-91dd-406e-b271-7d0358d1ba03</td><td>clientes_5.csv</td><td>abfss://container-course-databricks-001@sadatabrickscourse001.dfs.core.windows.net/clientes/clientes_5.csv</td><td>2025-09-03T14:48:29Z</td><td>3112</td></tr><tr><td>56</td><td>Juan Gomez</td><td>cliente56@correo.com</td><td>Merida</td><td>{\"continente\":\"America\",\"_file_path\":\"abfss://container-course-databricks-001@sadatabrickscourse001.dfs.core.windows.net/clientes/clientes_5.csv\"}</td><td>2025-09-03T15:09:26.995Z</td><td>8058a597-8a12-40f5-889b-3009810cac6a</td><td>clientes_5.csv</td><td>abfss://container-course-databricks-001@sadatabrickscourse001.dfs.core.windows.net/clientes/clientes_5.csv</td><td>2025-09-03T14:48:29Z</td><td>3112</td></tr><tr><td>57</td><td>Maria Perez</td><td>cliente57@correo.com</td><td>Medellin</td><td>{\"continente\":\"America\",\"_file_path\":\"abfss://container-course-databricks-001@sadatabrickscourse001.dfs.core.windows.net/clientes/clientes_5.csv\"}</td><td>2025-09-03T15:09:26.995Z</td><td>2ef40812-1950-4dae-9319-04bc8f9e0832</td><td>clientes_5.csv</td><td>abfss://container-course-databricks-001@sadatabrickscourse001.dfs.core.windows.net/clientes/clientes_5.csv</td><td>2025-09-03T14:48:29Z</td><td>3112</td></tr><tr><td>58</td><td>Juan Gomez</td><td>cliente58@correo.com</td><td>Mendoza</td><td>{\"continente\":\"America\",\"_file_path\":\"abfss://container-course-databricks-001@sadatabrickscourse001.dfs.core.windows.net/clientes/clientes_5.csv\"}</td><td>2025-09-03T15:09:26.995Z</td><td>6f2f8fe5-f946-4eef-862b-ec67efce8a19</td><td>clientes_5.csv</td><td>abfss://container-course-databricks-001@sadatabrickscourse001.dfs.core.windows.net/clientes/clientes_5.csv</td><td>2025-09-03T14:48:29Z</td><td>3112</td></tr><tr><td>59</td><td>Maria Gomez</td><td>cliente59@correo.com</td><td>Barranquilla</td><td>{\"continente\":\"America\",\"_file_path\":\"abfss://container-course-databricks-001@sadatabrickscourse001.dfs.core.windows.net/clientes/clientes_5.csv\"}</td><td>2025-09-03T15:09:26.995Z</td><td>868c91a7-2e62-4594-85f2-04765aabc935</td><td>clientes_5.csv</td><td>abfss://container-course-databricks-001@sadatabrickscourse001.dfs.core.windows.net/clientes/clientes_5.csv</td><td>2025-09-03T14:48:29Z</td><td>3112</td></tr><tr><td>60</td><td>Juan Perez</td><td>cliente60@correo.com</td><td>Lima</td><td>{\"continente\":\"America\",\"_file_path\":\"abfss://container-course-databricks-001@sadatabrickscourse001.dfs.core.windows.net/clientes/clientes_5.csv\"}</td><td>2025-09-03T15:09:26.995Z</td><td>4dac6e6f-e20f-442c-a1e4-2a85ce294522</td><td>clientes_5.csv</td><td>abfss://container-course-databricks-001@sadatabrickscourse001.dfs.core.windows.net/clientes/clientes_5.csv</td><td>2025-09-03T14:48:29Z</td><td>3112</td></tr><tr><td>61</td><td>Maria Gomez</td><td>cliente61@correo.com</td><td>Merida</td><td>{\"continente\":\"America\",\"_file_path\":\"abfss://container-course-databricks-001@sadatabrickscourse001.dfs.core.windows.net/clientes/clientes_5.csv\"}</td><td>2025-09-03T15:09:26.995Z</td><td>70e45b47-3f6a-4cf9-a896-bb3ebd358ab7</td><td>clientes_5.csv</td><td>abfss://container-course-databricks-001@sadatabrickscourse001.dfs.core.windows.net/clientes/clientes_5.csv</td><td>2025-09-03T14:48:29Z</td><td>3112</td></tr><tr><td>62</td><td>Juan Gomez</td><td>cliente62@correo.com</td><td>Medellin</td><td>{\"continente\":\"America\",\"_file_path\":\"abfss://container-course-databricks-001@sadatabrickscourse001.dfs.core.windows.net/clientes/clientes_5.csv\"}</td><td>2025-09-03T15:09:26.995Z</td><td>d1b02bc4-f7ba-4ed3-8e0e-73268952cf0f</td><td>clientes_5.csv</td><td>abfss://container-course-databricks-001@sadatabrickscourse001.dfs.core.windows.net/clientes/clientes_5.csv</td><td>2025-09-03T14:48:29Z</td><td>3112</td></tr><tr><td>63</td><td>Maria Perez</td><td>cliente63@correo.com</td><td>Mendoza</td><td>{\"continente\":\"America\",\"_file_path\":\"abfss://container-course-databricks-001@sadatabrickscourse001.dfs.core.windows.net/clientes/clientes_5.csv\"}</td><td>2025-09-03T15:09:26.995Z</td><td>7d4d9e15-018a-483e-a68b-17bce94f2701</td><td>clientes_5.csv</td><td>abfss://container-course-databricks-001@sadatabrickscourse001.dfs.core.windows.net/clientes/clientes_5.csv</td><td>2025-09-03T14:48:29Z</td><td>3112</td></tr><tr><td>64</td><td>Juan Gomez</td><td>cliente64@correo.com</td><td>Barranquilla</td><td>{\"continente\":\"America\",\"_file_path\":\"abfss://container-course-databricks-001@sadatabrickscourse001.dfs.core.windows.net/clientes/clientes_5.csv\"}</td><td>2025-09-03T15:09:26.995Z</td><td>aa7b1875-c6c9-463c-8cd4-2d979cb8e864</td><td>clientes_5.csv</td><td>abfss://container-course-databricks-001@sadatabrickscourse001.dfs.core.windows.net/clientes/clientes_5.csv</td><td>2025-09-03T14:48:29Z</td><td>3112</td></tr><tr><td>65</td><td>Maria Gomez</td><td>cliente65@correo.com</td><td>Lima</td><td>{\"continente\":\"America\",\"_file_path\":\"abfss://container-course-databricks-001@sadatabrickscourse001.dfs.core.windows.net/clientes/clientes_5.csv\"}</td><td>2025-09-03T15:09:26.995Z</td><td>c001205f-4100-4e36-abec-9c76a06bd85f</td><td>clientes_5.csv</td><td>abfss://container-course-databricks-001@sadatabrickscourse001.dfs.core.windows.net/clientes/clientes_5.csv</td><td>2025-09-03T14:48:29Z</td><td>3112</td></tr><tr><td>66</td><td>Juan Perez</td><td>cliente66@correo.com</td><td>Merida</td><td>{\"continente\":\"America\",\"_file_path\":\"abfss://container-course-databricks-001@sadatabrickscourse001.dfs.core.windows.net/clientes/clientes_5.csv\"}</td><td>2025-09-03T15:09:26.995Z</td><td>b4b7a0f7-b86f-421f-aa1b-301301b77134</td><td>clientes_5.csv</td><td>abfss://container-course-databricks-001@sadatabrickscourse001.dfs.core.windows.net/clientes/clientes_5.csv</td><td>2025-09-03T14:48:29Z</td><td>3112</td></tr><tr><td>67</td><td>Maria Gomez</td><td>cliente67@correo.com</td><td>Medellin</td><td>{\"continente\":\"America\",\"_file_path\":\"abfss://container-course-databricks-001@sadatabrickscourse001.dfs.core.windows.net/clientes/clientes_5.csv\"}</td><td>2025-09-03T15:09:26.995Z</td><td>8c820ff9-ad23-4387-b569-b10e6530d0d1</td><td>clientes_5.csv</td><td>abfss://container-course-databricks-001@sadatabrickscourse001.dfs.core.windows.net/clientes/clientes_5.csv</td><td>2025-09-03T14:48:29Z</td><td>3112</td></tr><tr><td>68</td><td>Juan Gomez</td><td>cliente68@correo.com</td><td>Mendoza</td><td>{\"continente\":\"America\",\"_file_path\":\"abfss://container-course-databricks-001@sadatabrickscourse001.dfs.core.windows.net/clientes/clientes_5.csv\"}</td><td>2025-09-03T15:09:26.995Z</td><td>629c936a-a53e-495f-add3-e68b4615523b</td><td>clientes_5.csv</td><td>abfss://container-course-databricks-001@sadatabrickscourse001.dfs.core.windows.net/clientes/clientes_5.csv</td><td>2025-09-03T14:48:29Z</td><td>3112</td></tr><tr><td>69</td><td>Maria Perez</td><td>cliente69@correo.com</td><td>Barranquilla</td><td>{\"continente\":\"America\",\"_file_path\":\"abfss://container-course-databricks-001@sadatabrickscourse001.dfs.core.windows.net/clientes/clientes_5.csv\"}</td><td>2025-09-03T15:09:26.995Z</td><td>820be41c-719b-4547-bf20-82e135b80452</td><td>clientes_5.csv</td><td>abfss://container-course-databricks-001@sadatabrickscourse001.dfs.core.windows.net/clientes/clientes_5.csv</td><td>2025-09-03T14:48:29Z</td><td>3112</td></tr><tr><td>70</td><td>Juan Gomez</td><td>cliente70@correo.com</td><td>Lima</td><td>{\"continente\":\"America\",\"_file_path\":\"abfss://container-course-databricks-001@sadatabrickscourse001.dfs.core.windows.net/clientes/clientes_5.csv\"}</td><td>2025-09-03T15:09:26.995Z</td><td>12feaf5a-c68e-4cf7-80a7-5a755b35a334</td><td>clientes_5.csv</td><td>abfss://container-course-databricks-001@sadatabrickscourse001.dfs.core.windows.net/clientes/clientes_5.csv</td><td>2025-09-03T14:48:29Z</td><td>3112</td></tr><tr><td>71</td><td>Maria Gomez</td><td>cliente71@correo.com</td><td>Merida</td><td>{\"continente\":\"America\",\"_file_path\":\"abfss://container-course-databricks-001@sadatabrickscourse001.dfs.core.windows.net/clientes/clientes_5.csv\"}</td><td>2025-09-03T15:09:26.995Z</td><td>9e05d9c5-346f-4676-b717-446a568a47e1</td><td>clientes_5.csv</td><td>abfss://container-course-databricks-001@sadatabrickscourse001.dfs.core.windows.net/clientes/clientes_5.csv</td><td>2025-09-03T14:48:29Z</td><td>3112</td></tr><tr><td>72</td><td>Juan Perez</td><td>cliente72@correo.com</td><td>Medellin</td><td>{\"continente\":\"America\",\"_file_path\":\"abfss://container-course-databricks-001@sadatabrickscourse001.dfs.core.windows.net/clientes/clientes_5.csv\"}</td><td>2025-09-03T15:09:26.995Z</td><td>e4ed9bd6-439e-4471-a63d-ccf92e39d829</td><td>clientes_5.csv</td><td>abfss://container-course-databricks-001@sadatabrickscourse001.dfs.core.windows.net/clientes/clientes_5.csv</td><td>2025-09-03T14:48:29Z</td><td>3112</td></tr><tr><td>73</td><td>Maria Gomez</td><td>cliente73@correo.com</td><td>Mendoza</td><td>{\"continente\":\"America\",\"_file_path\":\"abfss://container-course-databricks-001@sadatabrickscourse001.dfs.core.windows.net/clientes/clientes_5.csv\"}</td><td>2025-09-03T15:09:26.995Z</td><td>55ca0d9a-1b7a-407a-bb32-c12a2127627f</td><td>clientes_5.csv</td><td>abfss://container-course-databricks-001@sadatabrickscourse001.dfs.core.windows.net/clientes/clientes_5.csv</td><td>2025-09-03T14:48:29Z</td><td>3112</td></tr><tr><td>74</td><td>Juan Gomez</td><td>cliente74@correo.com</td><td>Barranquilla</td><td>{\"continente\":\"America\",\"_file_path\":\"abfss://container-course-databricks-001@sadatabrickscourse001.dfs.core.windows.net/clientes/clientes_5.csv\"}</td><td>2025-09-03T15:09:26.995Z</td><td>cdb10fd1-cae1-4dab-b325-df33ef93b87e</td><td>clientes_5.csv</td><td>abfss://container-course-databricks-001@sadatabrickscourse001.dfs.core.windows.net/clientes/clientes_5.csv</td><td>2025-09-03T14:48:29Z</td><td>3112</td></tr><tr><td>75</td><td>Maria Perez</td><td>cliente75@correo.com</td><td>Lima</td><td>{\"continente\":\"America\",\"_file_path\":\"abfss://container-course-databricks-001@sadatabrickscourse001.dfs.core.windows.net/clientes/clientes_5.csv\"}</td><td>2025-09-03T15:09:26.995Z</td><td>1a72b975-a88d-4363-beeb-0d45b2871393</td><td>clientes_5.csv</td><td>abfss://container-course-databricks-001@sadatabrickscourse001.dfs.core.windows.net/clientes/clientes_5.csv</td><td>2025-09-03T14:48:29Z</td><td>3112</td></tr><tr><td>76</td><td>Juan Gomez</td><td>cliente76@correo.com</td><td>Merida</td><td>{\"continente\":\"America\",\"_file_path\":\"abfss://container-course-databricks-001@sadatabrickscourse001.dfs.core.windows.net/clientes/clientes_5.csv\"}</td><td>2025-09-03T15:09:26.995Z</td><td>fb4b6a4d-163f-4391-9185-3cb76faa3015</td><td>clientes_5.csv</td><td>abfss://container-course-databricks-001@sadatabrickscourse001.dfs.core.windows.net/clientes/clientes_5.csv</td><td>2025-09-03T14:48:29Z</td><td>3112</td></tr><tr><td>77</td><td>Maria Gomez</td><td>cliente77@correo.com</td><td>Medellin</td><td>{\"continente\":\"America\",\"_file_path\":\"abfss://container-course-databricks-001@sadatabrickscourse001.dfs.core.windows.net/clientes/clientes_5.csv\"}</td><td>2025-09-03T15:09:26.995Z</td><td>8bf3330a-8711-4929-8e8e-e4ba77ac3dba</td><td>clientes_5.csv</td><td>abfss://container-course-databricks-001@sadatabrickscourse001.dfs.core.windows.net/clientes/clientes_5.csv</td><td>2025-09-03T14:48:29Z</td><td>3112</td></tr><tr><td>78</td><td>Juan Perez</td><td>cliente78@correo.com</td><td>Mendoza</td><td>{\"continente\":\"America\",\"_file_path\":\"abfss://container-course-databricks-001@sadatabrickscourse001.dfs.core.windows.net/clientes/clientes_5.csv\"}</td><td>2025-09-03T15:09:26.995Z</td><td>a63a5600-6c14-4085-be93-e77fc52f70ea</td><td>clientes_5.csv</td><td>abfss://container-course-databricks-001@sadatabrickscourse001.dfs.core.windows.net/clientes/clientes_5.csv</td><td>2025-09-03T14:48:29Z</td><td>3112</td></tr><tr><td>79</td><td>Maria Gomez</td><td>cliente79@correo.com</td><td>Barranquilla</td><td>{\"continente\":\"America\",\"_file_path\":\"abfss://container-course-databricks-001@sadatabrickscourse001.dfs.core.windows.net/clientes/clientes_5.csv\"}</td><td>2025-09-03T15:09:26.995Z</td><td>c4c50f0c-6b7d-4709-b4f3-010432bc2923</td><td>clientes_5.csv</td><td>abfss://container-course-databricks-001@sadatabrickscourse001.dfs.core.windows.net/clientes/clientes_5.csv</td><td>2025-09-03T14:48:29Z</td><td>3112</td></tr><tr><td>80</td><td>Juan Gomez</td><td>cliente80@correo.com</td><td>Lima</td><td>{\"continente\":\"America\",\"_file_path\":\"abfss://container-course-databricks-001@sadatabrickscourse001.dfs.core.windows.net/clientes/clientes_5.csv\"}</td><td>2025-09-03T15:09:26.995Z</td><td>d20d44af-dd68-481b-9524-e9b3578d9607</td><td>clientes_5.csv</td><td>abfss://container-course-databricks-001@sadatabrickscourse001.dfs.core.windows.net/clientes/clientes_5.csv</td><td>2025-09-03T14:48:29Z</td><td>3112</td></tr><tr><td>81</td><td>Maria Perez</td><td>cliente81@correo.com</td><td>Merida</td><td>{\"continente\":\"America\",\"_file_path\":\"abfss://container-course-databricks-001@sadatabrickscourse001.dfs.core.windows.net/clientes/clientes_5.csv\"}</td><td>2025-09-03T15:09:26.995Z</td><td>59b9dede-b3ec-4323-ac98-ecdfeb219323</td><td>clientes_5.csv</td><td>abfss://container-course-databricks-001@sadatabrickscourse001.dfs.core.windows.net/clientes/clientes_5.csv</td><td>2025-09-03T14:48:29Z</td><td>3112</td></tr><tr><td>82</td><td>Juan Gomez</td><td>cliente82@correo.com</td><td>Medellin</td><td>{\"continente\":\"America\",\"_file_path\":\"abfss://container-course-databricks-001@sadatabrickscourse001.dfs.core.windows.net/clientes/clientes_5.csv\"}</td><td>2025-09-03T15:09:26.995Z</td><td>cbab9e23-bc2a-46f0-8b36-5f4ae690e068</td><td>clientes_5.csv</td><td>abfss://container-course-databricks-001@sadatabrickscourse001.dfs.core.windows.net/clientes/clientes_5.csv</td><td>2025-09-03T14:48:29Z</td><td>3112</td></tr><tr><td>83</td><td>Maria Gomez</td><td>cliente83@correo.com</td><td>Mendoza</td><td>{\"continente\":\"America\",\"_file_path\":\"abfss://container-course-databricks-001@sadatabrickscourse001.dfs.core.windows.net/clientes/clientes_5.csv\"}</td><td>2025-09-03T15:09:26.995Z</td><td>6ca13a00-32fd-4ec2-88b9-a369a4ed2c25</td><td>clientes_5.csv</td><td>abfss://container-course-databricks-001@sadatabrickscourse001.dfs.core.windows.net/clientes/clientes_5.csv</td><td>2025-09-03T14:48:29Z</td><td>3112</td></tr><tr><td>84</td><td>Juan Perez</td><td>cliente84@correo.com</td><td>Barranquilla</td><td>{\"continente\":\"America\",\"_file_path\":\"abfss://container-course-databricks-001@sadatabrickscourse001.dfs.core.windows.net/clientes/clientes_5.csv\"}</td><td>2025-09-03T15:09:26.995Z</td><td>b95bac8b-d3e3-405c-9b0c-8dc315afb9bc</td><td>clientes_5.csv</td><td>abfss://container-course-databricks-001@sadatabrickscourse001.dfs.core.windows.net/clientes/clientes_5.csv</td><td>2025-09-03T14:48:29Z</td><td>3112</td></tr><tr><td>85</td><td>Maria Gomez</td><td>cliente85@correo.com</td><td>Lima</td><td>{\"continente\":\"America\",\"_file_path\":\"abfss://container-course-databricks-001@sadatabrickscourse001.dfs.core.windows.net/clientes/clientes_5.csv\"}</td><td>2025-09-03T15:09:26.995Z</td><td>f3ca7f7f-a214-484e-bf83-128b02e23824</td><td>clientes_5.csv</td><td>abfss://container-course-databricks-001@sadatabrickscourse001.dfs.core.windows.net/clientes/clientes_5.csv</td><td>2025-09-03T14:48:29Z</td><td>3112</td></tr><tr><td>86</td><td>Juan Gomez</td><td>cliente86@correo.com</td><td>Merida</td><td>{\"continente\":\"America\",\"_file_path\":\"abfss://container-course-databricks-001@sadatabrickscourse001.dfs.core.windows.net/clientes/clientes_5.csv\"}</td><td>2025-09-03T15:09:26.995Z</td><td>ca36b412-3e2d-4576-be9b-9f816be7b99f</td><td>clientes_5.csv</td><td>abfss://container-course-databricks-001@sadatabrickscourse001.dfs.core.windows.net/clientes/clientes_5.csv</td><td>2025-09-03T14:48:29Z</td><td>3112</td></tr><tr><td>87</td><td>Maria Perez</td><td>cliente87@correo.com</td><td>Medellin</td><td>{\"continente\":\"America\",\"_file_path\":\"abfss://container-course-databricks-001@sadatabrickscourse001.dfs.core.windows.net/clientes/clientes_5.csv\"}</td><td>2025-09-03T15:09:26.995Z</td><td>5ad2ae64-8e2d-47b2-8418-49a9c8aa5382</td><td>clientes_5.csv</td><td>abfss://container-course-databricks-001@sadatabrickscourse001.dfs.core.windows.net/clientes/clientes_5.csv</td><td>2025-09-03T14:48:29Z</td><td>3112</td></tr><tr><td>88</td><td>Juan Gomez</td><td>cliente88@correo.com</td><td>Mendoza</td><td>{\"continente\":\"America\",\"_file_path\":\"abfss://container-course-databricks-001@sadatabrickscourse001.dfs.core.windows.net/clientes/clientes_5.csv\"}</td><td>2025-09-03T15:09:26.995Z</td><td>6b2be03c-62a3-4d74-b482-f24f902be1e4</td><td>clientes_5.csv</td><td>abfss://container-course-databricks-001@sadatabrickscourse001.dfs.core.windows.net/clientes/clientes_5.csv</td><td>2025-09-03T14:48:29Z</td><td>3112</td></tr><tr><td>89</td><td>Maria Gomez</td><td>cliente89@correo.com</td><td>Barranquilla</td><td>{\"continente\":\"America\",\"_file_path\":\"abfss://container-course-databricks-001@sadatabrickscourse001.dfs.core.windows.net/clientes/clientes_5.csv\"}</td><td>2025-09-03T15:09:26.995Z</td><td>3c214386-f305-4e93-89b6-316ed7038acc</td><td>clientes_5.csv</td><td>abfss://container-course-databricks-001@sadatabrickscourse001.dfs.core.windows.net/clientes/clientes_5.csv</td><td>2025-09-03T14:48:29Z</td><td>3112</td></tr><tr><td>90</td><td>Juan Perez</td><td>cliente90@correo.com</td><td>Lima</td><td>{\"continente\":\"America\",\"_file_path\":\"abfss://container-course-databricks-001@sadatabrickscourse001.dfs.core.windows.net/clientes/clientes_5.csv\"}</td><td>2025-09-03T15:09:26.995Z</td><td>9b813b7a-bf16-4248-88cb-10e5de48d7ff</td><td>clientes_5.csv</td><td>abfss://container-course-databricks-001@sadatabrickscourse001.dfs.core.windows.net/clientes/clientes_5.csv</td><td>2025-09-03T14:48:29Z</td><td>3112</td></tr><tr><td>91</td><td>Maria Gomez</td><td>cliente91@correo.com</td><td>Merida</td><td>{\"continente\":\"America\",\"_file_path\":\"abfss://container-course-databricks-001@sadatabrickscourse001.dfs.core.windows.net/clientes/clientes_5.csv\"}</td><td>2025-09-03T15:09:26.995Z</td><td>b00b3922-4de8-43ae-afa2-846f4c84d784</td><td>clientes_5.csv</td><td>abfss://container-course-databricks-001@sadatabrickscourse001.dfs.core.windows.net/clientes/clientes_5.csv</td><td>2025-09-03T14:48:29Z</td><td>3112</td></tr><tr><td>92</td><td>Juan Gomez</td><td>cliente92@correo.com</td><td>Medellin</td><td>{\"continente\":\"America\",\"_file_path\":\"abfss://container-course-databricks-001@sadatabrickscourse001.dfs.core.windows.net/clientes/clientes_5.csv\"}</td><td>2025-09-03T15:09:26.995Z</td><td>e3718f7a-71b9-4512-9dbc-1ffab3342d9c</td><td>clientes_5.csv</td><td>abfss://container-course-databricks-001@sadatabrickscourse001.dfs.core.windows.net/clientes/clientes_5.csv</td><td>2025-09-03T14:48:29Z</td><td>3112</td></tr><tr><td>93</td><td>Maria Perez</td><td>cliente93@correo.com</td><td>Mendoza</td><td>{\"continente\":\"America\",\"_file_path\":\"abfss://container-course-databricks-001@sadatabrickscourse001.dfs.core.windows.net/clientes/clientes_5.csv\"}</td><td>2025-09-03T15:09:26.995Z</td><td>445438e1-a85d-43c3-9921-ffbff4e851a0</td><td>clientes_5.csv</td><td>abfss://container-course-databricks-001@sadatabrickscourse001.dfs.core.windows.net/clientes/clientes_5.csv</td><td>2025-09-03T14:48:29Z</td><td>3112</td></tr><tr><td>94</td><td>Juan Gomez</td><td>cliente94@correo.com</td><td>Barranquilla</td><td>{\"continente\":\"America\",\"_file_path\":\"abfss://container-course-databricks-001@sadatabrickscourse001.dfs.core.windows.net/clientes/clientes_5.csv\"}</td><td>2025-09-03T15:09:26.995Z</td><td>baa7ed69-d21b-4a25-ab40-153f329eb1fa</td><td>clientes_5.csv</td><td>abfss://container-course-databricks-001@sadatabrickscourse001.dfs.core.windows.net/clientes/clientes_5.csv</td><td>2025-09-03T14:48:29Z</td><td>3112</td></tr><tr><td>95</td><td>Maria Gomez</td><td>cliente95@correo.com</td><td>Lima</td><td>{\"continente\":\"America\",\"_file_path\":\"abfss://container-course-databricks-001@sadatabrickscourse001.dfs.core.windows.net/clientes/clientes_5.csv\"}</td><td>2025-09-03T15:09:26.995Z</td><td>77700bb8-b42e-4316-afa4-d76aa3c23fbd</td><td>clientes_5.csv</td><td>abfss://container-course-databricks-001@sadatabrickscourse001.dfs.core.windows.net/clientes/clientes_5.csv</td><td>2025-09-03T14:48:29Z</td><td>3112</td></tr><tr><td>96</td><td>Juan Perez</td><td>cliente96@correo.com</td><td>Merida</td><td>{\"continente\":\"America\",\"_file_path\":\"abfss://container-course-databricks-001@sadatabrickscourse001.dfs.core.windows.net/clientes/clientes_5.csv\"}</td><td>2025-09-03T15:09:26.995Z</td><td>5482249f-9a64-4a52-883e-928fea4f2079</td><td>clientes_5.csv</td><td>abfss://container-course-databricks-001@sadatabrickscourse001.dfs.core.windows.net/clientes/clientes_5.csv</td><td>2025-09-03T14:48:29Z</td><td>3112</td></tr><tr><td>97</td><td>Maria Gomez</td><td>cliente97@correo.com</td><td>Medellin</td><td>{\"continente\":\"America\",\"_file_path\":\"abfss://container-course-databricks-001@sadatabrickscourse001.dfs.core.windows.net/clientes/clientes_5.csv\"}</td><td>2025-09-03T15:09:26.995Z</td><td>343389b3-579b-4efd-9555-7611feeaf6b6</td><td>clientes_5.csv</td><td>abfss://container-course-databricks-001@sadatabrickscourse001.dfs.core.windows.net/clientes/clientes_5.csv</td><td>2025-09-03T14:48:29Z</td><td>3112</td></tr><tr><td>98</td><td>Juan Gomez</td><td>cliente98@correo.com</td><td>Mendoza</td><td>{\"continente\":\"America\",\"_file_path\":\"abfss://container-course-databricks-001@sadatabrickscourse001.dfs.core.windows.net/clientes/clientes_5.csv\"}</td><td>2025-09-03T15:09:26.995Z</td><td>1c2e82dc-8e17-49bc-8283-60f237a5cafa</td><td>clientes_5.csv</td><td>abfss://container-course-databricks-001@sadatabrickscourse001.dfs.core.windows.net/clientes/clientes_5.csv</td><td>2025-09-03T14:48:29Z</td><td>3112</td></tr><tr><td>99</td><td>Maria Perez</td><td>cliente99@correo.com</td><td>Barranquilla</td><td>{\"continente\":\"America\",\"_file_path\":\"abfss://container-course-databricks-001@sadatabrickscourse001.dfs.core.windows.net/clientes/clientes_5.csv\"}</td><td>2025-09-03T15:09:26.995Z</td><td>a90785c5-2b14-4c91-a889-f7c27a487760</td><td>clientes_5.csv</td><td>abfss://container-course-databricks-001@sadatabrickscourse001.dfs.core.windows.net/clientes/clientes_5.csv</td><td>2025-09-03T14:48:29Z</td><td>3112</td></tr></tbody></table></div>"
      ]
     },
     "metadata": {
      "application/vnd.databricks.v1+output": {
       "addedWidgets": {},
       "aggData": [],
       "aggError": "",
       "aggOverflow": false,
       "aggSchema": [],
       "aggSeriesLimitReached": false,
       "aggType": "",
       "arguments": {},
       "columnCustomDisplayInfos": {},
       "data": [
        [
         "100",
         "Juan Gomez",
         "cliente100@correo.com",
         "Lima",
         "{\"continente\":\"Asia\",\"_file_path\":\"abfss://container-course-databricks-001@sadatabrickscourse001.dfs.core.windows.net/clientes/clientes_5.csv\"}",
         "2025-09-03T15:09:26.995Z",
         "f291160e-d96c-4630-b7c9-f490ad74a0f8",
         "clientes_5.csv",
         "abfss://container-course-databricks-001@sadatabrickscourse001.dfs.core.windows.net/clientes/clientes_5.csv",
         "2025-09-03T14:48:29Z",
         3112
        ],
        [
         "43",
         "Maria Gomez",
         "cliente43@correo.com",
         "Mendoza",
         "{\"continente\":\"America\",\"_file_path\":\"abfss://container-course-databricks-001@sadatabrickscourse001.dfs.core.windows.net/clientes/clientes_5.csv\"}",
         "2025-09-03T15:09:26.995Z",
         "2a70cc1b-9f41-4cb5-aef9-76c64bfa4cd9",
         "clientes_5.csv",
         "abfss://container-course-databricks-001@sadatabrickscourse001.dfs.core.windows.net/clientes/clientes_5.csv",
         "2025-09-03T14:48:29Z",
         3112
        ],
        [
         "44",
         "Juan Gomez",
         "cliente44@correo.com",
         "Barranquilla",
         "{\"continente\":\"America\",\"_file_path\":\"abfss://container-course-databricks-001@sadatabrickscourse001.dfs.core.windows.net/clientes/clientes_5.csv\"}",
         "2025-09-03T15:09:26.995Z",
         "9c5284ec-7e84-4266-889a-6c4de7aeb7cf",
         "clientes_5.csv",
         "abfss://container-course-databricks-001@sadatabrickscourse001.dfs.core.windows.net/clientes/clientes_5.csv",
         "2025-09-03T14:48:29Z",
         3112
        ],
        [
         "45",
         "Maria Perez",
         "cliente45@correo.com",
         "Lima",
         "{\"continente\":\"America\",\"_file_path\":\"abfss://container-course-databricks-001@sadatabrickscourse001.dfs.core.windows.net/clientes/clientes_5.csv\"}",
         "2025-09-03T15:09:26.995Z",
         "8d5185d0-0ddc-42e9-ab39-f4dc98461c6e",
         "clientes_5.csv",
         "abfss://container-course-databricks-001@sadatabrickscourse001.dfs.core.windows.net/clientes/clientes_5.csv",
         "2025-09-03T14:48:29Z",
         3112
        ],
        [
         "46",
         "Juan Gomez",
         "cliente46@correo.com",
         "Merida",
         "{\"continente\":\"America\",\"_file_path\":\"abfss://container-course-databricks-001@sadatabrickscourse001.dfs.core.windows.net/clientes/clientes_5.csv\"}",
         "2025-09-03T15:09:26.995Z",
         "d4b23198-cd86-4416-846f-d702e865dc62",
         "clientes_5.csv",
         "abfss://container-course-databricks-001@sadatabrickscourse001.dfs.core.windows.net/clientes/clientes_5.csv",
         "2025-09-03T14:48:29Z",
         3112
        ],
        [
         "47",
         "Maria Gomez",
         "cliente47@correo.com",
         "Medellin",
         "{\"continente\":\"America\",\"_file_path\":\"abfss://container-course-databricks-001@sadatabrickscourse001.dfs.core.windows.net/clientes/clientes_5.csv\"}",
         "2025-09-03T15:09:26.995Z",
         "9397a7f0-4ece-4b3d-86d9-d50011f931fd",
         "clientes_5.csv",
         "abfss://container-course-databricks-001@sadatabrickscourse001.dfs.core.windows.net/clientes/clientes_5.csv",
         "2025-09-03T14:48:29Z",
         3112
        ],
        [
         "48",
         "Juan Perez",
         "cliente48@correo.com",
         "Mendoza",
         "{\"continente\":\"America\",\"_file_path\":\"abfss://container-course-databricks-001@sadatabrickscourse001.dfs.core.windows.net/clientes/clientes_5.csv\"}",
         "2025-09-03T15:09:26.995Z",
         "28b6b6b9-2ce3-4df8-97e7-4f442765cb66",
         "clientes_5.csv",
         "abfss://container-course-databricks-001@sadatabrickscourse001.dfs.core.windows.net/clientes/clientes_5.csv",
         "2025-09-03T14:48:29Z",
         3112
        ],
        [
         "49",
         "Maria Gomez",
         "cliente49@correo.com",
         "Barranquilla",
         "{\"continente\":\"America\",\"_file_path\":\"abfss://container-course-databricks-001@sadatabrickscourse001.dfs.core.windows.net/clientes/clientes_5.csv\"}",
         "2025-09-03T15:09:26.995Z",
         "e6d92430-bab1-4a05-bea8-22c5fab29ef2",
         "clientes_5.csv",
         "abfss://container-course-databricks-001@sadatabrickscourse001.dfs.core.windows.net/clientes/clientes_5.csv",
         "2025-09-03T14:48:29Z",
         3112
        ],
        [
         "50",
         "Juan Gomez",
         "cliente50@correo.com",
         "Lima",
         "{\"continente\":\"America\",\"_file_path\":\"abfss://container-course-databricks-001@sadatabrickscourse001.dfs.core.windows.net/clientes/clientes_5.csv\"}",
         "2025-09-03T15:09:26.995Z",
         "07f1ba65-bcf0-4933-b85a-c2b8abedf8fd",
         "clientes_5.csv",
         "abfss://container-course-databricks-001@sadatabrickscourse001.dfs.core.windows.net/clientes/clientes_5.csv",
         "2025-09-03T14:48:29Z",
         3112
        ],
        [
         "51",
         "Maria Perez",
         "cliente51@correo.com",
         "Merida",
         "{\"continente\":\"America\",\"_file_path\":\"abfss://container-course-databricks-001@sadatabrickscourse001.dfs.core.windows.net/clientes/clientes_5.csv\"}",
         "2025-09-03T15:09:26.995Z",
         "1055aeae-3fc5-464e-b467-2a9071ccfec9",
         "clientes_5.csv",
         "abfss://container-course-databricks-001@sadatabrickscourse001.dfs.core.windows.net/clientes/clientes_5.csv",
         "2025-09-03T14:48:29Z",
         3112
        ],
        [
         "52",
         "Juan Gomez",
         "cliente52@correo.com",
         "Medellin",
         "{\"continente\":\"America\",\"_file_path\":\"abfss://container-course-databricks-001@sadatabrickscourse001.dfs.core.windows.net/clientes/clientes_5.csv\"}",
         "2025-09-03T15:09:26.995Z",
         "d3355446-6a88-4063-9e28-a5fdcb8447e6",
         "clientes_5.csv",
         "abfss://container-course-databricks-001@sadatabrickscourse001.dfs.core.windows.net/clientes/clientes_5.csv",
         "2025-09-03T14:48:29Z",
         3112
        ],
        [
         "53",
         "Maria Gomez",
         "cliente53@correo.com",
         "Mendoza",
         "{\"continente\":\"America\",\"_file_path\":\"abfss://container-course-databricks-001@sadatabrickscourse001.dfs.core.windows.net/clientes/clientes_5.csv\"}",
         "2025-09-03T15:09:26.995Z",
         "13952f34-9a58-4409-acb2-08e5184be631",
         "clientes_5.csv",
         "abfss://container-course-databricks-001@sadatabrickscourse001.dfs.core.windows.net/clientes/clientes_5.csv",
         "2025-09-03T14:48:29Z",
         3112
        ],
        [
         "54",
         "Juan Perez",
         "cliente54@correo.com",
         "Barranquilla",
         "{\"continente\":\"America\",\"_file_path\":\"abfss://container-course-databricks-001@sadatabrickscourse001.dfs.core.windows.net/clientes/clientes_5.csv\"}",
         "2025-09-03T15:09:26.995Z",
         "bab74e70-224d-43a1-8c47-51a612087e38",
         "clientes_5.csv",
         "abfss://container-course-databricks-001@sadatabrickscourse001.dfs.core.windows.net/clientes/clientes_5.csv",
         "2025-09-03T14:48:29Z",
         3112
        ],
        [
         "55",
         "Maria Gomez",
         "cliente55@correo.com",
         "Lima",
         "{\"continente\":\"America\",\"_file_path\":\"abfss://container-course-databricks-001@sadatabrickscourse001.dfs.core.windows.net/clientes/clientes_5.csv\"}",
         "2025-09-03T15:09:26.995Z",
         "390a04f9-91dd-406e-b271-7d0358d1ba03",
         "clientes_5.csv",
         "abfss://container-course-databricks-001@sadatabrickscourse001.dfs.core.windows.net/clientes/clientes_5.csv",
         "2025-09-03T14:48:29Z",
         3112
        ],
        [
         "56",
         "Juan Gomez",
         "cliente56@correo.com",
         "Merida",
         "{\"continente\":\"America\",\"_file_path\":\"abfss://container-course-databricks-001@sadatabrickscourse001.dfs.core.windows.net/clientes/clientes_5.csv\"}",
         "2025-09-03T15:09:26.995Z",
         "8058a597-8a12-40f5-889b-3009810cac6a",
         "clientes_5.csv",
         "abfss://container-course-databricks-001@sadatabrickscourse001.dfs.core.windows.net/clientes/clientes_5.csv",
         "2025-09-03T14:48:29Z",
         3112
        ],
        [
         "57",
         "Maria Perez",
         "cliente57@correo.com",
         "Medellin",
         "{\"continente\":\"America\",\"_file_path\":\"abfss://container-course-databricks-001@sadatabrickscourse001.dfs.core.windows.net/clientes/clientes_5.csv\"}",
         "2025-09-03T15:09:26.995Z",
         "2ef40812-1950-4dae-9319-04bc8f9e0832",
         "clientes_5.csv",
         "abfss://container-course-databricks-001@sadatabrickscourse001.dfs.core.windows.net/clientes/clientes_5.csv",
         "2025-09-03T14:48:29Z",
         3112
        ],
        [
         "58",
         "Juan Gomez",
         "cliente58@correo.com",
         "Mendoza",
         "{\"continente\":\"America\",\"_file_path\":\"abfss://container-course-databricks-001@sadatabrickscourse001.dfs.core.windows.net/clientes/clientes_5.csv\"}",
         "2025-09-03T15:09:26.995Z",
         "6f2f8fe5-f946-4eef-862b-ec67efce8a19",
         "clientes_5.csv",
         "abfss://container-course-databricks-001@sadatabrickscourse001.dfs.core.windows.net/clientes/clientes_5.csv",
         "2025-09-03T14:48:29Z",
         3112
        ],
        [
         "59",
         "Maria Gomez",
         "cliente59@correo.com",
         "Barranquilla",
         "{\"continente\":\"America\",\"_file_path\":\"abfss://container-course-databricks-001@sadatabrickscourse001.dfs.core.windows.net/clientes/clientes_5.csv\"}",
         "2025-09-03T15:09:26.995Z",
         "868c91a7-2e62-4594-85f2-04765aabc935",
         "clientes_5.csv",
         "abfss://container-course-databricks-001@sadatabrickscourse001.dfs.core.windows.net/clientes/clientes_5.csv",
         "2025-09-03T14:48:29Z",
         3112
        ],
        [
         "60",
         "Juan Perez",
         "cliente60@correo.com",
         "Lima",
         "{\"continente\":\"America\",\"_file_path\":\"abfss://container-course-databricks-001@sadatabrickscourse001.dfs.core.windows.net/clientes/clientes_5.csv\"}",
         "2025-09-03T15:09:26.995Z",
         "4dac6e6f-e20f-442c-a1e4-2a85ce294522",
         "clientes_5.csv",
         "abfss://container-course-databricks-001@sadatabrickscourse001.dfs.core.windows.net/clientes/clientes_5.csv",
         "2025-09-03T14:48:29Z",
         3112
        ],
        [
         "61",
         "Maria Gomez",
         "cliente61@correo.com",
         "Merida",
         "{\"continente\":\"America\",\"_file_path\":\"abfss://container-course-databricks-001@sadatabrickscourse001.dfs.core.windows.net/clientes/clientes_5.csv\"}",
         "2025-09-03T15:09:26.995Z",
         "70e45b47-3f6a-4cf9-a896-bb3ebd358ab7",
         "clientes_5.csv",
         "abfss://container-course-databricks-001@sadatabrickscourse001.dfs.core.windows.net/clientes/clientes_5.csv",
         "2025-09-03T14:48:29Z",
         3112
        ],
        [
         "62",
         "Juan Gomez",
         "cliente62@correo.com",
         "Medellin",
         "{\"continente\":\"America\",\"_file_path\":\"abfss://container-course-databricks-001@sadatabrickscourse001.dfs.core.windows.net/clientes/clientes_5.csv\"}",
         "2025-09-03T15:09:26.995Z",
         "d1b02bc4-f7ba-4ed3-8e0e-73268952cf0f",
         "clientes_5.csv",
         "abfss://container-course-databricks-001@sadatabrickscourse001.dfs.core.windows.net/clientes/clientes_5.csv",
         "2025-09-03T14:48:29Z",
         3112
        ],
        [
         "63",
         "Maria Perez",
         "cliente63@correo.com",
         "Mendoza",
         "{\"continente\":\"America\",\"_file_path\":\"abfss://container-course-databricks-001@sadatabrickscourse001.dfs.core.windows.net/clientes/clientes_5.csv\"}",
         "2025-09-03T15:09:26.995Z",
         "7d4d9e15-018a-483e-a68b-17bce94f2701",
         "clientes_5.csv",
         "abfss://container-course-databricks-001@sadatabrickscourse001.dfs.core.windows.net/clientes/clientes_5.csv",
         "2025-09-03T14:48:29Z",
         3112
        ],
        [
         "64",
         "Juan Gomez",
         "cliente64@correo.com",
         "Barranquilla",
         "{\"continente\":\"America\",\"_file_path\":\"abfss://container-course-databricks-001@sadatabrickscourse001.dfs.core.windows.net/clientes/clientes_5.csv\"}",
         "2025-09-03T15:09:26.995Z",
         "aa7b1875-c6c9-463c-8cd4-2d979cb8e864",
         "clientes_5.csv",
         "abfss://container-course-databricks-001@sadatabrickscourse001.dfs.core.windows.net/clientes/clientes_5.csv",
         "2025-09-03T14:48:29Z",
         3112
        ],
        [
         "65",
         "Maria Gomez",
         "cliente65@correo.com",
         "Lima",
         "{\"continente\":\"America\",\"_file_path\":\"abfss://container-course-databricks-001@sadatabrickscourse001.dfs.core.windows.net/clientes/clientes_5.csv\"}",
         "2025-09-03T15:09:26.995Z",
         "c001205f-4100-4e36-abec-9c76a06bd85f",
         "clientes_5.csv",
         "abfss://container-course-databricks-001@sadatabrickscourse001.dfs.core.windows.net/clientes/clientes_5.csv",
         "2025-09-03T14:48:29Z",
         3112
        ],
        [
         "66",
         "Juan Perez",
         "cliente66@correo.com",
         "Merida",
         "{\"continente\":\"America\",\"_file_path\":\"abfss://container-course-databricks-001@sadatabrickscourse001.dfs.core.windows.net/clientes/clientes_5.csv\"}",
         "2025-09-03T15:09:26.995Z",
         "b4b7a0f7-b86f-421f-aa1b-301301b77134",
         "clientes_5.csv",
         "abfss://container-course-databricks-001@sadatabrickscourse001.dfs.core.windows.net/clientes/clientes_5.csv",
         "2025-09-03T14:48:29Z",
         3112
        ],
        [
         "67",
         "Maria Gomez",
         "cliente67@correo.com",
         "Medellin",
         "{\"continente\":\"America\",\"_file_path\":\"abfss://container-course-databricks-001@sadatabrickscourse001.dfs.core.windows.net/clientes/clientes_5.csv\"}",
         "2025-09-03T15:09:26.995Z",
         "8c820ff9-ad23-4387-b569-b10e6530d0d1",
         "clientes_5.csv",
         "abfss://container-course-databricks-001@sadatabrickscourse001.dfs.core.windows.net/clientes/clientes_5.csv",
         "2025-09-03T14:48:29Z",
         3112
        ],
        [
         "68",
         "Juan Gomez",
         "cliente68@correo.com",
         "Mendoza",
         "{\"continente\":\"America\",\"_file_path\":\"abfss://container-course-databricks-001@sadatabrickscourse001.dfs.core.windows.net/clientes/clientes_5.csv\"}",
         "2025-09-03T15:09:26.995Z",
         "629c936a-a53e-495f-add3-e68b4615523b",
         "clientes_5.csv",
         "abfss://container-course-databricks-001@sadatabrickscourse001.dfs.core.windows.net/clientes/clientes_5.csv",
         "2025-09-03T14:48:29Z",
         3112
        ],
        [
         "69",
         "Maria Perez",
         "cliente69@correo.com",
         "Barranquilla",
         "{\"continente\":\"America\",\"_file_path\":\"abfss://container-course-databricks-001@sadatabrickscourse001.dfs.core.windows.net/clientes/clientes_5.csv\"}",
         "2025-09-03T15:09:26.995Z",
         "820be41c-719b-4547-bf20-82e135b80452",
         "clientes_5.csv",
         "abfss://container-course-databricks-001@sadatabrickscourse001.dfs.core.windows.net/clientes/clientes_5.csv",
         "2025-09-03T14:48:29Z",
         3112
        ],
        [
         "70",
         "Juan Gomez",
         "cliente70@correo.com",
         "Lima",
         "{\"continente\":\"America\",\"_file_path\":\"abfss://container-course-databricks-001@sadatabrickscourse001.dfs.core.windows.net/clientes/clientes_5.csv\"}",
         "2025-09-03T15:09:26.995Z",
         "12feaf5a-c68e-4cf7-80a7-5a755b35a334",
         "clientes_5.csv",
         "abfss://container-course-databricks-001@sadatabrickscourse001.dfs.core.windows.net/clientes/clientes_5.csv",
         "2025-09-03T14:48:29Z",
         3112
        ],
        [
         "71",
         "Maria Gomez",
         "cliente71@correo.com",
         "Merida",
         "{\"continente\":\"America\",\"_file_path\":\"abfss://container-course-databricks-001@sadatabrickscourse001.dfs.core.windows.net/clientes/clientes_5.csv\"}",
         "2025-09-03T15:09:26.995Z",
         "9e05d9c5-346f-4676-b717-446a568a47e1",
         "clientes_5.csv",
         "abfss://container-course-databricks-001@sadatabrickscourse001.dfs.core.windows.net/clientes/clientes_5.csv",
         "2025-09-03T14:48:29Z",
         3112
        ],
        [
         "72",
         "Juan Perez",
         "cliente72@correo.com",
         "Medellin",
         "{\"continente\":\"America\",\"_file_path\":\"abfss://container-course-databricks-001@sadatabrickscourse001.dfs.core.windows.net/clientes/clientes_5.csv\"}",
         "2025-09-03T15:09:26.995Z",
         "e4ed9bd6-439e-4471-a63d-ccf92e39d829",
         "clientes_5.csv",
         "abfss://container-course-databricks-001@sadatabrickscourse001.dfs.core.windows.net/clientes/clientes_5.csv",
         "2025-09-03T14:48:29Z",
         3112
        ],
        [
         "73",
         "Maria Gomez",
         "cliente73@correo.com",
         "Mendoza",
         "{\"continente\":\"America\",\"_file_path\":\"abfss://container-course-databricks-001@sadatabrickscourse001.dfs.core.windows.net/clientes/clientes_5.csv\"}",
         "2025-09-03T15:09:26.995Z",
         "55ca0d9a-1b7a-407a-bb32-c12a2127627f",
         "clientes_5.csv",
         "abfss://container-course-databricks-001@sadatabrickscourse001.dfs.core.windows.net/clientes/clientes_5.csv",
         "2025-09-03T14:48:29Z",
         3112
        ],
        [
         "74",
         "Juan Gomez",
         "cliente74@correo.com",
         "Barranquilla",
         "{\"continente\":\"America\",\"_file_path\":\"abfss://container-course-databricks-001@sadatabrickscourse001.dfs.core.windows.net/clientes/clientes_5.csv\"}",
         "2025-09-03T15:09:26.995Z",
         "cdb10fd1-cae1-4dab-b325-df33ef93b87e",
         "clientes_5.csv",
         "abfss://container-course-databricks-001@sadatabrickscourse001.dfs.core.windows.net/clientes/clientes_5.csv",
         "2025-09-03T14:48:29Z",
         3112
        ],
        [
         "75",
         "Maria Perez",
         "cliente75@correo.com",
         "Lima",
         "{\"continente\":\"America\",\"_file_path\":\"abfss://container-course-databricks-001@sadatabrickscourse001.dfs.core.windows.net/clientes/clientes_5.csv\"}",
         "2025-09-03T15:09:26.995Z",
         "1a72b975-a88d-4363-beeb-0d45b2871393",
         "clientes_5.csv",
         "abfss://container-course-databricks-001@sadatabrickscourse001.dfs.core.windows.net/clientes/clientes_5.csv",
         "2025-09-03T14:48:29Z",
         3112
        ],
        [
         "76",
         "Juan Gomez",
         "cliente76@correo.com",
         "Merida",
         "{\"continente\":\"America\",\"_file_path\":\"abfss://container-course-databricks-001@sadatabrickscourse001.dfs.core.windows.net/clientes/clientes_5.csv\"}",
         "2025-09-03T15:09:26.995Z",
         "fb4b6a4d-163f-4391-9185-3cb76faa3015",
         "clientes_5.csv",
         "abfss://container-course-databricks-001@sadatabrickscourse001.dfs.core.windows.net/clientes/clientes_5.csv",
         "2025-09-03T14:48:29Z",
         3112
        ],
        [
         "77",
         "Maria Gomez",
         "cliente77@correo.com",
         "Medellin",
         "{\"continente\":\"America\",\"_file_path\":\"abfss://container-course-databricks-001@sadatabrickscourse001.dfs.core.windows.net/clientes/clientes_5.csv\"}",
         "2025-09-03T15:09:26.995Z",
         "8bf3330a-8711-4929-8e8e-e4ba77ac3dba",
         "clientes_5.csv",
         "abfss://container-course-databricks-001@sadatabrickscourse001.dfs.core.windows.net/clientes/clientes_5.csv",
         "2025-09-03T14:48:29Z",
         3112
        ],
        [
         "78",
         "Juan Perez",
         "cliente78@correo.com",
         "Mendoza",
         "{\"continente\":\"America\",\"_file_path\":\"abfss://container-course-databricks-001@sadatabrickscourse001.dfs.core.windows.net/clientes/clientes_5.csv\"}",
         "2025-09-03T15:09:26.995Z",
         "a63a5600-6c14-4085-be93-e77fc52f70ea",
         "clientes_5.csv",
         "abfss://container-course-databricks-001@sadatabrickscourse001.dfs.core.windows.net/clientes/clientes_5.csv",
         "2025-09-03T14:48:29Z",
         3112
        ],
        [
         "79",
         "Maria Gomez",
         "cliente79@correo.com",
         "Barranquilla",
         "{\"continente\":\"America\",\"_file_path\":\"abfss://container-course-databricks-001@sadatabrickscourse001.dfs.core.windows.net/clientes/clientes_5.csv\"}",
         "2025-09-03T15:09:26.995Z",
         "c4c50f0c-6b7d-4709-b4f3-010432bc2923",
         "clientes_5.csv",
         "abfss://container-course-databricks-001@sadatabrickscourse001.dfs.core.windows.net/clientes/clientes_5.csv",
         "2025-09-03T14:48:29Z",
         3112
        ],
        [
         "80",
         "Juan Gomez",
         "cliente80@correo.com",
         "Lima",
         "{\"continente\":\"America\",\"_file_path\":\"abfss://container-course-databricks-001@sadatabrickscourse001.dfs.core.windows.net/clientes/clientes_5.csv\"}",
         "2025-09-03T15:09:26.995Z",
         "d20d44af-dd68-481b-9524-e9b3578d9607",
         "clientes_5.csv",
         "abfss://container-course-databricks-001@sadatabrickscourse001.dfs.core.windows.net/clientes/clientes_5.csv",
         "2025-09-03T14:48:29Z",
         3112
        ],
        [
         "81",
         "Maria Perez",
         "cliente81@correo.com",
         "Merida",
         "{\"continente\":\"America\",\"_file_path\":\"abfss://container-course-databricks-001@sadatabrickscourse001.dfs.core.windows.net/clientes/clientes_5.csv\"}",
         "2025-09-03T15:09:26.995Z",
         "59b9dede-b3ec-4323-ac98-ecdfeb219323",
         "clientes_5.csv",
         "abfss://container-course-databricks-001@sadatabrickscourse001.dfs.core.windows.net/clientes/clientes_5.csv",
         "2025-09-03T14:48:29Z",
         3112
        ],
        [
         "82",
         "Juan Gomez",
         "cliente82@correo.com",
         "Medellin",
         "{\"continente\":\"America\",\"_file_path\":\"abfss://container-course-databricks-001@sadatabrickscourse001.dfs.core.windows.net/clientes/clientes_5.csv\"}",
         "2025-09-03T15:09:26.995Z",
         "cbab9e23-bc2a-46f0-8b36-5f4ae690e068",
         "clientes_5.csv",
         "abfss://container-course-databricks-001@sadatabrickscourse001.dfs.core.windows.net/clientes/clientes_5.csv",
         "2025-09-03T14:48:29Z",
         3112
        ],
        [
         "83",
         "Maria Gomez",
         "cliente83@correo.com",
         "Mendoza",
         "{\"continente\":\"America\",\"_file_path\":\"abfss://container-course-databricks-001@sadatabrickscourse001.dfs.core.windows.net/clientes/clientes_5.csv\"}",
         "2025-09-03T15:09:26.995Z",
         "6ca13a00-32fd-4ec2-88b9-a369a4ed2c25",
         "clientes_5.csv",
         "abfss://container-course-databricks-001@sadatabrickscourse001.dfs.core.windows.net/clientes/clientes_5.csv",
         "2025-09-03T14:48:29Z",
         3112
        ],
        [
         "84",
         "Juan Perez",
         "cliente84@correo.com",
         "Barranquilla",
         "{\"continente\":\"America\",\"_file_path\":\"abfss://container-course-databricks-001@sadatabrickscourse001.dfs.core.windows.net/clientes/clientes_5.csv\"}",
         "2025-09-03T15:09:26.995Z",
         "b95bac8b-d3e3-405c-9b0c-8dc315afb9bc",
         "clientes_5.csv",
         "abfss://container-course-databricks-001@sadatabrickscourse001.dfs.core.windows.net/clientes/clientes_5.csv",
         "2025-09-03T14:48:29Z",
         3112
        ],
        [
         "85",
         "Maria Gomez",
         "cliente85@correo.com",
         "Lima",
         "{\"continente\":\"America\",\"_file_path\":\"abfss://container-course-databricks-001@sadatabrickscourse001.dfs.core.windows.net/clientes/clientes_5.csv\"}",
         "2025-09-03T15:09:26.995Z",
         "f3ca7f7f-a214-484e-bf83-128b02e23824",
         "clientes_5.csv",
         "abfss://container-course-databricks-001@sadatabrickscourse001.dfs.core.windows.net/clientes/clientes_5.csv",
         "2025-09-03T14:48:29Z",
         3112
        ],
        [
         "86",
         "Juan Gomez",
         "cliente86@correo.com",
         "Merida",
         "{\"continente\":\"America\",\"_file_path\":\"abfss://container-course-databricks-001@sadatabrickscourse001.dfs.core.windows.net/clientes/clientes_5.csv\"}",
         "2025-09-03T15:09:26.995Z",
         "ca36b412-3e2d-4576-be9b-9f816be7b99f",
         "clientes_5.csv",
         "abfss://container-course-databricks-001@sadatabrickscourse001.dfs.core.windows.net/clientes/clientes_5.csv",
         "2025-09-03T14:48:29Z",
         3112
        ],
        [
         "87",
         "Maria Perez",
         "cliente87@correo.com",
         "Medellin",
         "{\"continente\":\"America\",\"_file_path\":\"abfss://container-course-databricks-001@sadatabrickscourse001.dfs.core.windows.net/clientes/clientes_5.csv\"}",
         "2025-09-03T15:09:26.995Z",
         "5ad2ae64-8e2d-47b2-8418-49a9c8aa5382",
         "clientes_5.csv",
         "abfss://container-course-databricks-001@sadatabrickscourse001.dfs.core.windows.net/clientes/clientes_5.csv",
         "2025-09-03T14:48:29Z",
         3112
        ],
        [
         "88",
         "Juan Gomez",
         "cliente88@correo.com",
         "Mendoza",
         "{\"continente\":\"America\",\"_file_path\":\"abfss://container-course-databricks-001@sadatabrickscourse001.dfs.core.windows.net/clientes/clientes_5.csv\"}",
         "2025-09-03T15:09:26.995Z",
         "6b2be03c-62a3-4d74-b482-f24f902be1e4",
         "clientes_5.csv",
         "abfss://container-course-databricks-001@sadatabrickscourse001.dfs.core.windows.net/clientes/clientes_5.csv",
         "2025-09-03T14:48:29Z",
         3112
        ],
        [
         "89",
         "Maria Gomez",
         "cliente89@correo.com",
         "Barranquilla",
         "{\"continente\":\"America\",\"_file_path\":\"abfss://container-course-databricks-001@sadatabrickscourse001.dfs.core.windows.net/clientes/clientes_5.csv\"}",
         "2025-09-03T15:09:26.995Z",
         "3c214386-f305-4e93-89b6-316ed7038acc",
         "clientes_5.csv",
         "abfss://container-course-databricks-001@sadatabrickscourse001.dfs.core.windows.net/clientes/clientes_5.csv",
         "2025-09-03T14:48:29Z",
         3112
        ],
        [
         "90",
         "Juan Perez",
         "cliente90@correo.com",
         "Lima",
         "{\"continente\":\"America\",\"_file_path\":\"abfss://container-course-databricks-001@sadatabrickscourse001.dfs.core.windows.net/clientes/clientes_5.csv\"}",
         "2025-09-03T15:09:26.995Z",
         "9b813b7a-bf16-4248-88cb-10e5de48d7ff",
         "clientes_5.csv",
         "abfss://container-course-databricks-001@sadatabrickscourse001.dfs.core.windows.net/clientes/clientes_5.csv",
         "2025-09-03T14:48:29Z",
         3112
        ],
        [
         "91",
         "Maria Gomez",
         "cliente91@correo.com",
         "Merida",
         "{\"continente\":\"America\",\"_file_path\":\"abfss://container-course-databricks-001@sadatabrickscourse001.dfs.core.windows.net/clientes/clientes_5.csv\"}",
         "2025-09-03T15:09:26.995Z",
         "b00b3922-4de8-43ae-afa2-846f4c84d784",
         "clientes_5.csv",
         "abfss://container-course-databricks-001@sadatabrickscourse001.dfs.core.windows.net/clientes/clientes_5.csv",
         "2025-09-03T14:48:29Z",
         3112
        ],
        [
         "92",
         "Juan Gomez",
         "cliente92@correo.com",
         "Medellin",
         "{\"continente\":\"America\",\"_file_path\":\"abfss://container-course-databricks-001@sadatabrickscourse001.dfs.core.windows.net/clientes/clientes_5.csv\"}",
         "2025-09-03T15:09:26.995Z",
         "e3718f7a-71b9-4512-9dbc-1ffab3342d9c",
         "clientes_5.csv",
         "abfss://container-course-databricks-001@sadatabrickscourse001.dfs.core.windows.net/clientes/clientes_5.csv",
         "2025-09-03T14:48:29Z",
         3112
        ],
        [
         "93",
         "Maria Perez",
         "cliente93@correo.com",
         "Mendoza",
         "{\"continente\":\"America\",\"_file_path\":\"abfss://container-course-databricks-001@sadatabrickscourse001.dfs.core.windows.net/clientes/clientes_5.csv\"}",
         "2025-09-03T15:09:26.995Z",
         "445438e1-a85d-43c3-9921-ffbff4e851a0",
         "clientes_5.csv",
         "abfss://container-course-databricks-001@sadatabrickscourse001.dfs.core.windows.net/clientes/clientes_5.csv",
         "2025-09-03T14:48:29Z",
         3112
        ],
        [
         "94",
         "Juan Gomez",
         "cliente94@correo.com",
         "Barranquilla",
         "{\"continente\":\"America\",\"_file_path\":\"abfss://container-course-databricks-001@sadatabrickscourse001.dfs.core.windows.net/clientes/clientes_5.csv\"}",
         "2025-09-03T15:09:26.995Z",
         "baa7ed69-d21b-4a25-ab40-153f329eb1fa",
         "clientes_5.csv",
         "abfss://container-course-databricks-001@sadatabrickscourse001.dfs.core.windows.net/clientes/clientes_5.csv",
         "2025-09-03T14:48:29Z",
         3112
        ],
        [
         "95",
         "Maria Gomez",
         "cliente95@correo.com",
         "Lima",
         "{\"continente\":\"America\",\"_file_path\":\"abfss://container-course-databricks-001@sadatabrickscourse001.dfs.core.windows.net/clientes/clientes_5.csv\"}",
         "2025-09-03T15:09:26.995Z",
         "77700bb8-b42e-4316-afa4-d76aa3c23fbd",
         "clientes_5.csv",
         "abfss://container-course-databricks-001@sadatabrickscourse001.dfs.core.windows.net/clientes/clientes_5.csv",
         "2025-09-03T14:48:29Z",
         3112
        ],
        [
         "96",
         "Juan Perez",
         "cliente96@correo.com",
         "Merida",
         "{\"continente\":\"America\",\"_file_path\":\"abfss://container-course-databricks-001@sadatabrickscourse001.dfs.core.windows.net/clientes/clientes_5.csv\"}",
         "2025-09-03T15:09:26.995Z",
         "5482249f-9a64-4a52-883e-928fea4f2079",
         "clientes_5.csv",
         "abfss://container-course-databricks-001@sadatabrickscourse001.dfs.core.windows.net/clientes/clientes_5.csv",
         "2025-09-03T14:48:29Z",
         3112
        ],
        [
         "97",
         "Maria Gomez",
         "cliente97@correo.com",
         "Medellin",
         "{\"continente\":\"America\",\"_file_path\":\"abfss://container-course-databricks-001@sadatabrickscourse001.dfs.core.windows.net/clientes/clientes_5.csv\"}",
         "2025-09-03T15:09:26.995Z",
         "343389b3-579b-4efd-9555-7611feeaf6b6",
         "clientes_5.csv",
         "abfss://container-course-databricks-001@sadatabrickscourse001.dfs.core.windows.net/clientes/clientes_5.csv",
         "2025-09-03T14:48:29Z",
         3112
        ],
        [
         "98",
         "Juan Gomez",
         "cliente98@correo.com",
         "Mendoza",
         "{\"continente\":\"America\",\"_file_path\":\"abfss://container-course-databricks-001@sadatabrickscourse001.dfs.core.windows.net/clientes/clientes_5.csv\"}",
         "2025-09-03T15:09:26.995Z",
         "1c2e82dc-8e17-49bc-8283-60f237a5cafa",
         "clientes_5.csv",
         "abfss://container-course-databricks-001@sadatabrickscourse001.dfs.core.windows.net/clientes/clientes_5.csv",
         "2025-09-03T14:48:29Z",
         3112
        ],
        [
         "99",
         "Maria Perez",
         "cliente99@correo.com",
         "Barranquilla",
         "{\"continente\":\"America\",\"_file_path\":\"abfss://container-course-databricks-001@sadatabrickscourse001.dfs.core.windows.net/clientes/clientes_5.csv\"}",
         "2025-09-03T15:09:26.995Z",
         "a90785c5-2b14-4c91-a889-f7c27a487760",
         "clientes_5.csv",
         "abfss://container-course-databricks-001@sadatabrickscourse001.dfs.core.windows.net/clientes/clientes_5.csv",
         "2025-09-03T14:48:29Z",
         3112
        ]
       ],
       "datasetInfos": [],
       "dbfsResultPath": null,
       "isJsonSchema": true,
       "metadata": {},
       "overflow": false,
       "plotOptions": {
        "customPlotOptions": {},
        "displayType": "table",
        "pivotAggregation": null,
        "pivotColumns": null,
        "xColumns": null,
        "yColumns": null
       },
       "removedWidgets": [],
       "schema": [
        {
         "metadata": "{}",
         "name": "cliente_id",
         "type": "\"string\""
        },
        {
         "metadata": "{}",
         "name": "nombre",
         "type": "\"string\""
        },
        {
         "metadata": "{}",
         "name": "correo",
         "type": "\"string\""
        },
        {
         "metadata": "{}",
         "name": "ciudad",
         "type": "\"string\""
        },
        {
         "metadata": "{}",
         "name": "_rescued_data",
         "type": "\"string\""
        },
        {
         "metadata": "{}",
         "name": "ingestion_ts",
         "type": "\"timestamp\""
        },
        {
         "metadata": "{}",
         "name": "ingestion_id",
         "type": "\"string\""
        },
        {
         "metadata": "{}",
         "name": "source_file",
         "type": "\"string\""
        },
        {
         "metadata": "{}",
         "name": "source_path",
         "type": "\"string\""
        },
        {
         "metadata": "{}",
         "name": "file_modification_time",
         "type": "\"timestamp\""
        },
        {
         "metadata": "{}",
         "name": "file_size",
         "type": "\"long\""
        }
       ],
       "type": "table"
      }
     },
     "output_type": "display_data"
    },
    {
     "output_type": "display_data",
     "data": {
      "text/html": [
       "<style scoped>\n",
       "  .table-result-container {\n",
       "    max-height: 300px;\n",
       "    overflow: auto;\n",
       "  }\n",
       "  table, th, td {\n",
       "    border: 1px solid black;\n",
       "    border-collapse: collapse;\n",
       "  }\n",
       "  th, td {\n",
       "    padding: 5px;\n",
       "  }\n",
       "  th {\n",
       "    text-align: left;\n",
       "  }\n",
       "</style><div class='table-result-container'><table class='table-result'><thead style='background-color: white'><tr><th>cliente_id</th><th>nombre</th><th>correo</th><th>ciudad</th><th>ingestion_ts</th><th>ingestion_id</th><th>source_file</th><th>source_path</th><th>file_modification_time</th><th>file_size</th><th>continente</th></tr></thead><tbody><tr><td>47</td><td>Maria Gomez</td><td>cliente47@correo.com</td><td>Medellín</td><td>2025-09-02T19:32:29.774Z</td><td>90d8ec08-4f47-424c-adb7-b1332b79c5f6</td><td>clientes.csv</td><td>abfss://container-course-databricks-001@sadatabrickscourse001.dfs.core.windows.net/clientes/clientes.csv</td><td>2025-06-22T00:44:25Z</td><td>4486</td><td>null</td></tr><tr><td>30</td><td>Juan Perez</td><td>cliente30@correo.com</td><td>Cartagena</td><td>2025-09-02T19:32:29.774Z</td><td>bbaf8e34-c48f-4e19-a065-e2b6bf526489</td><td>clientes.csv</td><td>abfss://container-course-databricks-001@sadatabrickscourse001.dfs.core.windows.net/clientes/clientes.csv</td><td>2025-06-22T00:44:25Z</td><td>4486</td><td>null</td></tr><tr><td>67</td><td>Maria Gomez</td><td>cliente67@correo.com</td><td>Medellin</td><td>2025-09-03T15:09:26.995Z</td><td>8c820ff9-ad23-4387-b569-b10e6530d0d1</td><td>clientes_5.csv</td><td>abfss://container-course-databricks-001@sadatabrickscourse001.dfs.core.windows.net/clientes/clientes_5.csv</td><td>2025-09-03T14:48:29Z</td><td>3112</td><td>America</td></tr><tr><td>26</td><td>Juan Gomez</td><td>cliente26@correo.com</td><td>Bogotá</td><td>2025-09-02T19:32:29.774Z</td><td>f095a4c7-1a56-40e6-81d5-fd11e0f8871b</td><td>clientes.csv</td><td>abfss://container-course-databricks-001@sadatabrickscourse001.dfs.core.windows.net/clientes/clientes.csv</td><td>2025-06-22T00:44:25Z</td><td>4486</td><td>null</td></tr><tr><td>96</td><td>Juan Perez</td><td>cliente96@correo.com</td><td>Merida</td><td>2025-09-03T15:09:26.995Z</td><td>5482249f-9a64-4a52-883e-928fea4f2079</td><td>clientes_5.csv</td><td>abfss://container-course-databricks-001@sadatabrickscourse001.dfs.core.windows.net/clientes/clientes_5.csv</td><td>2025-09-03T14:48:29Z</td><td>3112</td><td>America</td></tr><tr><td>15</td><td>Maria Perez</td><td>cliente15@correo.com</td><td>Cartagena</td><td>2025-09-02T19:32:29.774Z</td><td>3a5db812-8e37-4aa3-b78d-df0df16fc14b</td><td>clientes.csv</td><td>abfss://container-course-databricks-001@sadatabrickscourse001.dfs.core.windows.net/clientes/clientes.csv</td><td>2025-06-22T00:44:25Z</td><td>4486</td><td>null</td></tr><tr><td>60</td><td>Juan Perez</td><td>cliente60@correo.com</td><td>Lima</td><td>2025-09-03T15:09:26.995Z</td><td>4dac6e6f-e20f-442c-a1e4-2a85ce294522</td><td>clientes_5.csv</td><td>abfss://container-course-databricks-001@sadatabrickscourse001.dfs.core.windows.net/clientes/clientes_5.csv</td><td>2025-09-03T14:48:29Z</td><td>3112</td><td>America</td></tr><tr><td>38</td><td>Juan Gomez</td><td>cliente38@correo.com</td><td>Cali</td><td>2025-09-02T19:32:29.774Z</td><td>9b338013-69e7-4d37-bcf5-679c114e849a</td><td>clientes.csv</td><td>abfss://container-course-databricks-001@sadatabrickscourse001.dfs.core.windows.net/clientes/clientes.csv</td><td>2025-06-22T00:44:25Z</td><td>4486</td><td>null</td></tr><tr><td>67</td><td>Maria Gomez</td><td>cliente67@correo.com</td><td>Medellín</td><td>2025-09-02T19:32:29.774Z</td><td>5a7380c4-ac6b-4927-a2ea-07ad5b8f2aac</td><td>clientes.csv</td><td>abfss://container-course-databricks-001@sadatabrickscourse001.dfs.core.windows.net/clientes/clientes.csv</td><td>2025-06-22T00:44:25Z</td><td>4486</td><td>null</td></tr><tr><td>87</td><td>Maria Perez</td><td>cliente87@correo.com</td><td>Medellín</td><td>2025-09-02T19:32:29.774Z</td><td>ee08474d-79ca-46c1-9ca2-bab216bb377e</td><td>clientes.csv</td><td>abfss://container-course-databricks-001@sadatabrickscourse001.dfs.core.windows.net/clientes/clientes.csv</td><td>2025-06-22T00:44:25Z</td><td>4486</td><td>null</td></tr><tr><td>13</td><td>Maria Gomez</td><td>cliente13@correo.com</td><td>Cali</td><td>2025-09-02T19:32:29.774Z</td><td>86d40952-2b98-40a9-bfa7-5513988b8e46</td><td>clientes.csv</td><td>abfss://container-course-databricks-001@sadatabrickscourse001.dfs.core.windows.net/clientes/clientes.csv</td><td>2025-06-22T00:44:25Z</td><td>4486</td><td>null</td></tr><tr><td>49</td><td>Maria Gomez</td><td>cliente49@correo.com</td><td>Barranquilla</td><td>2025-09-03T15:09:26.995Z</td><td>e6d92430-bab1-4a05-bea8-22c5fab29ef2</td><td>clientes_5.csv</td><td>abfss://container-course-databricks-001@sadatabrickscourse001.dfs.core.windows.net/clientes/clientes_5.csv</td><td>2025-09-03T14:48:29Z</td><td>3112</td><td>America</td></tr><tr><td>62</td><td>Juan Gomez</td><td>cliente62@correo.com</td><td>Medellin</td><td>2025-09-03T15:09:26.995Z</td><td>d1b02bc4-f7ba-4ed3-8e0e-73268952cf0f</td><td>clientes_5.csv</td><td>abfss://container-course-databricks-001@sadatabrickscourse001.dfs.core.windows.net/clientes/clientes_5.csv</td><td>2025-09-03T14:48:29Z</td><td>3112</td><td>America</td></tr><tr><td>10</td><td>Juan Gomez</td><td>cliente10@correo.com</td><td>Cartagena</td><td>2025-09-02T19:32:29.774Z</td><td>57051974-4dfd-4a80-b99a-d444df6f108b</td><td>clientes.csv</td><td>abfss://container-course-databricks-001@sadatabrickscourse001.dfs.core.windows.net/clientes/clientes.csv</td><td>2025-06-22T00:44:25Z</td><td>4486</td><td>null</td></tr><tr><td>1</td><td>Maria Gomez</td><td>cliente1@correo.com</td><td>Bogotá</td><td>2025-09-02T19:32:29.774Z</td><td>60791e8e-4ddd-4dd4-8cb9-42f02b0a90ef</td><td>clientes.csv</td><td>abfss://container-course-databricks-001@sadatabrickscourse001.dfs.core.windows.net/clientes/clientes.csv</td><td>2025-06-22T00:44:25Z</td><td>4486</td><td>null</td></tr><tr><td>70</td><td>Juan Gomez</td><td>cliente70@correo.com</td><td>Cartagena</td><td>2025-09-02T19:32:29.774Z</td><td>8f13327e-3c56-4f38-8e0c-e497d4e592a9</td><td>clientes.csv</td><td>abfss://container-course-databricks-001@sadatabrickscourse001.dfs.core.windows.net/clientes/clientes.csv</td><td>2025-06-22T00:44:25Z</td><td>4486</td><td>null</td></tr><tr><td>14</td><td>Juan Gomez</td><td>cliente14@correo.com</td><td>Barranquilla</td><td>2025-09-02T19:32:29.774Z</td><td>1d5437ca-7484-42cd-83e5-3a3ca1a15aa4</td><td>clientes.csv</td><td>abfss://container-course-databricks-001@sadatabrickscourse001.dfs.core.windows.net/clientes/clientes.csv</td><td>2025-06-22T00:44:25Z</td><td>4486</td><td>null</td></tr><tr><td>34</td><td>Juan Gomez</td><td>cliente34@correo.com</td><td>Barranquilla</td><td>2025-09-02T19:32:29.774Z</td><td>69c4cedd-6416-4976-bb31-2813e83a4c64</td><td>clientes.csv</td><td>abfss://container-course-databricks-001@sadatabrickscourse001.dfs.core.windows.net/clientes/clientes.csv</td><td>2025-06-22T00:44:25Z</td><td>4486</td><td>null</td></tr><tr><td>87</td><td>Maria Perez</td><td>cliente87@correo.com</td><td>Medellin</td><td>2025-09-03T15:09:26.995Z</td><td>5ad2ae64-8e2d-47b2-8418-49a9c8aa5382</td><td>clientes_5.csv</td><td>abfss://container-course-databricks-001@sadatabrickscourse001.dfs.core.windows.net/clientes/clientes_5.csv</td><td>2025-09-03T14:48:29Z</td><td>3112</td><td>America</td></tr><tr><td>50</td><td>Juan Gomez</td><td>cliente50@correo.com</td><td>Cartagena</td><td>2025-09-02T19:32:29.774Z</td><td>839e4bd4-a112-4253-9272-31a0f0495e1b</td><td>clientes.csv</td><td>abfss://container-course-databricks-001@sadatabrickscourse001.dfs.core.windows.net/clientes/clientes.csv</td><td>2025-06-22T00:44:25Z</td><td>4486</td><td>null</td></tr><tr><td>51</td><td>Maria Perez</td><td>cliente51@correo.com</td><td>Bogotá</td><td>2025-09-02T19:32:29.774Z</td><td>e8923cf3-fbbd-41e9-976e-85d201854b4f</td><td>clientes.csv</td><td>abfss://container-course-databricks-001@sadatabrickscourse001.dfs.core.windows.net/clientes/clientes.csv</td><td>2025-06-22T00:44:25Z</td><td>4486</td><td>null</td></tr><tr><td>22</td><td>Juan Gomez</td><td>cliente22@correo.com</td><td>Medellín</td><td>2025-09-02T19:32:29.774Z</td><td>b42a277e-a2d6-4276-9481-d519d81ba827</td><td>clientes.csv</td><td>abfss://container-course-databricks-001@sadatabrickscourse001.dfs.core.windows.net/clientes/clientes.csv</td><td>2025-06-22T00:44:25Z</td><td>4486</td><td>null</td></tr><tr><td>85</td><td>Maria Gomez</td><td>cliente85@correo.com</td><td>Lima</td><td>2025-09-03T15:09:26.995Z</td><td>f3ca7f7f-a214-484e-bf83-128b02e23824</td><td>clientes_5.csv</td><td>abfss://container-course-databricks-001@sadatabrickscourse001.dfs.core.windows.net/clientes/clientes_5.csv</td><td>2025-09-03T14:48:29Z</td><td>3112</td><td>America</td></tr><tr><td>9</td><td>Maria Perez</td><td>cliente9@correo.com</td><td>Barranquilla</td><td>2025-09-02T19:32:29.774Z</td><td>85d33a48-0a20-48e6-9ed2-815e6e08b69d</td><td>clientes.csv</td><td>abfss://container-course-databricks-001@sadatabrickscourse001.dfs.core.windows.net/clientes/clientes.csv</td><td>2025-06-22T00:44:25Z</td><td>4486</td><td>null</td></tr><tr><td>52</td><td>Juan Gomez</td><td>cliente52@correo.com</td><td>Medellín</td><td>2025-09-02T19:32:29.774Z</td><td>d0395362-753d-47ef-8184-bc901f6e9556</td><td>clientes.csv</td><td>abfss://container-course-databricks-001@sadatabrickscourse001.dfs.core.windows.net/clientes/clientes.csv</td><td>2025-06-22T00:44:25Z</td><td>4486</td><td>null</td></tr><tr><td>55</td><td>Maria Gomez</td><td>cliente55@correo.com</td><td>Lima</td><td>2025-09-03T15:09:26.995Z</td><td>390a04f9-91dd-406e-b271-7d0358d1ba03</td><td>clientes_5.csv</td><td>abfss://container-course-databricks-001@sadatabrickscourse001.dfs.core.windows.net/clientes/clientes_5.csv</td><td>2025-09-03T14:48:29Z</td><td>3112</td><td>America</td></tr><tr><td>43</td><td>Maria Gomez</td><td>cliente43@correo.com</td><td>Mendoza</td><td>2025-09-03T15:09:26.995Z</td><td>2a70cc1b-9f41-4cb5-aef9-76c64bfa4cd9</td><td>clientes_5.csv</td><td>abfss://container-course-databricks-001@sadatabrickscourse001.dfs.core.windows.net/clientes/clientes_5.csv</td><td>2025-09-03T14:48:29Z</td><td>3112</td><td>America</td></tr><tr><td>98</td><td>Juan Gomez</td><td>cliente98@correo.com</td><td>Mendoza</td><td>2025-09-03T15:09:26.995Z</td><td>1c2e82dc-8e17-49bc-8283-60f237a5cafa</td><td>clientes_5.csv</td><td>abfss://container-course-databricks-001@sadatabrickscourse001.dfs.core.windows.net/clientes/clientes_5.csv</td><td>2025-09-03T14:48:29Z</td><td>3112</td><td>America</td></tr><tr><td>21</td><td>Maria Perez</td><td>cliente21@correo.com</td><td>Bogotá</td><td>2025-09-02T19:32:29.774Z</td><td>6e90afcf-5947-4acc-8db5-542c9f2760d9</td><td>clientes.csv</td><td>abfss://container-course-databricks-001@sadatabrickscourse001.dfs.core.windows.net/clientes/clientes.csv</td><td>2025-06-22T00:44:25Z</td><td>4486</td><td>null</td></tr><tr><td>27</td><td>Maria Perez</td><td>cliente27@correo.com</td><td>Medellín</td><td>2025-09-02T19:32:29.774Z</td><td>e17e8c35-ba6b-4f9e-b362-1dfbb4078561</td><td>clientes.csv</td><td>abfss://container-course-databricks-001@sadatabrickscourse001.dfs.core.windows.net/clientes/clientes.csv</td><td>2025-06-22T00:44:25Z</td><td>4486</td><td>null</td></tr><tr><td>46</td><td>Juan Gomez</td><td>cliente46@correo.com</td><td>Merida</td><td>2025-09-03T15:09:26.995Z</td><td>d4b23198-cd86-4416-846f-d702e865dc62</td><td>clientes_5.csv</td><td>abfss://container-course-databricks-001@sadatabrickscourse001.dfs.core.windows.net/clientes/clientes_5.csv</td><td>2025-09-03T14:48:29Z</td><td>3112</td><td>America</td></tr><tr><td>49</td><td>Maria Gomez</td><td>cliente49@correo.com</td><td>Barranquilla</td><td>2025-09-02T19:32:29.774Z</td><td>31e9e1c9-baad-4149-9eb4-423c8e160432</td><td>clientes.csv</td><td>abfss://container-course-databricks-001@sadatabrickscourse001.dfs.core.windows.net/clientes/clientes.csv</td><td>2025-06-22T00:44:25Z</td><td>4486</td><td>null</td></tr><tr><td>97</td><td>Maria Gomez</td><td>cliente97@correo.com</td><td>Medellin</td><td>2025-09-03T15:09:26.995Z</td><td>343389b3-579b-4efd-9555-7611feeaf6b6</td><td>clientes_5.csv</td><td>abfss://container-course-databricks-001@sadatabrickscourse001.dfs.core.windows.net/clientes/clientes_5.csv</td><td>2025-09-03T14:48:29Z</td><td>3112</td><td>America</td></tr><tr><td>43</td><td>Maria Gomez</td><td>cliente43@correo.com</td><td>Cali</td><td>2025-09-02T19:32:29.774Z</td><td>328888aa-5564-4116-982f-5310e903cff2</td><td>clientes.csv</td><td>abfss://container-course-databricks-001@sadatabrickscourse001.dfs.core.windows.net/clientes/clientes.csv</td><td>2025-06-22T00:44:25Z</td><td>4486</td><td>null</td></tr><tr><td>35</td><td>Maria Gomez</td><td>cliente35@correo.com</td><td>Cartagena</td><td>2025-09-02T19:32:29.774Z</td><td>5ac3887a-4dc7-42e3-8d67-23aec6d6a78d</td><td>clientes.csv</td><td>abfss://container-course-databricks-001@sadatabrickscourse001.dfs.core.windows.net/clientes/clientes.csv</td><td>2025-06-22T00:44:25Z</td><td>4486</td><td>null</td></tr><tr><td>6</td><td>Juan Perez</td><td>cliente6@correo.com</td><td>Bogotá</td><td>2025-09-02T19:32:29.774Z</td><td>71a71003-ddb7-4d16-a2b7-1dccf8a34055</td><td>clientes.csv</td><td>abfss://container-course-databricks-001@sadatabrickscourse001.dfs.core.windows.net/clientes/clientes.csv</td><td>2025-06-22T00:44:25Z</td><td>4486</td><td>null</td></tr><tr><td>77</td><td>Maria Gomez</td><td>cliente77@correo.com</td><td>Medellín</td><td>2025-09-02T19:32:29.774Z</td><td>f60058d8-8d5c-4002-ad05-6eac6046c094</td><td>clientes.csv</td><td>abfss://container-course-databricks-001@sadatabrickscourse001.dfs.core.windows.net/clientes/clientes.csv</td><td>2025-06-22T00:44:25Z</td><td>4486</td><td>null</td></tr><tr><td>2</td><td>Juan Gomez</td><td>cliente2@correo.com</td><td>Medellín</td><td>2025-09-02T19:32:29.774Z</td><td>88dfc414-8f09-4547-824f-05d999a8cf87</td><td>clientes.csv</td><td>abfss://container-course-databricks-001@sadatabrickscourse001.dfs.core.windows.net/clientes/clientes.csv</td><td>2025-06-22T00:44:25Z</td><td>4486</td><td>null</td></tr><tr><td>53</td><td>Maria Gomez</td><td>cliente53@correo.com</td><td>Mendoza</td><td>2025-09-03T15:09:26.995Z</td><td>13952f34-9a58-4409-acb2-08e5184be631</td><td>clientes_5.csv</td><td>abfss://container-course-databricks-001@sadatabrickscourse001.dfs.core.windows.net/clientes/clientes_5.csv</td><td>2025-09-03T14:48:29Z</td><td>3112</td><td>America</td></tr><tr><td>29</td><td>Maria Gomez</td><td>cliente29@correo.com</td><td>Barranquilla</td><td>2025-09-02T19:32:29.774Z</td><td>0fbe925f-e4e0-407c-8632-0235e501d01f</td><td>clientes.csv</td><td>abfss://container-course-databricks-001@sadatabrickscourse001.dfs.core.windows.net/clientes/clientes.csv</td><td>2025-06-22T00:44:25Z</td><td>4486</td><td>null</td></tr><tr><td>68</td><td>Juan Gomez</td><td>cliente68@correo.com</td><td>Cali</td><td>2025-09-02T19:32:29.774Z</td><td>5025b933-6d5d-4f17-97c4-8b5ee8dd6bcc</td><td>clientes.csv</td><td>abfss://container-course-databricks-001@sadatabrickscourse001.dfs.core.windows.net/clientes/clientes.csv</td><td>2025-06-22T00:44:25Z</td><td>4486</td><td>null</td></tr><tr><td>86</td><td>Juan Gomez</td><td>cliente86@correo.com</td><td>Merida</td><td>2025-09-03T15:09:26.995Z</td><td>ca36b412-3e2d-4576-be9b-9f816be7b99f</td><td>clientes_5.csv</td><td>abfss://container-course-databricks-001@sadatabrickscourse001.dfs.core.windows.net/clientes/clientes_5.csv</td><td>2025-09-03T14:48:29Z</td><td>3112</td><td>America</td></tr><tr><td>41</td><td>Maria Gomez</td><td>cliente41@correo.com</td><td>Bogotá</td><td>2025-09-02T19:32:29.774Z</td><td>38983bcd-463f-4101-aafd-2fa3321b1716</td><td>clientes.csv</td><td>abfss://container-course-databricks-001@sadatabrickscourse001.dfs.core.windows.net/clientes/clientes.csv</td><td>2025-06-22T00:44:25Z</td><td>4486</td><td>null</td></tr><tr><td>11</td><td>Maria Gomez</td><td>cliente11@correo.com</td><td>Bogotá</td><td>2025-09-02T19:32:29.774Z</td><td>cc44d35c-50f6-42a6-8ce6-f05d4e6736de</td><td>clientes.csv</td><td>abfss://container-course-databricks-001@sadatabrickscourse001.dfs.core.windows.net/clientes/clientes.csv</td><td>2025-06-22T00:44:25Z</td><td>4486</td><td>null</td></tr><tr><td>54</td><td>Juan Perez</td><td>cliente54@correo.com</td><td>Barranquilla</td><td>2025-09-03T15:09:26.995Z</td><td>bab74e70-224d-43a1-8c47-51a612087e38</td><td>clientes_5.csv</td><td>abfss://container-course-databricks-001@sadatabrickscourse001.dfs.core.windows.net/clientes/clientes_5.csv</td><td>2025-09-03T14:48:29Z</td><td>3112</td><td>America</td></tr><tr><td>94</td><td>Juan Gomez</td><td>cliente94@correo.com</td><td>Barranquilla</td><td>2025-09-02T19:32:29.774Z</td><td>6450bb7a-3151-4f11-851c-7a683c70e7ee</td><td>clientes.csv</td><td>abfss://container-course-databricks-001@sadatabrickscourse001.dfs.core.windows.net/clientes/clientes.csv</td><td>2025-06-22T00:44:25Z</td><td>4486</td><td>null</td></tr><tr><td>16</td><td>Juan Gomez</td><td>cliente16@correo.com</td><td>Bogotá</td><td>2025-09-02T19:32:29.774Z</td><td>deb57d6f-388d-462a-83f8-61c10962051c</td><td>clientes.csv</td><td>abfss://container-course-databricks-001@sadatabrickscourse001.dfs.core.windows.net/clientes/clientes.csv</td><td>2025-06-22T00:44:25Z</td><td>4486</td><td>null</td></tr><tr><td>66</td><td>Juan Perez</td><td>cliente66@correo.com</td><td>Merida</td><td>2025-09-03T15:09:26.995Z</td><td>b4b7a0f7-b86f-421f-aa1b-301301b77134</td><td>clientes_5.csv</td><td>abfss://container-course-databricks-001@sadatabrickscourse001.dfs.core.windows.net/clientes/clientes_5.csv</td><td>2025-09-03T14:48:29Z</td><td>3112</td><td>America</td></tr><tr><td>63</td><td>Maria Perez</td><td>cliente63@correo.com</td><td>Mendoza</td><td>2025-09-03T15:09:26.995Z</td><td>7d4d9e15-018a-483e-a68b-17bce94f2701</td><td>clientes_5.csv</td><td>abfss://container-course-databricks-001@sadatabrickscourse001.dfs.core.windows.net/clientes/clientes_5.csv</td><td>2025-09-03T14:48:29Z</td><td>3112</td><td>America</td></tr><tr><td>89</td><td>Maria Gomez</td><td>cliente89@correo.com</td><td>Barranquilla</td><td>2025-09-02T19:32:29.774Z</td><td>50dcebc8-a87f-4799-bc78-d6853b65c3fd</td><td>clientes.csv</td><td>abfss://container-course-databricks-001@sadatabrickscourse001.dfs.core.windows.net/clientes/clientes.csv</td><td>2025-06-22T00:44:25Z</td><td>4486</td><td>null</td></tr><tr><td>97</td><td>Maria Gomez</td><td>cliente97@correo.com</td><td>Medellín</td><td>2025-09-02T19:32:29.774Z</td><td>93fae2f0-2e1f-4217-8c6d-737f785e8885</td><td>clientes.csv</td><td>abfss://container-course-databricks-001@sadatabrickscourse001.dfs.core.windows.net/clientes/clientes.csv</td><td>2025-06-22T00:44:25Z</td><td>4486</td><td>null</td></tr><tr><td>51</td><td>Maria Perez</td><td>cliente51@correo.com</td><td>Merida</td><td>2025-09-03T15:09:26.995Z</td><td>1055aeae-3fc5-464e-b467-2a9071ccfec9</td><td>clientes_5.csv</td><td>abfss://container-course-databricks-001@sadatabrickscourse001.dfs.core.windows.net/clientes/clientes_5.csv</td><td>2025-09-03T14:48:29Z</td><td>3112</td><td>America</td></tr><tr><td>88</td><td>Juan Gomez</td><td>cliente88@correo.com</td><td>Cali</td><td>2025-09-02T19:32:29.774Z</td><td>5af35340-18e1-4d2e-abb1-666d357bd6e1</td><td>clientes.csv</td><td>abfss://container-course-databricks-001@sadatabrickscourse001.dfs.core.windows.net/clientes/clientes.csv</td><td>2025-06-22T00:44:25Z</td><td>4486</td><td>null</td></tr><tr><td>44</td><td>Juan Gomez</td><td>cliente44@correo.com</td><td>Barranquilla</td><td>2025-09-02T19:32:29.774Z</td><td>b89a13e7-6c18-41b5-9d6f-fe2786340f6e</td><td>clientes.csv</td><td>abfss://container-course-databricks-001@sadatabrickscourse001.dfs.core.windows.net/clientes/clientes.csv</td><td>2025-06-22T00:44:25Z</td><td>4486</td><td>null</td></tr><tr><td>56</td><td>Juan Gomez</td><td>cliente56@correo.com</td><td>Merida</td><td>2025-09-03T15:09:26.995Z</td><td>8058a597-8a12-40f5-889b-3009810cac6a</td><td>clientes_5.csv</td><td>abfss://container-course-databricks-001@sadatabrickscourse001.dfs.core.windows.net/clientes/clientes_5.csv</td><td>2025-09-03T14:48:29Z</td><td>3112</td><td>America</td></tr><tr><td>83</td><td>Maria Gomez</td><td>cliente83@correo.com</td><td>Mendoza</td><td>2025-09-03T15:09:26.995Z</td><td>6ca13a00-32fd-4ec2-88b9-a369a4ed2c25</td><td>clientes_5.csv</td><td>abfss://container-course-databricks-001@sadatabrickscourse001.dfs.core.windows.net/clientes/clientes_5.csv</td><td>2025-09-03T14:48:29Z</td><td>3112</td><td>America</td></tr><tr><td>8</td><td>Juan Gomez</td><td>cliente8@correo.com</td><td>Cali</td><td>2025-09-02T19:32:29.774Z</td><td>6a698d45-9433-4328-a0b8-08cd0e4347da</td><td>clientes.csv</td><td>abfss://container-course-databricks-001@sadatabrickscourse001.dfs.core.windows.net/clientes/clientes.csv</td><td>2025-06-22T00:44:25Z</td><td>4486</td><td>null</td></tr><tr><td>80</td><td>Juan Gomez</td><td>cliente80@correo.com</td><td>Cartagena</td><td>2025-09-02T19:32:29.774Z</td><td>200c40a7-adf6-40e7-a397-fb8687ad43fc</td><td>clientes.csv</td><td>abfss://container-course-databricks-001@sadatabrickscourse001.dfs.core.windows.net/clientes/clientes.csv</td><td>2025-06-22T00:44:25Z</td><td>4486</td><td>null</td></tr><tr><td>84</td><td>Juan Perez</td><td>cliente84@correo.com</td><td>Barranquilla</td><td>2025-09-03T15:09:26.995Z</td><td>b95bac8b-d3e3-405c-9b0c-8dc315afb9bc</td><td>clientes_5.csv</td><td>abfss://container-course-databricks-001@sadatabrickscourse001.dfs.core.windows.net/clientes/clientes_5.csv</td><td>2025-09-03T14:48:29Z</td><td>3112</td><td>America</td></tr><tr><td>95</td><td>Maria Gomez</td><td>cliente95@correo.com</td><td>Lima</td><td>2025-09-03T15:09:26.995Z</td><td>77700bb8-b42e-4316-afa4-d76aa3c23fbd</td><td>clientes_5.csv</td><td>abfss://container-course-databricks-001@sadatabrickscourse001.dfs.core.windows.net/clientes/clientes_5.csv</td><td>2025-09-03T14:48:29Z</td><td>3112</td><td>America</td></tr><tr><td>94</td><td>Juan Gomez</td><td>cliente94@correo.com</td><td>Barranquilla</td><td>2025-09-03T15:09:26.995Z</td><td>baa7ed69-d21b-4a25-ab40-153f329eb1fa</td><td>clientes_5.csv</td><td>abfss://container-course-databricks-001@sadatabrickscourse001.dfs.core.windows.net/clientes/clientes_5.csv</td><td>2025-09-03T14:48:29Z</td><td>3112</td><td>America</td></tr><tr><td>61</td><td>Maria Gomez</td><td>cliente61@correo.com</td><td>Bogotá</td><td>2025-09-02T19:32:29.774Z</td><td>dc29b75a-1f53-45e8-9246-adc971a90a7a</td><td>clientes.csv</td><td>abfss://container-course-databricks-001@sadatabrickscourse001.dfs.core.windows.net/clientes/clientes.csv</td><td>2025-06-22T00:44:25Z</td><td>4486</td><td>null</td></tr><tr><td>71</td><td>Maria Gomez</td><td>cliente71@correo.com</td><td>Merida</td><td>2025-09-03T15:09:26.995Z</td><td>9e05d9c5-346f-4676-b717-446a568a47e1</td><td>clientes_5.csv</td><td>abfss://container-course-databricks-001@sadatabrickscourse001.dfs.core.windows.net/clientes/clientes_5.csv</td><td>2025-09-03T14:48:29Z</td><td>3112</td><td>America</td></tr><tr><td>59</td><td>Maria Gomez</td><td>cliente59@correo.com</td><td>Barranquilla</td><td>2025-09-02T19:32:29.774Z</td><td>4936ef31-221e-45f3-84f5-38b68715dd9b</td><td>clientes.csv</td><td>abfss://container-course-databricks-001@sadatabrickscourse001.dfs.core.windows.net/clientes/clientes.csv</td><td>2025-06-22T00:44:25Z</td><td>4486</td><td>null</td></tr><tr><td>25</td><td>Maria Gomez</td><td>cliente25@correo.com</td><td>Cartagena</td><td>2025-09-02T19:32:29.774Z</td><td>d32d53cf-a419-4693-b4e1-6b509840a5fd</td><td>clientes.csv</td><td>abfss://container-course-databricks-001@sadatabrickscourse001.dfs.core.windows.net/clientes/clientes.csv</td><td>2025-06-22T00:44:25Z</td><td>4486</td><td>null</td></tr><tr><td>52</td><td>Juan Gomez</td><td>cliente52@correo.com</td><td>Medellin</td><td>2025-09-03T15:09:26.995Z</td><td>d3355446-6a88-4063-9e28-a5fdcb8447e6</td><td>clientes_5.csv</td><td>abfss://container-course-databricks-001@sadatabrickscourse001.dfs.core.windows.net/clientes/clientes_5.csv</td><td>2025-09-03T14:48:29Z</td><td>3112</td><td>America</td></tr><tr><td>28</td><td>Juan Gomez</td><td>cliente28@correo.com</td><td>Cali</td><td>2025-09-02T19:32:29.774Z</td><td>b07120d9-7546-4781-89d1-35427d53f87c</td><td>clientes.csv</td><td>abfss://container-course-databricks-001@sadatabrickscourse001.dfs.core.windows.net/clientes/clientes.csv</td><td>2025-06-22T00:44:25Z</td><td>4486</td><td>null</td></tr><tr><td>37</td><td>Maria Gomez</td><td>cliente37@correo.com</td><td>Medellín</td><td>2025-09-02T19:32:29.774Z</td><td>950fe8a0-a1aa-427f-8933-92f7e6cdbc9c</td><td>clientes.csv</td><td>abfss://container-course-databricks-001@sadatabrickscourse001.dfs.core.windows.net/clientes/clientes.csv</td><td>2025-06-22T00:44:25Z</td><td>4486</td><td>null</td></tr><tr><td>62</td><td>Juan Gomez</td><td>cliente62@correo.com</td><td>Medellín</td><td>2025-09-02T19:32:29.774Z</td><td>2006f85a-5e83-48a8-b2c8-9c0467d478e8</td><td>clientes.csv</td><td>abfss://container-course-databricks-001@sadatabrickscourse001.dfs.core.windows.net/clientes/clientes.csv</td><td>2025-06-22T00:44:25Z</td><td>4486</td><td>null</td></tr><tr><td>64</td><td>Juan Gomez</td><td>cliente64@correo.com</td><td>Barranquilla</td><td>2025-09-02T19:32:29.774Z</td><td>bd40db3c-6e2b-45ff-ae67-c66b46656f8b</td><td>clientes.csv</td><td>abfss://container-course-databricks-001@sadatabrickscourse001.dfs.core.windows.net/clientes/clientes.csv</td><td>2025-06-22T00:44:25Z</td><td>4486</td><td>null</td></tr><tr><td>69</td><td>Maria Perez</td><td>cliente69@correo.com</td><td>Barranquilla</td><td>2025-09-02T19:32:29.774Z</td><td>ce6620bd-ead5-4024-8430-bb02ad8ab545</td><td>clientes.csv</td><td>abfss://container-course-databricks-001@sadatabrickscourse001.dfs.core.windows.net/clientes/clientes.csv</td><td>2025-06-22T00:44:25Z</td><td>4486</td><td>null</td></tr><tr><td>95</td><td>Maria Gomez</td><td>cliente95@correo.com</td><td>Cartagena</td><td>2025-09-02T19:32:29.774Z</td><td>c667782e-57b7-487a-9906-30ac9feca0d1</td><td>clientes.csv</td><td>abfss://container-course-databricks-001@sadatabrickscourse001.dfs.core.windows.net/clientes/clientes.csv</td><td>2025-06-22T00:44:25Z</td><td>4486</td><td>null</td></tr><tr><td>63</td><td>Maria Perez</td><td>cliente63@correo.com</td><td>Cali</td><td>2025-09-02T19:32:29.774Z</td><td>9bb3949c-4e7e-4dc2-8c69-3015c675caee</td><td>clientes.csv</td><td>abfss://container-course-databricks-001@sadatabrickscourse001.dfs.core.windows.net/clientes/clientes.csv</td><td>2025-06-22T00:44:25Z</td><td>4486</td><td>null</td></tr><tr><td>31</td><td>Maria Gomez</td><td>cliente31@correo.com</td><td>Bogotá</td><td>2025-09-02T19:32:29.774Z</td><td>c008d719-64c4-4962-ad69-3c82bb8ed1a8</td><td>clientes.csv</td><td>abfss://container-course-databricks-001@sadatabrickscourse001.dfs.core.windows.net/clientes/clientes.csv</td><td>2025-06-22T00:44:25Z</td><td>4486</td><td>null</td></tr><tr><td>61</td><td>Maria Gomez</td><td>cliente61@correo.com</td><td>Merida</td><td>2025-09-03T15:09:26.995Z</td><td>70e45b47-3f6a-4cf9-a896-bb3ebd358ab7</td><td>clientes_5.csv</td><td>abfss://container-course-databricks-001@sadatabrickscourse001.dfs.core.windows.net/clientes/clientes_5.csv</td><td>2025-09-03T14:48:29Z</td><td>3112</td><td>America</td></tr><tr><td>18</td><td>Juan Perez</td><td>cliente18@correo.com</td><td>Cali</td><td>2025-09-02T19:32:29.774Z</td><td>a9785612-5b6a-4a10-a6c8-13088fd3b9b1</td><td>clientes.csv</td><td>abfss://container-course-databricks-001@sadatabrickscourse001.dfs.core.windows.net/clientes/clientes.csv</td><td>2025-06-22T00:44:25Z</td><td>4486</td><td>null</td></tr><tr><td>60</td><td>Juan Perez</td><td>cliente60@correo.com</td><td>Cartagena</td><td>2025-09-02T19:32:29.774Z</td><td>9d7923b5-f609-4463-812e-796d4c5d82e1</td><td>clientes.csv</td><td>abfss://container-course-databricks-001@sadatabrickscourse001.dfs.core.windows.net/clientes/clientes.csv</td><td>2025-06-22T00:44:25Z</td><td>4486</td><td>null</td></tr><tr><td>58</td><td>Juan Gomez</td><td>cliente58@correo.com</td><td>Cali</td><td>2025-09-02T19:32:29.774Z</td><td>bd4c19cc-1937-4a02-a2ab-54b82ea75a1e</td><td>clientes.csv</td><td>abfss://container-course-databricks-001@sadatabrickscourse001.dfs.core.windows.net/clientes/clientes.csv</td><td>2025-06-22T00:44:25Z</td><td>4486</td><td>null</td></tr><tr><td>65</td><td>Maria Gomez</td><td>cliente65@correo.com</td><td>Lima</td><td>2025-09-03T15:09:26.995Z</td><td>c001205f-4100-4e36-abec-9c76a06bd85f</td><td>clientes_5.csv</td><td>abfss://container-course-databricks-001@sadatabrickscourse001.dfs.core.windows.net/clientes/clientes_5.csv</td><td>2025-09-03T14:48:29Z</td><td>3112</td><td>America</td></tr><tr><td>72</td><td>Juan Perez</td><td>cliente72@correo.com</td><td>Medellin</td><td>2025-09-03T15:09:26.995Z</td><td>e4ed9bd6-439e-4471-a63d-ccf92e39d829</td><td>clientes_5.csv</td><td>abfss://container-course-databricks-001@sadatabrickscourse001.dfs.core.windows.net/clientes/clientes_5.csv</td><td>2025-09-03T14:48:29Z</td><td>3112</td><td>America</td></tr><tr><td>82</td><td>Juan Gomez</td><td>cliente82@correo.com</td><td>Medellin</td><td>2025-09-03T15:09:26.995Z</td><td>cbab9e23-bc2a-46f0-8b36-5f4ae690e068</td><td>clientes_5.csv</td><td>abfss://container-course-databricks-001@sadatabrickscourse001.dfs.core.windows.net/clientes/clientes_5.csv</td><td>2025-09-03T14:48:29Z</td><td>3112</td><td>America</td></tr><tr><td>76</td><td>Juan Gomez</td><td>cliente76@correo.com</td><td>Merida</td><td>2025-09-03T15:09:26.995Z</td><td>fb4b6a4d-163f-4391-9185-3cb76faa3015</td><td>clientes_5.csv</td><td>abfss://container-course-databricks-001@sadatabrickscourse001.dfs.core.windows.net/clientes/clientes_5.csv</td><td>2025-09-03T14:48:29Z</td><td>3112</td><td>America</td></tr><tr><td>53</td><td>Maria Gomez</td><td>cliente53@correo.com</td><td>Cali</td><td>2025-09-02T19:32:29.774Z</td><td>ad3d11a4-6e99-4056-993d-7163a675f85f</td><td>clientes.csv</td><td>abfss://container-course-databricks-001@sadatabrickscourse001.dfs.core.windows.net/clientes/clientes.csv</td><td>2025-06-22T00:44:25Z</td><td>4486</td><td>null</td></tr><tr><td>45</td><td>Maria Perez</td><td>cliente45@correo.com</td><td>Lima</td><td>2025-09-03T15:09:26.995Z</td><td>8d5185d0-0ddc-42e9-ab39-f4dc98461c6e</td><td>clientes_5.csv</td><td>abfss://container-course-databricks-001@sadatabrickscourse001.dfs.core.windows.net/clientes/clientes_5.csv</td><td>2025-09-03T14:48:29Z</td><td>3112</td><td>America</td></tr><tr><td>74</td><td>Juan Gomez</td><td>cliente74@correo.com</td><td>Barranquilla</td><td>2025-09-02T19:32:29.774Z</td><td>a915db02-f805-4984-8fd0-dc65a62adc8b</td><td>clientes.csv</td><td>abfss://container-course-databricks-001@sadatabrickscourse001.dfs.core.windows.net/clientes/clientes.csv</td><td>2025-06-22T00:44:25Z</td><td>4486</td><td>null</td></tr><tr><td>45</td><td>Maria Perez</td><td>cliente45@correo.com</td><td>Cartagena</td><td>2025-09-02T19:32:29.774Z</td><td>f2ee82dd-bfa2-4df1-a7d9-59f4c5600e4d</td><td>clientes.csv</td><td>abfss://container-course-databricks-001@sadatabrickscourse001.dfs.core.windows.net/clientes/clientes.csv</td><td>2025-06-22T00:44:25Z</td><td>4486</td><td>null</td></tr><tr><td>54</td><td>Juan Perez</td><td>cliente54@correo.com</td><td>Barranquilla</td><td>2025-09-02T19:32:29.774Z</td><td>f6811bf6-2f8b-489b-868d-7dc7d24f2afe</td><td>clientes.csv</td><td>abfss://container-course-databricks-001@sadatabrickscourse001.dfs.core.windows.net/clientes/clientes.csv</td><td>2025-06-22T00:44:25Z</td><td>4486</td><td>null</td></tr><tr><td>19</td><td>Maria Gomez</td><td>cliente19@correo.com</td><td>Barranquilla</td><td>2025-09-02T19:32:29.774Z</td><td>f7eec33b-f58d-4675-b8ca-ac1eb8a5f594</td><td>clientes.csv</td><td>abfss://container-course-databricks-001@sadatabrickscourse001.dfs.core.windows.net/clientes/clientes.csv</td><td>2025-06-22T00:44:25Z</td><td>4486</td><td>null</td></tr><tr><td>76</td><td>Juan Gomez</td><td>cliente76@correo.com</td><td>Bogotá</td><td>2025-09-02T19:32:29.774Z</td><td>7f95efe9-0cf7-4880-ba73-b6da927bb133</td><td>clientes.csv</td><td>abfss://container-course-databricks-001@sadatabrickscourse001.dfs.core.windows.net/clientes/clientes.csv</td><td>2025-06-22T00:44:25Z</td><td>4486</td><td>null</td></tr><tr><td>88</td><td>Juan Gomez</td><td>cliente88@correo.com</td><td>Mendoza</td><td>2025-09-03T15:09:26.995Z</td><td>6b2be03c-62a3-4d74-b482-f24f902be1e4</td><td>clientes_5.csv</td><td>abfss://container-course-databricks-001@sadatabrickscourse001.dfs.core.windows.net/clientes/clientes_5.csv</td><td>2025-09-03T14:48:29Z</td><td>3112</td><td>America</td></tr><tr><td>93</td><td>Maria Perez</td><td>cliente93@correo.com</td><td>Cali</td><td>2025-09-02T19:32:29.774Z</td><td>a38c0d6e-7a60-4f30-aae7-852e88aa48e5</td><td>clientes.csv</td><td>abfss://container-course-databricks-001@sadatabrickscourse001.dfs.core.windows.net/clientes/clientes.csv</td><td>2025-06-22T00:44:25Z</td><td>4486</td><td>null</td></tr><tr><td>82</td><td>Juan Gomez</td><td>cliente82@correo.com</td><td>Medellín</td><td>2025-09-02T19:32:29.774Z</td><td>b7ee64c6-ee9a-4fbc-8818-6581bbfa3db0</td><td>clientes.csv</td><td>abfss://container-course-databricks-001@sadatabrickscourse001.dfs.core.windows.net/clientes/clientes.csv</td><td>2025-06-22T00:44:25Z</td><td>4486</td><td>null</td></tr><tr><td>85</td><td>Maria Gomez</td><td>cliente85@correo.com</td><td>Cartagena</td><td>2025-09-02T19:32:29.774Z</td><td>7394f5f6-23b4-4ef4-b961-970ce9f87bee</td><td>clientes.csv</td><td>abfss://container-course-databricks-001@sadatabrickscourse001.dfs.core.windows.net/clientes/clientes.csv</td><td>2025-06-22T00:44:25Z</td><td>4486</td><td>null</td></tr><tr><td>73</td><td>Maria Gomez</td><td>cliente73@correo.com</td><td>Cali</td><td>2025-09-02T19:32:29.774Z</td><td>6fe34d9d-dbc5-42fb-b758-89521cd60149</td><td>clientes.csv</td><td>abfss://container-course-databricks-001@sadatabrickscourse001.dfs.core.windows.net/clientes/clientes.csv</td><td>2025-06-22T00:44:25Z</td><td>4486</td><td>null</td></tr><tr><td>91</td><td>Maria Gomez</td><td>cliente91@correo.com</td><td>Bogotá</td><td>2025-09-02T19:32:29.774Z</td><td>f7d7ed0e-1660-418b-b1f6-438aa7fbf41a</td><td>clientes.csv</td><td>abfss://container-course-databricks-001@sadatabrickscourse001.dfs.core.windows.net/clientes/clientes.csv</td><td>2025-06-22T00:44:25Z</td><td>4486</td><td>null</td></tr><tr><td>92</td><td>Juan Gomez</td><td>cliente92@correo.com</td><td>Medellin</td><td>2025-09-03T15:09:26.995Z</td><td>e3718f7a-71b9-4512-9dbc-1ffab3342d9c</td><td>clientes_5.csv</td><td>abfss://container-course-databricks-001@sadatabrickscourse001.dfs.core.windows.net/clientes/clientes_5.csv</td><td>2025-09-03T14:48:29Z</td><td>3112</td><td>America</td></tr><tr><td>17</td><td>Maria Gomez</td><td>cliente17@correo.com</td><td>Medellín</td><td>2025-09-02T19:32:29.774Z</td><td>b6f73cf2-923e-437d-a6fd-dbcf2f143277</td><td>clientes.csv</td><td>abfss://container-course-databricks-001@sadatabrickscourse001.dfs.core.windows.net/clientes/clientes.csv</td><td>2025-06-22T00:44:25Z</td><td>4486</td><td>null</td></tr><tr><td>74</td><td>Juan Gomez</td><td>cliente74@correo.com</td><td>Barranquilla</td><td>2025-09-03T15:09:26.995Z</td><td>cdb10fd1-cae1-4dab-b325-df33ef93b87e</td><td>clientes_5.csv</td><td>abfss://container-course-databricks-001@sadatabrickscourse001.dfs.core.windows.net/clientes/clientes_5.csv</td><td>2025-09-03T14:48:29Z</td><td>3112</td><td>America</td></tr><tr><td>24</td><td>Juan Perez</td><td>cliente24@correo.com</td><td>Barranquilla</td><td>2025-09-02T19:32:29.774Z</td><td>59b6f809-94ee-4169-8d4d-e464095384a9</td><td>clientes.csv</td><td>abfss://container-course-databricks-001@sadatabrickscourse001.dfs.core.windows.net/clientes/clientes.csv</td><td>2025-06-22T00:44:25Z</td><td>4486</td><td>null</td></tr><tr><td>5</td><td>Maria Gomez</td><td>cliente5@correo.com</td><td>Cartagena</td><td>2025-09-02T19:32:29.774Z</td><td>b3f6cb97-e03b-4e73-a67a-b15d3251119c</td><td>clientes.csv</td><td>abfss://container-course-databricks-001@sadatabrickscourse001.dfs.core.windows.net/clientes/clientes.csv</td><td>2025-06-22T00:44:25Z</td><td>4486</td><td>null</td></tr><tr><td>73</td><td>Maria Gomez</td><td>cliente73@correo.com</td><td>Mendoza</td><td>2025-09-03T15:09:26.995Z</td><td>55ca0d9a-1b7a-407a-bb32-c12a2127627f</td><td>clientes_5.csv</td><td>abfss://container-course-databricks-001@sadatabrickscourse001.dfs.core.windows.net/clientes/clientes_5.csv</td><td>2025-09-03T14:48:29Z</td><td>3112</td><td>America</td></tr><tr><td>100</td><td>Juan Gomez</td><td>cliente100@correo.com</td><td>Lima</td><td>2025-09-03T15:09:26.995Z</td><td>f291160e-d96c-4630-b7c9-f490ad74a0f8</td><td>clientes_5.csv</td><td>abfss://container-course-databricks-001@sadatabrickscourse001.dfs.core.windows.net/clientes/clientes_5.csv</td><td>2025-09-03T14:48:29Z</td><td>3112</td><td>Asia</td></tr><tr><td>90</td><td>Juan Perez</td><td>cliente90@correo.com</td><td>Cartagena</td><td>2025-09-02T19:32:29.774Z</td><td>90091507-3412-4f5f-937d-bf0b8d0f870f</td><td>clientes.csv</td><td>abfss://container-course-databricks-001@sadatabrickscourse001.dfs.core.windows.net/clientes/clientes.csv</td><td>2025-06-22T00:44:25Z</td><td>4486</td><td>null</td></tr><tr><td>20</td><td>Juan Gomez</td><td>cliente20@correo.com</td><td>Cartagena</td><td>2025-09-02T19:32:29.774Z</td><td>f1ceb474-7f6f-4499-b4db-4109c8bc41a4</td><td>clientes.csv</td><td>abfss://container-course-databricks-001@sadatabrickscourse001.dfs.core.windows.net/clientes/clientes.csv</td><td>2025-06-22T00:44:25Z</td><td>4486</td><td>null</td></tr><tr><td>79</td><td>Maria Gomez</td><td>cliente79@correo.com</td><td>Barranquilla</td><td>2025-09-02T19:32:29.774Z</td><td>b3142987-c99c-4b5f-96e0-45959cc0cea4</td><td>clientes.csv</td><td>abfss://container-course-databricks-001@sadatabrickscourse001.dfs.core.windows.net/clientes/clientes.csv</td><td>2025-06-22T00:44:25Z</td><td>4486</td><td>null</td></tr><tr><td>59</td><td>Maria Gomez</td><td>cliente59@correo.com</td><td>Barranquilla</td><td>2025-09-03T15:09:26.995Z</td><td>868c91a7-2e62-4594-85f2-04765aabc935</td><td>clientes_5.csv</td><td>abfss://container-course-databricks-001@sadatabrickscourse001.dfs.core.windows.net/clientes/clientes_5.csv</td><td>2025-09-03T14:48:29Z</td><td>3112</td><td>America</td></tr><tr><td>64</td><td>Juan Gomez</td><td>cliente64@correo.com</td><td>Barranquilla</td><td>2025-09-03T15:09:26.995Z</td><td>aa7b1875-c6c9-463c-8cd4-2d979cb8e864</td><td>clientes_5.csv</td><td>abfss://container-course-databricks-001@sadatabrickscourse001.dfs.core.windows.net/clientes/clientes_5.csv</td><td>2025-09-03T14:48:29Z</td><td>3112</td><td>America</td></tr><tr><td>99</td><td>Maria Perez</td><td>cliente99@correo.com</td><td>Barranquilla</td><td>2025-09-03T15:09:26.995Z</td><td>a90785c5-2b14-4c91-a889-f7c27a487760</td><td>clientes_5.csv</td><td>abfss://container-course-databricks-001@sadatabrickscourse001.dfs.core.windows.net/clientes/clientes_5.csv</td><td>2025-09-03T14:48:29Z</td><td>3112</td><td>America</td></tr><tr><td>75</td><td>Maria Perez</td><td>cliente75@correo.com</td><td>Lima</td><td>2025-09-03T15:09:26.995Z</td><td>1a72b975-a88d-4363-beeb-0d45b2871393</td><td>clientes_5.csv</td><td>abfss://container-course-databricks-001@sadatabrickscourse001.dfs.core.windows.net/clientes/clientes_5.csv</td><td>2025-09-03T14:48:29Z</td><td>3112</td><td>America</td></tr><tr><td>86</td><td>Juan Gomez</td><td>cliente86@correo.com</td><td>Bogotá</td><td>2025-09-02T19:32:29.774Z</td><td>24e43e48-a8d7-43ef-8014-7a13636fa131</td><td>clientes.csv</td><td>abfss://container-course-databricks-001@sadatabrickscourse001.dfs.core.windows.net/clientes/clientes.csv</td><td>2025-06-22T00:44:25Z</td><td>4486</td><td>null</td></tr><tr><td>83</td><td>Maria Gomez</td><td>cliente83@correo.com</td><td>Cali</td><td>2025-09-02T19:32:29.774Z</td><td>4b5533f8-defb-4df1-aca3-f4bee6e8133a</td><td>clientes.csv</td><td>abfss://container-course-databricks-001@sadatabrickscourse001.dfs.core.windows.net/clientes/clientes.csv</td><td>2025-06-22T00:44:25Z</td><td>4486</td><td>null</td></tr><tr><td>69</td><td>Maria Perez</td><td>cliente69@correo.com</td><td>Barranquilla</td><td>2025-09-03T15:09:26.995Z</td><td>820be41c-719b-4547-bf20-82e135b80452</td><td>clientes_5.csv</td><td>abfss://container-course-databricks-001@sadatabrickscourse001.dfs.core.windows.net/clientes/clientes_5.csv</td><td>2025-09-03T14:48:29Z</td><td>3112</td><td>America</td></tr><tr><td>75</td><td>Maria Perez</td><td>cliente75@correo.com</td><td>Cartagena</td><td>2025-09-02T19:32:29.774Z</td><td>664e5c15-3cf6-4440-9e65-0a8d0b8d76aa</td><td>clientes.csv</td><td>abfss://container-course-databricks-001@sadatabrickscourse001.dfs.core.windows.net/clientes/clientes.csv</td><td>2025-06-22T00:44:25Z</td><td>4486</td><td>null</td></tr><tr><td>96</td><td>Juan Perez</td><td>cliente96@correo.com</td><td>Bogotá</td><td>2025-09-02T19:32:29.774Z</td><td>b4cf7d68-a6ce-4b27-86ea-93137d0cadc7</td><td>clientes.csv</td><td>abfss://container-course-databricks-001@sadatabrickscourse001.dfs.core.windows.net/clientes/clientes.csv</td><td>2025-06-22T00:44:25Z</td><td>4486</td><td>null</td></tr><tr><td>39</td><td>Maria Perez</td><td>cliente39@correo.com</td><td>Barranquilla</td><td>2025-09-02T19:32:29.774Z</td><td>18c50f56-f0d4-4937-969a-998d43b4330c</td><td>clientes.csv</td><td>abfss://container-course-databricks-001@sadatabrickscourse001.dfs.core.windows.net/clientes/clientes.csv</td><td>2025-06-22T00:44:25Z</td><td>4486</td><td>null</td></tr><tr><td>57</td><td>Maria Perez</td><td>cliente57@correo.com</td><td>Medellin</td><td>2025-09-03T15:09:26.995Z</td><td>2ef40812-1950-4dae-9319-04bc8f9e0832</td><td>clientes_5.csv</td><td>abfss://container-course-databricks-001@sadatabrickscourse001.dfs.core.windows.net/clientes/clientes_5.csv</td><td>2025-09-03T14:48:29Z</td><td>3112</td><td>America</td></tr><tr><td>50</td><td>Juan Gomez</td><td>cliente50@correo.com</td><td>Lima</td><td>2025-09-03T15:09:26.995Z</td><td>07f1ba65-bcf0-4933-b85a-c2b8abedf8fd</td><td>clientes_5.csv</td><td>abfss://container-course-databricks-001@sadatabrickscourse001.dfs.core.windows.net/clientes/clientes_5.csv</td><td>2025-09-03T14:48:29Z</td><td>3112</td><td>America</td></tr><tr><td>93</td><td>Maria Perez</td><td>cliente93@correo.com</td><td>Mendoza</td><td>2025-09-03T15:09:26.995Z</td><td>445438e1-a85d-43c3-9921-ffbff4e851a0</td><td>clientes_5.csv</td><td>abfss://container-course-databricks-001@sadatabrickscourse001.dfs.core.windows.net/clientes/clientes_5.csv</td><td>2025-09-03T14:48:29Z</td><td>3112</td><td>America</td></tr><tr><td>36</td><td>Juan Perez</td><td>cliente36@correo.com</td><td>Bogotá</td><td>2025-09-02T19:32:29.774Z</td><td>fad507a0-d481-47ae-964f-99bc77ff71bf</td><td>clientes.csv</td><td>abfss://container-course-databricks-001@sadatabrickscourse001.dfs.core.windows.net/clientes/clientes.csv</td><td>2025-06-22T00:44:25Z</td><td>4486</td><td>null</td></tr><tr><td>98</td><td>Juan Gomez</td><td>cliente98@correo.com</td><td>Cali</td><td>2025-09-02T19:32:29.774Z</td><td>a4dbc660-d21a-4e04-963a-1e8b24c96487</td><td>clientes.csv</td><td>abfss://container-course-databricks-001@sadatabrickscourse001.dfs.core.windows.net/clientes/clientes.csv</td><td>2025-06-22T00:44:25Z</td><td>4486</td><td>null</td></tr><tr><td>23</td><td>Maria Gomez</td><td>cliente23@correo.com</td><td>Cali</td><td>2025-09-02T19:32:29.774Z</td><td>a71cd891-c427-479c-9f07-695f2fcfa654</td><td>clientes.csv</td><td>abfss://container-course-databricks-001@sadatabrickscourse001.dfs.core.windows.net/clientes/clientes.csv</td><td>2025-06-22T00:44:25Z</td><td>4486</td><td>null</td></tr><tr><td>47</td><td>Maria Gomez</td><td>cliente47@correo.com</td><td>Medellin</td><td>2025-09-03T15:09:26.995Z</td><td>9397a7f0-4ece-4b3d-86d9-d50011f931fd</td><td>clientes_5.csv</td><td>abfss://container-course-databricks-001@sadatabrickscourse001.dfs.core.windows.net/clientes/clientes_5.csv</td><td>2025-09-03T14:48:29Z</td><td>3112</td><td>America</td></tr><tr><td>71</td><td>Maria Gomez</td><td>cliente71@correo.com</td><td>Bogotá</td><td>2025-09-02T19:32:29.774Z</td><td>c426b180-7621-42f0-85c4-927220ef90c6</td><td>clientes.csv</td><td>abfss://container-course-databricks-001@sadatabrickscourse001.dfs.core.windows.net/clientes/clientes.csv</td><td>2025-06-22T00:44:25Z</td><td>4486</td><td>null</td></tr><tr><td>33</td><td>Maria Perez</td><td>cliente33@correo.com</td><td>Cali</td><td>2025-09-02T19:32:29.774Z</td><td>cdb7963c-c664-42be-a4fa-e001de166750</td><td>clientes.csv</td><td>abfss://container-course-databricks-001@sadatabrickscourse001.dfs.core.windows.net/clientes/clientes.csv</td><td>2025-06-22T00:44:25Z</td><td>4486</td><td>null</td></tr><tr><td>89</td><td>Maria Gomez</td><td>cliente89@correo.com</td><td>Barranquilla</td><td>2025-09-03T15:09:26.995Z</td><td>3c214386-f305-4e93-89b6-316ed7038acc</td><td>clientes_5.csv</td><td>abfss://container-course-databricks-001@sadatabrickscourse001.dfs.core.windows.net/clientes/clientes_5.csv</td><td>2025-09-03T14:48:29Z</td><td>3112</td><td>America</td></tr><tr><td>32</td><td>Juan Gomez</td><td>cliente32@correo.com</td><td>Medellín</td><td>2025-09-02T19:32:29.774Z</td><td>7ec63ba1-4c97-4be9-a0c5-f6086804a3d8</td><td>clientes.csv</td><td>abfss://container-course-databricks-001@sadatabrickscourse001.dfs.core.windows.net/clientes/clientes.csv</td><td>2025-06-22T00:44:25Z</td><td>4486</td><td>null</td></tr><tr><td>92</td><td>Juan Gomez</td><td>cliente92@correo.com</td><td>Medellín</td><td>2025-09-02T19:32:29.774Z</td><td>636930d0-195f-45fa-b6d6-4e15f2b92b95</td><td>clientes.csv</td><td>abfss://container-course-databricks-001@sadatabrickscourse001.dfs.core.windows.net/clientes/clientes.csv</td><td>2025-06-22T00:44:25Z</td><td>4486</td><td>null</td></tr><tr><td>7</td><td>Maria Gomez</td><td>cliente7@correo.com</td><td>Medellín</td><td>2025-09-02T19:32:29.774Z</td><td>a43accbb-6f30-4136-988e-cbc40649be6f</td><td>clientes.csv</td><td>abfss://container-course-databricks-001@sadatabrickscourse001.dfs.core.windows.net/clientes/clientes.csv</td><td>2025-06-22T00:44:25Z</td><td>4486</td><td>null</td></tr><tr><td>48</td><td>Juan Perez</td><td>cliente48@correo.com</td><td>Mendoza</td><td>2025-09-03T15:09:26.995Z</td><td>28b6b6b9-2ce3-4df8-97e7-4f442765cb66</td><td>clientes_5.csv</td><td>abfss://container-course-databricks-001@sadatabrickscourse001.dfs.core.windows.net/clientes/clientes_5.csv</td><td>2025-09-03T14:48:29Z</td><td>3112</td><td>America</td></tr><tr><td>12</td><td>Juan Perez</td><td>cliente12@correo.com</td><td>Medellín</td><td>2025-09-02T19:32:29.774Z</td><td>28a4961a-7f83-489e-9243-bf162f1655c4</td><td>clientes.csv</td><td>abfss://container-course-databricks-001@sadatabrickscourse001.dfs.core.windows.net/clientes/clientes.csv</td><td>2025-06-22T00:44:25Z</td><td>4486</td><td>null</td></tr><tr><td>57</td><td>Maria Perez</td><td>cliente57@correo.com</td><td>Medellín</td><td>2025-09-02T19:32:29.774Z</td><td>9c614b10-eead-46e1-88d6-7960d884fd15</td><td>clientes.csv</td><td>abfss://container-course-databricks-001@sadatabrickscourse001.dfs.core.windows.net/clientes/clientes.csv</td><td>2025-06-22T00:44:25Z</td><td>4486</td><td>null</td></tr><tr><td>81</td><td>Maria Perez</td><td>cliente81@correo.com</td><td>Merida</td><td>2025-09-03T15:09:26.995Z</td><td>59b9dede-b3ec-4323-ac98-ecdfeb219323</td><td>clientes_5.csv</td><td>abfss://container-course-databricks-001@sadatabrickscourse001.dfs.core.windows.net/clientes/clientes_5.csv</td><td>2025-09-03T14:48:29Z</td><td>3112</td><td>America</td></tr><tr><td>80</td><td>Juan Gomez</td><td>cliente80@correo.com</td><td>Lima</td><td>2025-09-03T15:09:26.995Z</td><td>d20d44af-dd68-481b-9524-e9b3578d9607</td><td>clientes_5.csv</td><td>abfss://container-course-databricks-001@sadatabrickscourse001.dfs.core.windows.net/clientes/clientes_5.csv</td><td>2025-09-03T14:48:29Z</td><td>3112</td><td>America</td></tr><tr><td>3</td><td>Maria Perez</td><td>cliente3@correo.com</td><td>Cali</td><td>2025-09-02T19:32:29.774Z</td><td>dc849ad5-8c12-480a-9bb7-5dc393266864</td><td>clientes.csv</td><td>abfss://container-course-databricks-001@sadatabrickscourse001.dfs.core.windows.net/clientes/clientes.csv</td><td>2025-06-22T00:44:25Z</td><td>4486</td><td>null</td></tr><tr><td>77</td><td>Maria Gomez</td><td>cliente77@correo.com</td><td>Medellin</td><td>2025-09-03T15:09:26.995Z</td><td>8bf3330a-8711-4929-8e8e-e4ba77ac3dba</td><td>clientes_5.csv</td><td>abfss://container-course-databricks-001@sadatabrickscourse001.dfs.core.windows.net/clientes/clientes_5.csv</td><td>2025-09-03T14:48:29Z</td><td>3112</td><td>America</td></tr><tr><td>91</td><td>Maria Gomez</td><td>cliente91@correo.com</td><td>Merida</td><td>2025-09-03T15:09:26.995Z</td><td>b00b3922-4de8-43ae-afa2-846f4c84d784</td><td>clientes_5.csv</td><td>abfss://container-course-databricks-001@sadatabrickscourse001.dfs.core.windows.net/clientes/clientes_5.csv</td><td>2025-09-03T14:48:29Z</td><td>3112</td><td>America</td></tr><tr><td>66</td><td>Juan Perez</td><td>cliente66@correo.com</td><td>Bogotá</td><td>2025-09-02T19:32:29.774Z</td><td>32a1525e-20d4-4278-a458-09bdec238064</td><td>clientes.csv</td><td>abfss://container-course-databricks-001@sadatabrickscourse001.dfs.core.windows.net/clientes/clientes.csv</td><td>2025-06-22T00:44:25Z</td><td>4486</td><td>null</td></tr><tr><td>79</td><td>Maria Gomez</td><td>cliente79@correo.com</td><td>Barranquilla</td><td>2025-09-03T15:09:26.995Z</td><td>c4c50f0c-6b7d-4709-b4f3-010432bc2923</td><td>clientes_5.csv</td><td>abfss://container-course-databricks-001@sadatabrickscourse001.dfs.core.windows.net/clientes/clientes_5.csv</td><td>2025-09-03T14:48:29Z</td><td>3112</td><td>America</td></tr><tr><td>40</td><td>Juan Gomez</td><td>cliente40@correo.com</td><td>Cartagena</td><td>2025-09-02T19:32:29.774Z</td><td>8024481b-2218-48dc-9f21-ba3caa0193ed</td><td>clientes.csv</td><td>abfss://container-course-databricks-001@sadatabrickscourse001.dfs.core.windows.net/clientes/clientes.csv</td><td>2025-06-22T00:44:25Z</td><td>4486</td><td>null</td></tr><tr><td>48</td><td>Juan Perez</td><td>cliente48@correo.com</td><td>Cali</td><td>2025-09-02T19:32:29.774Z</td><td>fd6ed822-e1ed-46d4-bdef-e48866950380</td><td>clientes.csv</td><td>abfss://container-course-databricks-001@sadatabrickscourse001.dfs.core.windows.net/clientes/clientes.csv</td><td>2025-06-22T00:44:25Z</td><td>4486</td><td>null</td></tr><tr><td>100</td><td>Juan Gomez</td><td>cliente100@correo.com</td><td>Cartagena</td><td>2025-09-02T19:32:29.774Z</td><td>55592c6e-f772-49fd-aa41-27758e4da08c</td><td>clientes.csv</td><td>abfss://container-course-databricks-001@sadatabrickscourse001.dfs.core.windows.net/clientes/clientes.csv</td><td>2025-06-22T00:44:25Z</td><td>4486</td><td>null</td></tr><tr><td>44</td><td>Juan Gomez</td><td>cliente44@correo.com</td><td>Barranquilla</td><td>2025-09-03T15:09:26.995Z</td><td>9c5284ec-7e84-4266-889a-6c4de7aeb7cf</td><td>clientes_5.csv</td><td>abfss://container-course-databricks-001@sadatabrickscourse001.dfs.core.windows.net/clientes/clientes_5.csv</td><td>2025-09-03T14:48:29Z</td><td>3112</td><td>America</td></tr><tr><td>68</td><td>Juan Gomez</td><td>cliente68@correo.com</td><td>Mendoza</td><td>2025-09-03T15:09:26.995Z</td><td>629c936a-a53e-495f-add3-e68b4615523b</td><td>clientes_5.csv</td><td>abfss://container-course-databricks-001@sadatabrickscourse001.dfs.core.windows.net/clientes/clientes_5.csv</td><td>2025-09-03T14:48:29Z</td><td>3112</td><td>America</td></tr><tr><td>78</td><td>Juan Perez</td><td>cliente78@correo.com</td><td>Cali</td><td>2025-09-02T19:32:29.774Z</td><td>ab149f1b-1fb2-4d17-80fb-b25057b16318</td><td>clientes.csv</td><td>abfss://container-course-databricks-001@sadatabrickscourse001.dfs.core.windows.net/clientes/clientes.csv</td><td>2025-06-22T00:44:25Z</td><td>4486</td><td>null</td></tr><tr><td>46</td><td>Juan Gomez</td><td>cliente46@correo.com</td><td>Bogotá</td><td>2025-09-02T19:32:29.774Z</td><td>5e648cf4-1214-4894-8444-59545a8c6920</td><td>clientes.csv</td><td>abfss://container-course-databricks-001@sadatabrickscourse001.dfs.core.windows.net/clientes/clientes.csv</td><td>2025-06-22T00:44:25Z</td><td>4486</td><td>null</td></tr><tr><td>65</td><td>Maria Gomez</td><td>cliente65@correo.com</td><td>Cartagena</td><td>2025-09-02T19:32:29.774Z</td><td>204b0a60-2601-4249-934f-4cdb9c132e3f</td><td>clientes.csv</td><td>abfss://container-course-databricks-001@sadatabrickscourse001.dfs.core.windows.net/clientes/clientes.csv</td><td>2025-06-22T00:44:25Z</td><td>4486</td><td>null</td></tr><tr><td>78</td><td>Juan Perez</td><td>cliente78@correo.com</td><td>Mendoza</td><td>2025-09-03T15:09:26.995Z</td><td>a63a5600-6c14-4085-be93-e77fc52f70ea</td><td>clientes_5.csv</td><td>abfss://container-course-databricks-001@sadatabrickscourse001.dfs.core.windows.net/clientes/clientes_5.csv</td><td>2025-09-03T14:48:29Z</td><td>3112</td><td>America</td></tr><tr><td>42</td><td>Juan Perez</td><td>cliente42@correo.com</td><td>Medellín</td><td>2025-09-02T19:32:29.774Z</td><td>2cbb1d3c-1b26-4a75-82de-d7d9ed4194be</td><td>clientes.csv</td><td>abfss://container-course-databricks-001@sadatabrickscourse001.dfs.core.windows.net/clientes/clientes.csv</td><td>2025-06-22T00:44:25Z</td><td>4486</td><td>null</td></tr><tr><td>4</td><td>Juan Gomez</td><td>cliente4@correo.com</td><td>Barranquilla</td><td>2025-09-02T19:32:29.774Z</td><td>77e0c9e8-e247-43f6-aa22-2ee7fe1c1653</td><td>clientes.csv</td><td>abfss://container-course-databricks-001@sadatabrickscourse001.dfs.core.windows.net/clientes/clientes.csv</td><td>2025-06-22T00:44:25Z</td><td>4486</td><td>null</td></tr><tr><td>70</td><td>Juan Gomez</td><td>cliente70@correo.com</td><td>Lima</td><td>2025-09-03T15:09:26.995Z</td><td>12feaf5a-c68e-4cf7-80a7-5a755b35a334</td><td>clientes_5.csv</td><td>abfss://container-course-databricks-001@sadatabrickscourse001.dfs.core.windows.net/clientes/clientes_5.csv</td><td>2025-09-03T14:48:29Z</td><td>3112</td><td>America</td></tr><tr><td>72</td><td>Juan Perez</td><td>cliente72@correo.com</td><td>Medellín</td><td>2025-09-02T19:32:29.774Z</td><td>e19ead82-7741-4f66-820c-60e8ba09c82d</td><td>clientes.csv</td><td>abfss://container-course-databricks-001@sadatabrickscourse001.dfs.core.windows.net/clientes/clientes.csv</td><td>2025-06-22T00:44:25Z</td><td>4486</td><td>null</td></tr><tr><td>99</td><td>Maria Perez</td><td>cliente99@correo.com</td><td>Barranquilla</td><td>2025-09-02T19:32:29.774Z</td><td>da5897eb-6d76-4305-9eb9-f224c8d1a427</td><td>clientes.csv</td><td>abfss://container-course-databricks-001@sadatabrickscourse001.dfs.core.windows.net/clientes/clientes.csv</td><td>2025-06-22T00:44:25Z</td><td>4486</td><td>null</td></tr><tr><td>56</td><td>Juan Gomez</td><td>cliente56@correo.com</td><td>Bogotá</td><td>2025-09-02T19:32:29.774Z</td><td>b7816756-7fed-4a8a-b4ae-f139606bdad4</td><td>clientes.csv</td><td>abfss://container-course-databricks-001@sadatabrickscourse001.dfs.core.windows.net/clientes/clientes.csv</td><td>2025-06-22T00:44:25Z</td><td>4486</td><td>null</td></tr><tr><td>58</td><td>Juan Gomez</td><td>cliente58@correo.com</td><td>Mendoza</td><td>2025-09-03T15:09:26.995Z</td><td>6f2f8fe5-f946-4eef-862b-ec67efce8a19</td><td>clientes_5.csv</td><td>abfss://container-course-databricks-001@sadatabrickscourse001.dfs.core.windows.net/clientes/clientes_5.csv</td><td>2025-09-03T14:48:29Z</td><td>3112</td><td>America</td></tr><tr><td>84</td><td>Juan Perez</td><td>cliente84@correo.com</td><td>Barranquilla</td><td>2025-09-02T19:32:29.774Z</td><td>14bcb14a-039b-4044-b99d-cd0a5b02bf40</td><td>clientes.csv</td><td>abfss://container-course-databricks-001@sadatabrickscourse001.dfs.core.windows.net/clientes/clientes.csv</td><td>2025-06-22T00:44:25Z</td><td>4486</td><td>null</td></tr><tr><td>90</td><td>Juan Perez</td><td>cliente90@correo.com</td><td>Lima</td><td>2025-09-03T15:09:26.995Z</td><td>9b813b7a-bf16-4248-88cb-10e5de48d7ff</td><td>clientes_5.csv</td><td>abfss://container-course-databricks-001@sadatabrickscourse001.dfs.core.windows.net/clientes/clientes_5.csv</td><td>2025-09-03T14:48:29Z</td><td>3112</td><td>America</td></tr><tr><td>55</td><td>Maria Gomez</td><td>cliente55@correo.com</td><td>Cartagena</td><td>2025-09-02T19:32:29.774Z</td><td>e0868e98-9052-49d5-87ad-f15c6c6104b5</td><td>clientes.csv</td><td>abfss://container-course-databricks-001@sadatabrickscourse001.dfs.core.windows.net/clientes/clientes.csv</td><td>2025-06-22T00:44:25Z</td><td>4486</td><td>null</td></tr><tr><td>81</td><td>Maria Perez</td><td>cliente81@correo.com</td><td>Bogotá</td><td>2025-09-02T19:32:29.774Z</td><td>3d65794e-7fb5-4c0b-9b40-be65269161b0</td><td>clientes.csv</td><td>abfss://container-course-databricks-001@sadatabrickscourse001.dfs.core.windows.net/clientes/clientes.csv</td><td>2025-06-22T00:44:25Z</td><td>4486</td><td>null</td></tr></tbody></table></div>"
      ]
     },
     "metadata": {
      "application/vnd.databricks.v1+output": {
       "addedWidgets": {},
       "aggData": [],
       "aggError": "",
       "aggOverflow": false,
       "aggSchema": [],
       "aggSeriesLimitReached": false,
       "aggType": "",
       "arguments": {},
       "columnCustomDisplayInfos": {},
       "data": [
        [
         "47",
         "Maria Gomez",
         "cliente47@correo.com",
         "Medellín",
         "2025-09-02T19:32:29.774Z",
         "90d8ec08-4f47-424c-adb7-b1332b79c5f6",
         "clientes.csv",
         "abfss://container-course-databricks-001@sadatabrickscourse001.dfs.core.windows.net/clientes/clientes.csv",
         "2025-06-22T00:44:25Z",
         4486,
         null
        ],
        [
         "30",
         "Juan Perez",
         "cliente30@correo.com",
         "Cartagena",
         "2025-09-02T19:32:29.774Z",
         "bbaf8e34-c48f-4e19-a065-e2b6bf526489",
         "clientes.csv",
         "abfss://container-course-databricks-001@sadatabrickscourse001.dfs.core.windows.net/clientes/clientes.csv",
         "2025-06-22T00:44:25Z",
         4486,
         null
        ],
        [
         "67",
         "Maria Gomez",
         "cliente67@correo.com",
         "Medellin",
         "2025-09-03T15:09:26.995Z",
         "8c820ff9-ad23-4387-b569-b10e6530d0d1",
         "clientes_5.csv",
         "abfss://container-course-databricks-001@sadatabrickscourse001.dfs.core.windows.net/clientes/clientes_5.csv",
         "2025-09-03T14:48:29Z",
         3112,
         "America"
        ],
        [
         "26",
         "Juan Gomez",
         "cliente26@correo.com",
         "Bogotá",
         "2025-09-02T19:32:29.774Z",
         "f095a4c7-1a56-40e6-81d5-fd11e0f8871b",
         "clientes.csv",
         "abfss://container-course-databricks-001@sadatabrickscourse001.dfs.core.windows.net/clientes/clientes.csv",
         "2025-06-22T00:44:25Z",
         4486,
         null
        ],
        [
         "96",
         "Juan Perez",
         "cliente96@correo.com",
         "Merida",
         "2025-09-03T15:09:26.995Z",
         "5482249f-9a64-4a52-883e-928fea4f2079",
         "clientes_5.csv",
         "abfss://container-course-databricks-001@sadatabrickscourse001.dfs.core.windows.net/clientes/clientes_5.csv",
         "2025-09-03T14:48:29Z",
         3112,
         "America"
        ],
        [
         "15",
         "Maria Perez",
         "cliente15@correo.com",
         "Cartagena",
         "2025-09-02T19:32:29.774Z",
         "3a5db812-8e37-4aa3-b78d-df0df16fc14b",
         "clientes.csv",
         "abfss://container-course-databricks-001@sadatabrickscourse001.dfs.core.windows.net/clientes/clientes.csv",
         "2025-06-22T00:44:25Z",
         4486,
         null
        ],
        [
         "60",
         "Juan Perez",
         "cliente60@correo.com",
         "Lima",
         "2025-09-03T15:09:26.995Z",
         "4dac6e6f-e20f-442c-a1e4-2a85ce294522",
         "clientes_5.csv",
         "abfss://container-course-databricks-001@sadatabrickscourse001.dfs.core.windows.net/clientes/clientes_5.csv",
         "2025-09-03T14:48:29Z",
         3112,
         "America"
        ],
        [
         "38",
         "Juan Gomez",
         "cliente38@correo.com",
         "Cali",
         "2025-09-02T19:32:29.774Z",
         "9b338013-69e7-4d37-bcf5-679c114e849a",
         "clientes.csv",
         "abfss://container-course-databricks-001@sadatabrickscourse001.dfs.core.windows.net/clientes/clientes.csv",
         "2025-06-22T00:44:25Z",
         4486,
         null
        ],
        [
         "67",
         "Maria Gomez",
         "cliente67@correo.com",
         "Medellín",
         "2025-09-02T19:32:29.774Z",
         "5a7380c4-ac6b-4927-a2ea-07ad5b8f2aac",
         "clientes.csv",
         "abfss://container-course-databricks-001@sadatabrickscourse001.dfs.core.windows.net/clientes/clientes.csv",
         "2025-06-22T00:44:25Z",
         4486,
         null
        ],
        [
         "87",
         "Maria Perez",
         "cliente87@correo.com",
         "Medellín",
         "2025-09-02T19:32:29.774Z",
         "ee08474d-79ca-46c1-9ca2-bab216bb377e",
         "clientes.csv",
         "abfss://container-course-databricks-001@sadatabrickscourse001.dfs.core.windows.net/clientes/clientes.csv",
         "2025-06-22T00:44:25Z",
         4486,
         null
        ],
        [
         "13",
         "Maria Gomez",
         "cliente13@correo.com",
         "Cali",
         "2025-09-02T19:32:29.774Z",
         "86d40952-2b98-40a9-bfa7-5513988b8e46",
         "clientes.csv",
         "abfss://container-course-databricks-001@sadatabrickscourse001.dfs.core.windows.net/clientes/clientes.csv",
         "2025-06-22T00:44:25Z",
         4486,
         null
        ],
        [
         "49",
         "Maria Gomez",
         "cliente49@correo.com",
         "Barranquilla",
         "2025-09-03T15:09:26.995Z",
         "e6d92430-bab1-4a05-bea8-22c5fab29ef2",
         "clientes_5.csv",
         "abfss://container-course-databricks-001@sadatabrickscourse001.dfs.core.windows.net/clientes/clientes_5.csv",
         "2025-09-03T14:48:29Z",
         3112,
         "America"
        ],
        [
         "62",
         "Juan Gomez",
         "cliente62@correo.com",
         "Medellin",
         "2025-09-03T15:09:26.995Z",
         "d1b02bc4-f7ba-4ed3-8e0e-73268952cf0f",
         "clientes_5.csv",
         "abfss://container-course-databricks-001@sadatabrickscourse001.dfs.core.windows.net/clientes/clientes_5.csv",
         "2025-09-03T14:48:29Z",
         3112,
         "America"
        ],
        [
         "10",
         "Juan Gomez",
         "cliente10@correo.com",
         "Cartagena",
         "2025-09-02T19:32:29.774Z",
         "57051974-4dfd-4a80-b99a-d444df6f108b",
         "clientes.csv",
         "abfss://container-course-databricks-001@sadatabrickscourse001.dfs.core.windows.net/clientes/clientes.csv",
         "2025-06-22T00:44:25Z",
         4486,
         null
        ],
        [
         "1",
         "Maria Gomez",
         "cliente1@correo.com",
         "Bogotá",
         "2025-09-02T19:32:29.774Z",
         "60791e8e-4ddd-4dd4-8cb9-42f02b0a90ef",
         "clientes.csv",
         "abfss://container-course-databricks-001@sadatabrickscourse001.dfs.core.windows.net/clientes/clientes.csv",
         "2025-06-22T00:44:25Z",
         4486,
         null
        ],
        [
         "70",
         "Juan Gomez",
         "cliente70@correo.com",
         "Cartagena",
         "2025-09-02T19:32:29.774Z",
         "8f13327e-3c56-4f38-8e0c-e497d4e592a9",
         "clientes.csv",
         "abfss://container-course-databricks-001@sadatabrickscourse001.dfs.core.windows.net/clientes/clientes.csv",
         "2025-06-22T00:44:25Z",
         4486,
         null
        ],
        [
         "14",
         "Juan Gomez",
         "cliente14@correo.com",
         "Barranquilla",
         "2025-09-02T19:32:29.774Z",
         "1d5437ca-7484-42cd-83e5-3a3ca1a15aa4",
         "clientes.csv",
         "abfss://container-course-databricks-001@sadatabrickscourse001.dfs.core.windows.net/clientes/clientes.csv",
         "2025-06-22T00:44:25Z",
         4486,
         null
        ],
        [
         "34",
         "Juan Gomez",
         "cliente34@correo.com",
         "Barranquilla",
         "2025-09-02T19:32:29.774Z",
         "69c4cedd-6416-4976-bb31-2813e83a4c64",
         "clientes.csv",
         "abfss://container-course-databricks-001@sadatabrickscourse001.dfs.core.windows.net/clientes/clientes.csv",
         "2025-06-22T00:44:25Z",
         4486,
         null
        ],
        [
         "87",
         "Maria Perez",
         "cliente87@correo.com",
         "Medellin",
         "2025-09-03T15:09:26.995Z",
         "5ad2ae64-8e2d-47b2-8418-49a9c8aa5382",
         "clientes_5.csv",
         "abfss://container-course-databricks-001@sadatabrickscourse001.dfs.core.windows.net/clientes/clientes_5.csv",
         "2025-09-03T14:48:29Z",
         3112,
         "America"
        ],
        [
         "50",
         "Juan Gomez",
         "cliente50@correo.com",
         "Cartagena",
         "2025-09-02T19:32:29.774Z",
         "839e4bd4-a112-4253-9272-31a0f0495e1b",
         "clientes.csv",
         "abfss://container-course-databricks-001@sadatabrickscourse001.dfs.core.windows.net/clientes/clientes.csv",
         "2025-06-22T00:44:25Z",
         4486,
         null
        ],
        [
         "51",
         "Maria Perez",
         "cliente51@correo.com",
         "Bogotá",
         "2025-09-02T19:32:29.774Z",
         "e8923cf3-fbbd-41e9-976e-85d201854b4f",
         "clientes.csv",
         "abfss://container-course-databricks-001@sadatabrickscourse001.dfs.core.windows.net/clientes/clientes.csv",
         "2025-06-22T00:44:25Z",
         4486,
         null
        ],
        [
         "22",
         "Juan Gomez",
         "cliente22@correo.com",
         "Medellín",
         "2025-09-02T19:32:29.774Z",
         "b42a277e-a2d6-4276-9481-d519d81ba827",
         "clientes.csv",
         "abfss://container-course-databricks-001@sadatabrickscourse001.dfs.core.windows.net/clientes/clientes.csv",
         "2025-06-22T00:44:25Z",
         4486,
         null
        ],
        [
         "85",
         "Maria Gomez",
         "cliente85@correo.com",
         "Lima",
         "2025-09-03T15:09:26.995Z",
         "f3ca7f7f-a214-484e-bf83-128b02e23824",
         "clientes_5.csv",
         "abfss://container-course-databricks-001@sadatabrickscourse001.dfs.core.windows.net/clientes/clientes_5.csv",
         "2025-09-03T14:48:29Z",
         3112,
         "America"
        ],
        [
         "9",
         "Maria Perez",
         "cliente9@correo.com",
         "Barranquilla",
         "2025-09-02T19:32:29.774Z",
         "85d33a48-0a20-48e6-9ed2-815e6e08b69d",
         "clientes.csv",
         "abfss://container-course-databricks-001@sadatabrickscourse001.dfs.core.windows.net/clientes/clientes.csv",
         "2025-06-22T00:44:25Z",
         4486,
         null
        ],
        [
         "52",
         "Juan Gomez",
         "cliente52@correo.com",
         "Medellín",
         "2025-09-02T19:32:29.774Z",
         "d0395362-753d-47ef-8184-bc901f6e9556",
         "clientes.csv",
         "abfss://container-course-databricks-001@sadatabrickscourse001.dfs.core.windows.net/clientes/clientes.csv",
         "2025-06-22T00:44:25Z",
         4486,
         null
        ],
        [
         "55",
         "Maria Gomez",
         "cliente55@correo.com",
         "Lima",
         "2025-09-03T15:09:26.995Z",
         "390a04f9-91dd-406e-b271-7d0358d1ba03",
         "clientes_5.csv",
         "abfss://container-course-databricks-001@sadatabrickscourse001.dfs.core.windows.net/clientes/clientes_5.csv",
         "2025-09-03T14:48:29Z",
         3112,
         "America"
        ],
        [
         "43",
         "Maria Gomez",
         "cliente43@correo.com",
         "Mendoza",
         "2025-09-03T15:09:26.995Z",
         "2a70cc1b-9f41-4cb5-aef9-76c64bfa4cd9",
         "clientes_5.csv",
         "abfss://container-course-databricks-001@sadatabrickscourse001.dfs.core.windows.net/clientes/clientes_5.csv",
         "2025-09-03T14:48:29Z",
         3112,
         "America"
        ],
        [
         "98",
         "Juan Gomez",
         "cliente98@correo.com",
         "Mendoza",
         "2025-09-03T15:09:26.995Z",
         "1c2e82dc-8e17-49bc-8283-60f237a5cafa",
         "clientes_5.csv",
         "abfss://container-course-databricks-001@sadatabrickscourse001.dfs.core.windows.net/clientes/clientes_5.csv",
         "2025-09-03T14:48:29Z",
         3112,
         "America"
        ],
        [
         "21",
         "Maria Perez",
         "cliente21@correo.com",
         "Bogotá",
         "2025-09-02T19:32:29.774Z",
         "6e90afcf-5947-4acc-8db5-542c9f2760d9",
         "clientes.csv",
         "abfss://container-course-databricks-001@sadatabrickscourse001.dfs.core.windows.net/clientes/clientes.csv",
         "2025-06-22T00:44:25Z",
         4486,
         null
        ],
        [
         "27",
         "Maria Perez",
         "cliente27@correo.com",
         "Medellín",
         "2025-09-02T19:32:29.774Z",
         "e17e8c35-ba6b-4f9e-b362-1dfbb4078561",
         "clientes.csv",
         "abfss://container-course-databricks-001@sadatabrickscourse001.dfs.core.windows.net/clientes/clientes.csv",
         "2025-06-22T00:44:25Z",
         4486,
         null
        ],
        [
         "46",
         "Juan Gomez",
         "cliente46@correo.com",
         "Merida",
         "2025-09-03T15:09:26.995Z",
         "d4b23198-cd86-4416-846f-d702e865dc62",
         "clientes_5.csv",
         "abfss://container-course-databricks-001@sadatabrickscourse001.dfs.core.windows.net/clientes/clientes_5.csv",
         "2025-09-03T14:48:29Z",
         3112,
         "America"
        ],
        [
         "49",
         "Maria Gomez",
         "cliente49@correo.com",
         "Barranquilla",
         "2025-09-02T19:32:29.774Z",
         "31e9e1c9-baad-4149-9eb4-423c8e160432",
         "clientes.csv",
         "abfss://container-course-databricks-001@sadatabrickscourse001.dfs.core.windows.net/clientes/clientes.csv",
         "2025-06-22T00:44:25Z",
         4486,
         null
        ],
        [
         "97",
         "Maria Gomez",
         "cliente97@correo.com",
         "Medellin",
         "2025-09-03T15:09:26.995Z",
         "343389b3-579b-4efd-9555-7611feeaf6b6",
         "clientes_5.csv",
         "abfss://container-course-databricks-001@sadatabrickscourse001.dfs.core.windows.net/clientes/clientes_5.csv",
         "2025-09-03T14:48:29Z",
         3112,
         "America"
        ],
        [
         "43",
         "Maria Gomez",
         "cliente43@correo.com",
         "Cali",
         "2025-09-02T19:32:29.774Z",
         "328888aa-5564-4116-982f-5310e903cff2",
         "clientes.csv",
         "abfss://container-course-databricks-001@sadatabrickscourse001.dfs.core.windows.net/clientes/clientes.csv",
         "2025-06-22T00:44:25Z",
         4486,
         null
        ],
        [
         "35",
         "Maria Gomez",
         "cliente35@correo.com",
         "Cartagena",
         "2025-09-02T19:32:29.774Z",
         "5ac3887a-4dc7-42e3-8d67-23aec6d6a78d",
         "clientes.csv",
         "abfss://container-course-databricks-001@sadatabrickscourse001.dfs.core.windows.net/clientes/clientes.csv",
         "2025-06-22T00:44:25Z",
         4486,
         null
        ],
        [
         "6",
         "Juan Perez",
         "cliente6@correo.com",
         "Bogotá",
         "2025-09-02T19:32:29.774Z",
         "71a71003-ddb7-4d16-a2b7-1dccf8a34055",
         "clientes.csv",
         "abfss://container-course-databricks-001@sadatabrickscourse001.dfs.core.windows.net/clientes/clientes.csv",
         "2025-06-22T00:44:25Z",
         4486,
         null
        ],
        [
         "77",
         "Maria Gomez",
         "cliente77@correo.com",
         "Medellín",
         "2025-09-02T19:32:29.774Z",
         "f60058d8-8d5c-4002-ad05-6eac6046c094",
         "clientes.csv",
         "abfss://container-course-databricks-001@sadatabrickscourse001.dfs.core.windows.net/clientes/clientes.csv",
         "2025-06-22T00:44:25Z",
         4486,
         null
        ],
        [
         "2",
         "Juan Gomez",
         "cliente2@correo.com",
         "Medellín",
         "2025-09-02T19:32:29.774Z",
         "88dfc414-8f09-4547-824f-05d999a8cf87",
         "clientes.csv",
         "abfss://container-course-databricks-001@sadatabrickscourse001.dfs.core.windows.net/clientes/clientes.csv",
         "2025-06-22T00:44:25Z",
         4486,
         null
        ],
        [
         "53",
         "Maria Gomez",
         "cliente53@correo.com",
         "Mendoza",
         "2025-09-03T15:09:26.995Z",
         "13952f34-9a58-4409-acb2-08e5184be631",
         "clientes_5.csv",
         "abfss://container-course-databricks-001@sadatabrickscourse001.dfs.core.windows.net/clientes/clientes_5.csv",
         "2025-09-03T14:48:29Z",
         3112,
         "America"
        ],
        [
         "29",
         "Maria Gomez",
         "cliente29@correo.com",
         "Barranquilla",
         "2025-09-02T19:32:29.774Z",
         "0fbe925f-e4e0-407c-8632-0235e501d01f",
         "clientes.csv",
         "abfss://container-course-databricks-001@sadatabrickscourse001.dfs.core.windows.net/clientes/clientes.csv",
         "2025-06-22T00:44:25Z",
         4486,
         null
        ],
        [
         "68",
         "Juan Gomez",
         "cliente68@correo.com",
         "Cali",
         "2025-09-02T19:32:29.774Z",
         "5025b933-6d5d-4f17-97c4-8b5ee8dd6bcc",
         "clientes.csv",
         "abfss://container-course-databricks-001@sadatabrickscourse001.dfs.core.windows.net/clientes/clientes.csv",
         "2025-06-22T00:44:25Z",
         4486,
         null
        ],
        [
         "86",
         "Juan Gomez",
         "cliente86@correo.com",
         "Merida",
         "2025-09-03T15:09:26.995Z",
         "ca36b412-3e2d-4576-be9b-9f816be7b99f",
         "clientes_5.csv",
         "abfss://container-course-databricks-001@sadatabrickscourse001.dfs.core.windows.net/clientes/clientes_5.csv",
         "2025-09-03T14:48:29Z",
         3112,
         "America"
        ],
        [
         "41",
         "Maria Gomez",
         "cliente41@correo.com",
         "Bogotá",
         "2025-09-02T19:32:29.774Z",
         "38983bcd-463f-4101-aafd-2fa3321b1716",
         "clientes.csv",
         "abfss://container-course-databricks-001@sadatabrickscourse001.dfs.core.windows.net/clientes/clientes.csv",
         "2025-06-22T00:44:25Z",
         4486,
         null
        ],
        [
         "11",
         "Maria Gomez",
         "cliente11@correo.com",
         "Bogotá",
         "2025-09-02T19:32:29.774Z",
         "cc44d35c-50f6-42a6-8ce6-f05d4e6736de",
         "clientes.csv",
         "abfss://container-course-databricks-001@sadatabrickscourse001.dfs.core.windows.net/clientes/clientes.csv",
         "2025-06-22T00:44:25Z",
         4486,
         null
        ],
        [
         "54",
         "Juan Perez",
         "cliente54@correo.com",
         "Barranquilla",
         "2025-09-03T15:09:26.995Z",
         "bab74e70-224d-43a1-8c47-51a612087e38",
         "clientes_5.csv",
         "abfss://container-course-databricks-001@sadatabrickscourse001.dfs.core.windows.net/clientes/clientes_5.csv",
         "2025-09-03T14:48:29Z",
         3112,
         "America"
        ],
        [
         "94",
         "Juan Gomez",
         "cliente94@correo.com",
         "Barranquilla",
         "2025-09-02T19:32:29.774Z",
         "6450bb7a-3151-4f11-851c-7a683c70e7ee",
         "clientes.csv",
         "abfss://container-course-databricks-001@sadatabrickscourse001.dfs.core.windows.net/clientes/clientes.csv",
         "2025-06-22T00:44:25Z",
         4486,
         null
        ],
        [
         "16",
         "Juan Gomez",
         "cliente16@correo.com",
         "Bogotá",
         "2025-09-02T19:32:29.774Z",
         "deb57d6f-388d-462a-83f8-61c10962051c",
         "clientes.csv",
         "abfss://container-course-databricks-001@sadatabrickscourse001.dfs.core.windows.net/clientes/clientes.csv",
         "2025-06-22T00:44:25Z",
         4486,
         null
        ],
        [
         "66",
         "Juan Perez",
         "cliente66@correo.com",
         "Merida",
         "2025-09-03T15:09:26.995Z",
         "b4b7a0f7-b86f-421f-aa1b-301301b77134",
         "clientes_5.csv",
         "abfss://container-course-databricks-001@sadatabrickscourse001.dfs.core.windows.net/clientes/clientes_5.csv",
         "2025-09-03T14:48:29Z",
         3112,
         "America"
        ],
        [
         "63",
         "Maria Perez",
         "cliente63@correo.com",
         "Mendoza",
         "2025-09-03T15:09:26.995Z",
         "7d4d9e15-018a-483e-a68b-17bce94f2701",
         "clientes_5.csv",
         "abfss://container-course-databricks-001@sadatabrickscourse001.dfs.core.windows.net/clientes/clientes_5.csv",
         "2025-09-03T14:48:29Z",
         3112,
         "America"
        ],
        [
         "89",
         "Maria Gomez",
         "cliente89@correo.com",
         "Barranquilla",
         "2025-09-02T19:32:29.774Z",
         "50dcebc8-a87f-4799-bc78-d6853b65c3fd",
         "clientes.csv",
         "abfss://container-course-databricks-001@sadatabrickscourse001.dfs.core.windows.net/clientes/clientes.csv",
         "2025-06-22T00:44:25Z",
         4486,
         null
        ],
        [
         "97",
         "Maria Gomez",
         "cliente97@correo.com",
         "Medellín",
         "2025-09-02T19:32:29.774Z",
         "93fae2f0-2e1f-4217-8c6d-737f785e8885",
         "clientes.csv",
         "abfss://container-course-databricks-001@sadatabrickscourse001.dfs.core.windows.net/clientes/clientes.csv",
         "2025-06-22T00:44:25Z",
         4486,
         null
        ],
        [
         "51",
         "Maria Perez",
         "cliente51@correo.com",
         "Merida",
         "2025-09-03T15:09:26.995Z",
         "1055aeae-3fc5-464e-b467-2a9071ccfec9",
         "clientes_5.csv",
         "abfss://container-course-databricks-001@sadatabrickscourse001.dfs.core.windows.net/clientes/clientes_5.csv",
         "2025-09-03T14:48:29Z",
         3112,
         "America"
        ],
        [
         "88",
         "Juan Gomez",
         "cliente88@correo.com",
         "Cali",
         "2025-09-02T19:32:29.774Z",
         "5af35340-18e1-4d2e-abb1-666d357bd6e1",
         "clientes.csv",
         "abfss://container-course-databricks-001@sadatabrickscourse001.dfs.core.windows.net/clientes/clientes.csv",
         "2025-06-22T00:44:25Z",
         4486,
         null
        ],
        [
         "44",
         "Juan Gomez",
         "cliente44@correo.com",
         "Barranquilla",
         "2025-09-02T19:32:29.774Z",
         "b89a13e7-6c18-41b5-9d6f-fe2786340f6e",
         "clientes.csv",
         "abfss://container-course-databricks-001@sadatabrickscourse001.dfs.core.windows.net/clientes/clientes.csv",
         "2025-06-22T00:44:25Z",
         4486,
         null
        ],
        [
         "56",
         "Juan Gomez",
         "cliente56@correo.com",
         "Merida",
         "2025-09-03T15:09:26.995Z",
         "8058a597-8a12-40f5-889b-3009810cac6a",
         "clientes_5.csv",
         "abfss://container-course-databricks-001@sadatabrickscourse001.dfs.core.windows.net/clientes/clientes_5.csv",
         "2025-09-03T14:48:29Z",
         3112,
         "America"
        ],
        [
         "83",
         "Maria Gomez",
         "cliente83@correo.com",
         "Mendoza",
         "2025-09-03T15:09:26.995Z",
         "6ca13a00-32fd-4ec2-88b9-a369a4ed2c25",
         "clientes_5.csv",
         "abfss://container-course-databricks-001@sadatabrickscourse001.dfs.core.windows.net/clientes/clientes_5.csv",
         "2025-09-03T14:48:29Z",
         3112,
         "America"
        ],
        [
         "8",
         "Juan Gomez",
         "cliente8@correo.com",
         "Cali",
         "2025-09-02T19:32:29.774Z",
         "6a698d45-9433-4328-a0b8-08cd0e4347da",
         "clientes.csv",
         "abfss://container-course-databricks-001@sadatabrickscourse001.dfs.core.windows.net/clientes/clientes.csv",
         "2025-06-22T00:44:25Z",
         4486,
         null
        ],
        [
         "80",
         "Juan Gomez",
         "cliente80@correo.com",
         "Cartagena",
         "2025-09-02T19:32:29.774Z",
         "200c40a7-adf6-40e7-a397-fb8687ad43fc",
         "clientes.csv",
         "abfss://container-course-databricks-001@sadatabrickscourse001.dfs.core.windows.net/clientes/clientes.csv",
         "2025-06-22T00:44:25Z",
         4486,
         null
        ],
        [
         "84",
         "Juan Perez",
         "cliente84@correo.com",
         "Barranquilla",
         "2025-09-03T15:09:26.995Z",
         "b95bac8b-d3e3-405c-9b0c-8dc315afb9bc",
         "clientes_5.csv",
         "abfss://container-course-databricks-001@sadatabrickscourse001.dfs.core.windows.net/clientes/clientes_5.csv",
         "2025-09-03T14:48:29Z",
         3112,
         "America"
        ],
        [
         "95",
         "Maria Gomez",
         "cliente95@correo.com",
         "Lima",
         "2025-09-03T15:09:26.995Z",
         "77700bb8-b42e-4316-afa4-d76aa3c23fbd",
         "clientes_5.csv",
         "abfss://container-course-databricks-001@sadatabrickscourse001.dfs.core.windows.net/clientes/clientes_5.csv",
         "2025-09-03T14:48:29Z",
         3112,
         "America"
        ],
        [
         "94",
         "Juan Gomez",
         "cliente94@correo.com",
         "Barranquilla",
         "2025-09-03T15:09:26.995Z",
         "baa7ed69-d21b-4a25-ab40-153f329eb1fa",
         "clientes_5.csv",
         "abfss://container-course-databricks-001@sadatabrickscourse001.dfs.core.windows.net/clientes/clientes_5.csv",
         "2025-09-03T14:48:29Z",
         3112,
         "America"
        ],
        [
         "61",
         "Maria Gomez",
         "cliente61@correo.com",
         "Bogotá",
         "2025-09-02T19:32:29.774Z",
         "dc29b75a-1f53-45e8-9246-adc971a90a7a",
         "clientes.csv",
         "abfss://container-course-databricks-001@sadatabrickscourse001.dfs.core.windows.net/clientes/clientes.csv",
         "2025-06-22T00:44:25Z",
         4486,
         null
        ],
        [
         "71",
         "Maria Gomez",
         "cliente71@correo.com",
         "Merida",
         "2025-09-03T15:09:26.995Z",
         "9e05d9c5-346f-4676-b717-446a568a47e1",
         "clientes_5.csv",
         "abfss://container-course-databricks-001@sadatabrickscourse001.dfs.core.windows.net/clientes/clientes_5.csv",
         "2025-09-03T14:48:29Z",
         3112,
         "America"
        ],
        [
         "59",
         "Maria Gomez",
         "cliente59@correo.com",
         "Barranquilla",
         "2025-09-02T19:32:29.774Z",
         "4936ef31-221e-45f3-84f5-38b68715dd9b",
         "clientes.csv",
         "abfss://container-course-databricks-001@sadatabrickscourse001.dfs.core.windows.net/clientes/clientes.csv",
         "2025-06-22T00:44:25Z",
         4486,
         null
        ],
        [
         "25",
         "Maria Gomez",
         "cliente25@correo.com",
         "Cartagena",
         "2025-09-02T19:32:29.774Z",
         "d32d53cf-a419-4693-b4e1-6b509840a5fd",
         "clientes.csv",
         "abfss://container-course-databricks-001@sadatabrickscourse001.dfs.core.windows.net/clientes/clientes.csv",
         "2025-06-22T00:44:25Z",
         4486,
         null
        ],
        [
         "52",
         "Juan Gomez",
         "cliente52@correo.com",
         "Medellin",
         "2025-09-03T15:09:26.995Z",
         "d3355446-6a88-4063-9e28-a5fdcb8447e6",
         "clientes_5.csv",
         "abfss://container-course-databricks-001@sadatabrickscourse001.dfs.core.windows.net/clientes/clientes_5.csv",
         "2025-09-03T14:48:29Z",
         3112,
         "America"
        ],
        [
         "28",
         "Juan Gomez",
         "cliente28@correo.com",
         "Cali",
         "2025-09-02T19:32:29.774Z",
         "b07120d9-7546-4781-89d1-35427d53f87c",
         "clientes.csv",
         "abfss://container-course-databricks-001@sadatabrickscourse001.dfs.core.windows.net/clientes/clientes.csv",
         "2025-06-22T00:44:25Z",
         4486,
         null
        ],
        [
         "37",
         "Maria Gomez",
         "cliente37@correo.com",
         "Medellín",
         "2025-09-02T19:32:29.774Z",
         "950fe8a0-a1aa-427f-8933-92f7e6cdbc9c",
         "clientes.csv",
         "abfss://container-course-databricks-001@sadatabrickscourse001.dfs.core.windows.net/clientes/clientes.csv",
         "2025-06-22T00:44:25Z",
         4486,
         null
        ],
        [
         "62",
         "Juan Gomez",
         "cliente62@correo.com",
         "Medellín",
         "2025-09-02T19:32:29.774Z",
         "2006f85a-5e83-48a8-b2c8-9c0467d478e8",
         "clientes.csv",
         "abfss://container-course-databricks-001@sadatabrickscourse001.dfs.core.windows.net/clientes/clientes.csv",
         "2025-06-22T00:44:25Z",
         4486,
         null
        ],
        [
         "64",
         "Juan Gomez",
         "cliente64@correo.com",
         "Barranquilla",
         "2025-09-02T19:32:29.774Z",
         "bd40db3c-6e2b-45ff-ae67-c66b46656f8b",
         "clientes.csv",
         "abfss://container-course-databricks-001@sadatabrickscourse001.dfs.core.windows.net/clientes/clientes.csv",
         "2025-06-22T00:44:25Z",
         4486,
         null
        ],
        [
         "69",
         "Maria Perez",
         "cliente69@correo.com",
         "Barranquilla",
         "2025-09-02T19:32:29.774Z",
         "ce6620bd-ead5-4024-8430-bb02ad8ab545",
         "clientes.csv",
         "abfss://container-course-databricks-001@sadatabrickscourse001.dfs.core.windows.net/clientes/clientes.csv",
         "2025-06-22T00:44:25Z",
         4486,
         null
        ],
        [
         "95",
         "Maria Gomez",
         "cliente95@correo.com",
         "Cartagena",
         "2025-09-02T19:32:29.774Z",
         "c667782e-57b7-487a-9906-30ac9feca0d1",
         "clientes.csv",
         "abfss://container-course-databricks-001@sadatabrickscourse001.dfs.core.windows.net/clientes/clientes.csv",
         "2025-06-22T00:44:25Z",
         4486,
         null
        ],
        [
         "63",
         "Maria Perez",
         "cliente63@correo.com",
         "Cali",
         "2025-09-02T19:32:29.774Z",
         "9bb3949c-4e7e-4dc2-8c69-3015c675caee",
         "clientes.csv",
         "abfss://container-course-databricks-001@sadatabrickscourse001.dfs.core.windows.net/clientes/clientes.csv",
         "2025-06-22T00:44:25Z",
         4486,
         null
        ],
        [
         "31",
         "Maria Gomez",
         "cliente31@correo.com",
         "Bogotá",
         "2025-09-02T19:32:29.774Z",
         "c008d719-64c4-4962-ad69-3c82bb8ed1a8",
         "clientes.csv",
         "abfss://container-course-databricks-001@sadatabrickscourse001.dfs.core.windows.net/clientes/clientes.csv",
         "2025-06-22T00:44:25Z",
         4486,
         null
        ],
        [
         "61",
         "Maria Gomez",
         "cliente61@correo.com",
         "Merida",
         "2025-09-03T15:09:26.995Z",
         "70e45b47-3f6a-4cf9-a896-bb3ebd358ab7",
         "clientes_5.csv",
         "abfss://container-course-databricks-001@sadatabrickscourse001.dfs.core.windows.net/clientes/clientes_5.csv",
         "2025-09-03T14:48:29Z",
         3112,
         "America"
        ],
        [
         "18",
         "Juan Perez",
         "cliente18@correo.com",
         "Cali",
         "2025-09-02T19:32:29.774Z",
         "a9785612-5b6a-4a10-a6c8-13088fd3b9b1",
         "clientes.csv",
         "abfss://container-course-databricks-001@sadatabrickscourse001.dfs.core.windows.net/clientes/clientes.csv",
         "2025-06-22T00:44:25Z",
         4486,
         null
        ],
        [
         "60",
         "Juan Perez",
         "cliente60@correo.com",
         "Cartagena",
         "2025-09-02T19:32:29.774Z",
         "9d7923b5-f609-4463-812e-796d4c5d82e1",
         "clientes.csv",
         "abfss://container-course-databricks-001@sadatabrickscourse001.dfs.core.windows.net/clientes/clientes.csv",
         "2025-06-22T00:44:25Z",
         4486,
         null
        ],
        [
         "58",
         "Juan Gomez",
         "cliente58@correo.com",
         "Cali",
         "2025-09-02T19:32:29.774Z",
         "bd4c19cc-1937-4a02-a2ab-54b82ea75a1e",
         "clientes.csv",
         "abfss://container-course-databricks-001@sadatabrickscourse001.dfs.core.windows.net/clientes/clientes.csv",
         "2025-06-22T00:44:25Z",
         4486,
         null
        ],
        [
         "65",
         "Maria Gomez",
         "cliente65@correo.com",
         "Lima",
         "2025-09-03T15:09:26.995Z",
         "c001205f-4100-4e36-abec-9c76a06bd85f",
         "clientes_5.csv",
         "abfss://container-course-databricks-001@sadatabrickscourse001.dfs.core.windows.net/clientes/clientes_5.csv",
         "2025-09-03T14:48:29Z",
         3112,
         "America"
        ],
        [
         "72",
         "Juan Perez",
         "cliente72@correo.com",
         "Medellin",
         "2025-09-03T15:09:26.995Z",
         "e4ed9bd6-439e-4471-a63d-ccf92e39d829",
         "clientes_5.csv",
         "abfss://container-course-databricks-001@sadatabrickscourse001.dfs.core.windows.net/clientes/clientes_5.csv",
         "2025-09-03T14:48:29Z",
         3112,
         "America"
        ],
        [
         "82",
         "Juan Gomez",
         "cliente82@correo.com",
         "Medellin",
         "2025-09-03T15:09:26.995Z",
         "cbab9e23-bc2a-46f0-8b36-5f4ae690e068",
         "clientes_5.csv",
         "abfss://container-course-databricks-001@sadatabrickscourse001.dfs.core.windows.net/clientes/clientes_5.csv",
         "2025-09-03T14:48:29Z",
         3112,
         "America"
        ],
        [
         "76",
         "Juan Gomez",
         "cliente76@correo.com",
         "Merida",
         "2025-09-03T15:09:26.995Z",
         "fb4b6a4d-163f-4391-9185-3cb76faa3015",
         "clientes_5.csv",
         "abfss://container-course-databricks-001@sadatabrickscourse001.dfs.core.windows.net/clientes/clientes_5.csv",
         "2025-09-03T14:48:29Z",
         3112,
         "America"
        ],
        [
         "53",
         "Maria Gomez",
         "cliente53@correo.com",
         "Cali",
         "2025-09-02T19:32:29.774Z",
         "ad3d11a4-6e99-4056-993d-7163a675f85f",
         "clientes.csv",
         "abfss://container-course-databricks-001@sadatabrickscourse001.dfs.core.windows.net/clientes/clientes.csv",
         "2025-06-22T00:44:25Z",
         4486,
         null
        ],
        [
         "45",
         "Maria Perez",
         "cliente45@correo.com",
         "Lima",
         "2025-09-03T15:09:26.995Z",
         "8d5185d0-0ddc-42e9-ab39-f4dc98461c6e",
         "clientes_5.csv",
         "abfss://container-course-databricks-001@sadatabrickscourse001.dfs.core.windows.net/clientes/clientes_5.csv",
         "2025-09-03T14:48:29Z",
         3112,
         "America"
        ],
        [
         "74",
         "Juan Gomez",
         "cliente74@correo.com",
         "Barranquilla",
         "2025-09-02T19:32:29.774Z",
         "a915db02-f805-4984-8fd0-dc65a62adc8b",
         "clientes.csv",
         "abfss://container-course-databricks-001@sadatabrickscourse001.dfs.core.windows.net/clientes/clientes.csv",
         "2025-06-22T00:44:25Z",
         4486,
         null
        ],
        [
         "45",
         "Maria Perez",
         "cliente45@correo.com",
         "Cartagena",
         "2025-09-02T19:32:29.774Z",
         "f2ee82dd-bfa2-4df1-a7d9-59f4c5600e4d",
         "clientes.csv",
         "abfss://container-course-databricks-001@sadatabrickscourse001.dfs.core.windows.net/clientes/clientes.csv",
         "2025-06-22T00:44:25Z",
         4486,
         null
        ],
        [
         "54",
         "Juan Perez",
         "cliente54@correo.com",
         "Barranquilla",
         "2025-09-02T19:32:29.774Z",
         "f6811bf6-2f8b-489b-868d-7dc7d24f2afe",
         "clientes.csv",
         "abfss://container-course-databricks-001@sadatabrickscourse001.dfs.core.windows.net/clientes/clientes.csv",
         "2025-06-22T00:44:25Z",
         4486,
         null
        ],
        [
         "19",
         "Maria Gomez",
         "cliente19@correo.com",
         "Barranquilla",
         "2025-09-02T19:32:29.774Z",
         "f7eec33b-f58d-4675-b8ca-ac1eb8a5f594",
         "clientes.csv",
         "abfss://container-course-databricks-001@sadatabrickscourse001.dfs.core.windows.net/clientes/clientes.csv",
         "2025-06-22T00:44:25Z",
         4486,
         null
        ],
        [
         "76",
         "Juan Gomez",
         "cliente76@correo.com",
         "Bogotá",
         "2025-09-02T19:32:29.774Z",
         "7f95efe9-0cf7-4880-ba73-b6da927bb133",
         "clientes.csv",
         "abfss://container-course-databricks-001@sadatabrickscourse001.dfs.core.windows.net/clientes/clientes.csv",
         "2025-06-22T00:44:25Z",
         4486,
         null
        ],
        [
         "88",
         "Juan Gomez",
         "cliente88@correo.com",
         "Mendoza",
         "2025-09-03T15:09:26.995Z",
         "6b2be03c-62a3-4d74-b482-f24f902be1e4",
         "clientes_5.csv",
         "abfss://container-course-databricks-001@sadatabrickscourse001.dfs.core.windows.net/clientes/clientes_5.csv",
         "2025-09-03T14:48:29Z",
         3112,
         "America"
        ],
        [
         "93",
         "Maria Perez",
         "cliente93@correo.com",
         "Cali",
         "2025-09-02T19:32:29.774Z",
         "a38c0d6e-7a60-4f30-aae7-852e88aa48e5",
         "clientes.csv",
         "abfss://container-course-databricks-001@sadatabrickscourse001.dfs.core.windows.net/clientes/clientes.csv",
         "2025-06-22T00:44:25Z",
         4486,
         null
        ],
        [
         "82",
         "Juan Gomez",
         "cliente82@correo.com",
         "Medellín",
         "2025-09-02T19:32:29.774Z",
         "b7ee64c6-ee9a-4fbc-8818-6581bbfa3db0",
         "clientes.csv",
         "abfss://container-course-databricks-001@sadatabrickscourse001.dfs.core.windows.net/clientes/clientes.csv",
         "2025-06-22T00:44:25Z",
         4486,
         null
        ],
        [
         "85",
         "Maria Gomez",
         "cliente85@correo.com",
         "Cartagena",
         "2025-09-02T19:32:29.774Z",
         "7394f5f6-23b4-4ef4-b961-970ce9f87bee",
         "clientes.csv",
         "abfss://container-course-databricks-001@sadatabrickscourse001.dfs.core.windows.net/clientes/clientes.csv",
         "2025-06-22T00:44:25Z",
         4486,
         null
        ],
        [
         "73",
         "Maria Gomez",
         "cliente73@correo.com",
         "Cali",
         "2025-09-02T19:32:29.774Z",
         "6fe34d9d-dbc5-42fb-b758-89521cd60149",
         "clientes.csv",
         "abfss://container-course-databricks-001@sadatabrickscourse001.dfs.core.windows.net/clientes/clientes.csv",
         "2025-06-22T00:44:25Z",
         4486,
         null
        ],
        [
         "91",
         "Maria Gomez",
         "cliente91@correo.com",
         "Bogotá",
         "2025-09-02T19:32:29.774Z",
         "f7d7ed0e-1660-418b-b1f6-438aa7fbf41a",
         "clientes.csv",
         "abfss://container-course-databricks-001@sadatabrickscourse001.dfs.core.windows.net/clientes/clientes.csv",
         "2025-06-22T00:44:25Z",
         4486,
         null
        ],
        [
         "92",
         "Juan Gomez",
         "cliente92@correo.com",
         "Medellin",
         "2025-09-03T15:09:26.995Z",
         "e3718f7a-71b9-4512-9dbc-1ffab3342d9c",
         "clientes_5.csv",
         "abfss://container-course-databricks-001@sadatabrickscourse001.dfs.core.windows.net/clientes/clientes_5.csv",
         "2025-09-03T14:48:29Z",
         3112,
         "America"
        ],
        [
         "17",
         "Maria Gomez",
         "cliente17@correo.com",
         "Medellín",
         "2025-09-02T19:32:29.774Z",
         "b6f73cf2-923e-437d-a6fd-dbcf2f143277",
         "clientes.csv",
         "abfss://container-course-databricks-001@sadatabrickscourse001.dfs.core.windows.net/clientes/clientes.csv",
         "2025-06-22T00:44:25Z",
         4486,
         null
        ],
        [
         "74",
         "Juan Gomez",
         "cliente74@correo.com",
         "Barranquilla",
         "2025-09-03T15:09:26.995Z",
         "cdb10fd1-cae1-4dab-b325-df33ef93b87e",
         "clientes_5.csv",
         "abfss://container-course-databricks-001@sadatabrickscourse001.dfs.core.windows.net/clientes/clientes_5.csv",
         "2025-09-03T14:48:29Z",
         3112,
         "America"
        ],
        [
         "24",
         "Juan Perez",
         "cliente24@correo.com",
         "Barranquilla",
         "2025-09-02T19:32:29.774Z",
         "59b6f809-94ee-4169-8d4d-e464095384a9",
         "clientes.csv",
         "abfss://container-course-databricks-001@sadatabrickscourse001.dfs.core.windows.net/clientes/clientes.csv",
         "2025-06-22T00:44:25Z",
         4486,
         null
        ],
        [
         "5",
         "Maria Gomez",
         "cliente5@correo.com",
         "Cartagena",
         "2025-09-02T19:32:29.774Z",
         "b3f6cb97-e03b-4e73-a67a-b15d3251119c",
         "clientes.csv",
         "abfss://container-course-databricks-001@sadatabrickscourse001.dfs.core.windows.net/clientes/clientes.csv",
         "2025-06-22T00:44:25Z",
         4486,
         null
        ],
        [
         "73",
         "Maria Gomez",
         "cliente73@correo.com",
         "Mendoza",
         "2025-09-03T15:09:26.995Z",
         "55ca0d9a-1b7a-407a-bb32-c12a2127627f",
         "clientes_5.csv",
         "abfss://container-course-databricks-001@sadatabrickscourse001.dfs.core.windows.net/clientes/clientes_5.csv",
         "2025-09-03T14:48:29Z",
         3112,
         "America"
        ],
        [
         "100",
         "Juan Gomez",
         "cliente100@correo.com",
         "Lima",
         "2025-09-03T15:09:26.995Z",
         "f291160e-d96c-4630-b7c9-f490ad74a0f8",
         "clientes_5.csv",
         "abfss://container-course-databricks-001@sadatabrickscourse001.dfs.core.windows.net/clientes/clientes_5.csv",
         "2025-09-03T14:48:29Z",
         3112,
         "Asia"
        ],
        [
         "90",
         "Juan Perez",
         "cliente90@correo.com",
         "Cartagena",
         "2025-09-02T19:32:29.774Z",
         "90091507-3412-4f5f-937d-bf0b8d0f870f",
         "clientes.csv",
         "abfss://container-course-databricks-001@sadatabrickscourse001.dfs.core.windows.net/clientes/clientes.csv",
         "2025-06-22T00:44:25Z",
         4486,
         null
        ],
        [
         "20",
         "Juan Gomez",
         "cliente20@correo.com",
         "Cartagena",
         "2025-09-02T19:32:29.774Z",
         "f1ceb474-7f6f-4499-b4db-4109c8bc41a4",
         "clientes.csv",
         "abfss://container-course-databricks-001@sadatabrickscourse001.dfs.core.windows.net/clientes/clientes.csv",
         "2025-06-22T00:44:25Z",
         4486,
         null
        ],
        [
         "79",
         "Maria Gomez",
         "cliente79@correo.com",
         "Barranquilla",
         "2025-09-02T19:32:29.774Z",
         "b3142987-c99c-4b5f-96e0-45959cc0cea4",
         "clientes.csv",
         "abfss://container-course-databricks-001@sadatabrickscourse001.dfs.core.windows.net/clientes/clientes.csv",
         "2025-06-22T00:44:25Z",
         4486,
         null
        ],
        [
         "59",
         "Maria Gomez",
         "cliente59@correo.com",
         "Barranquilla",
         "2025-09-03T15:09:26.995Z",
         "868c91a7-2e62-4594-85f2-04765aabc935",
         "clientes_5.csv",
         "abfss://container-course-databricks-001@sadatabrickscourse001.dfs.core.windows.net/clientes/clientes_5.csv",
         "2025-09-03T14:48:29Z",
         3112,
         "America"
        ],
        [
         "64",
         "Juan Gomez",
         "cliente64@correo.com",
         "Barranquilla",
         "2025-09-03T15:09:26.995Z",
         "aa7b1875-c6c9-463c-8cd4-2d979cb8e864",
         "clientes_5.csv",
         "abfss://container-course-databricks-001@sadatabrickscourse001.dfs.core.windows.net/clientes/clientes_5.csv",
         "2025-09-03T14:48:29Z",
         3112,
         "America"
        ],
        [
         "99",
         "Maria Perez",
         "cliente99@correo.com",
         "Barranquilla",
         "2025-09-03T15:09:26.995Z",
         "a90785c5-2b14-4c91-a889-f7c27a487760",
         "clientes_5.csv",
         "abfss://container-course-databricks-001@sadatabrickscourse001.dfs.core.windows.net/clientes/clientes_5.csv",
         "2025-09-03T14:48:29Z",
         3112,
         "America"
        ],
        [
         "75",
         "Maria Perez",
         "cliente75@correo.com",
         "Lima",
         "2025-09-03T15:09:26.995Z",
         "1a72b975-a88d-4363-beeb-0d45b2871393",
         "clientes_5.csv",
         "abfss://container-course-databricks-001@sadatabrickscourse001.dfs.core.windows.net/clientes/clientes_5.csv",
         "2025-09-03T14:48:29Z",
         3112,
         "America"
        ],
        [
         "86",
         "Juan Gomez",
         "cliente86@correo.com",
         "Bogotá",
         "2025-09-02T19:32:29.774Z",
         "24e43e48-a8d7-43ef-8014-7a13636fa131",
         "clientes.csv",
         "abfss://container-course-databricks-001@sadatabrickscourse001.dfs.core.windows.net/clientes/clientes.csv",
         "2025-06-22T00:44:25Z",
         4486,
         null
        ],
        [
         "83",
         "Maria Gomez",
         "cliente83@correo.com",
         "Cali",
         "2025-09-02T19:32:29.774Z",
         "4b5533f8-defb-4df1-aca3-f4bee6e8133a",
         "clientes.csv",
         "abfss://container-course-databricks-001@sadatabrickscourse001.dfs.core.windows.net/clientes/clientes.csv",
         "2025-06-22T00:44:25Z",
         4486,
         null
        ],
        [
         "69",
         "Maria Perez",
         "cliente69@correo.com",
         "Barranquilla",
         "2025-09-03T15:09:26.995Z",
         "820be41c-719b-4547-bf20-82e135b80452",
         "clientes_5.csv",
         "abfss://container-course-databricks-001@sadatabrickscourse001.dfs.core.windows.net/clientes/clientes_5.csv",
         "2025-09-03T14:48:29Z",
         3112,
         "America"
        ],
        [
         "75",
         "Maria Perez",
         "cliente75@correo.com",
         "Cartagena",
         "2025-09-02T19:32:29.774Z",
         "664e5c15-3cf6-4440-9e65-0a8d0b8d76aa",
         "clientes.csv",
         "abfss://container-course-databricks-001@sadatabrickscourse001.dfs.core.windows.net/clientes/clientes.csv",
         "2025-06-22T00:44:25Z",
         4486,
         null
        ],
        [
         "96",
         "Juan Perez",
         "cliente96@correo.com",
         "Bogotá",
         "2025-09-02T19:32:29.774Z",
         "b4cf7d68-a6ce-4b27-86ea-93137d0cadc7",
         "clientes.csv",
         "abfss://container-course-databricks-001@sadatabrickscourse001.dfs.core.windows.net/clientes/clientes.csv",
         "2025-06-22T00:44:25Z",
         4486,
         null
        ],
        [
         "39",
         "Maria Perez",
         "cliente39@correo.com",
         "Barranquilla",
         "2025-09-02T19:32:29.774Z",
         "18c50f56-f0d4-4937-969a-998d43b4330c",
         "clientes.csv",
         "abfss://container-course-databricks-001@sadatabrickscourse001.dfs.core.windows.net/clientes/clientes.csv",
         "2025-06-22T00:44:25Z",
         4486,
         null
        ],
        [
         "57",
         "Maria Perez",
         "cliente57@correo.com",
         "Medellin",
         "2025-09-03T15:09:26.995Z",
         "2ef40812-1950-4dae-9319-04bc8f9e0832",
         "clientes_5.csv",
         "abfss://container-course-databricks-001@sadatabrickscourse001.dfs.core.windows.net/clientes/clientes_5.csv",
         "2025-09-03T14:48:29Z",
         3112,
         "America"
        ],
        [
         "50",
         "Juan Gomez",
         "cliente50@correo.com",
         "Lima",
         "2025-09-03T15:09:26.995Z",
         "07f1ba65-bcf0-4933-b85a-c2b8abedf8fd",
         "clientes_5.csv",
         "abfss://container-course-databricks-001@sadatabrickscourse001.dfs.core.windows.net/clientes/clientes_5.csv",
         "2025-09-03T14:48:29Z",
         3112,
         "America"
        ],
        [
         "93",
         "Maria Perez",
         "cliente93@correo.com",
         "Mendoza",
         "2025-09-03T15:09:26.995Z",
         "445438e1-a85d-43c3-9921-ffbff4e851a0",
         "clientes_5.csv",
         "abfss://container-course-databricks-001@sadatabrickscourse001.dfs.core.windows.net/clientes/clientes_5.csv",
         "2025-09-03T14:48:29Z",
         3112,
         "America"
        ],
        [
         "36",
         "Juan Perez",
         "cliente36@correo.com",
         "Bogotá",
         "2025-09-02T19:32:29.774Z",
         "fad507a0-d481-47ae-964f-99bc77ff71bf",
         "clientes.csv",
         "abfss://container-course-databricks-001@sadatabrickscourse001.dfs.core.windows.net/clientes/clientes.csv",
         "2025-06-22T00:44:25Z",
         4486,
         null
        ],
        [
         "98",
         "Juan Gomez",
         "cliente98@correo.com",
         "Cali",
         "2025-09-02T19:32:29.774Z",
         "a4dbc660-d21a-4e04-963a-1e8b24c96487",
         "clientes.csv",
         "abfss://container-course-databricks-001@sadatabrickscourse001.dfs.core.windows.net/clientes/clientes.csv",
         "2025-06-22T00:44:25Z",
         4486,
         null
        ],
        [
         "23",
         "Maria Gomez",
         "cliente23@correo.com",
         "Cali",
         "2025-09-02T19:32:29.774Z",
         "a71cd891-c427-479c-9f07-695f2fcfa654",
         "clientes.csv",
         "abfss://container-course-databricks-001@sadatabrickscourse001.dfs.core.windows.net/clientes/clientes.csv",
         "2025-06-22T00:44:25Z",
         4486,
         null
        ],
        [
         "47",
         "Maria Gomez",
         "cliente47@correo.com",
         "Medellin",
         "2025-09-03T15:09:26.995Z",
         "9397a7f0-4ece-4b3d-86d9-d50011f931fd",
         "clientes_5.csv",
         "abfss://container-course-databricks-001@sadatabrickscourse001.dfs.core.windows.net/clientes/clientes_5.csv",
         "2025-09-03T14:48:29Z",
         3112,
         "America"
        ],
        [
         "71",
         "Maria Gomez",
         "cliente71@correo.com",
         "Bogotá",
         "2025-09-02T19:32:29.774Z",
         "c426b180-7621-42f0-85c4-927220ef90c6",
         "clientes.csv",
         "abfss://container-course-databricks-001@sadatabrickscourse001.dfs.core.windows.net/clientes/clientes.csv",
         "2025-06-22T00:44:25Z",
         4486,
         null
        ],
        [
         "33",
         "Maria Perez",
         "cliente33@correo.com",
         "Cali",
         "2025-09-02T19:32:29.774Z",
         "cdb7963c-c664-42be-a4fa-e001de166750",
         "clientes.csv",
         "abfss://container-course-databricks-001@sadatabrickscourse001.dfs.core.windows.net/clientes/clientes.csv",
         "2025-06-22T00:44:25Z",
         4486,
         null
        ],
        [
         "89",
         "Maria Gomez",
         "cliente89@correo.com",
         "Barranquilla",
         "2025-09-03T15:09:26.995Z",
         "3c214386-f305-4e93-89b6-316ed7038acc",
         "clientes_5.csv",
         "abfss://container-course-databricks-001@sadatabrickscourse001.dfs.core.windows.net/clientes/clientes_5.csv",
         "2025-09-03T14:48:29Z",
         3112,
         "America"
        ],
        [
         "32",
         "Juan Gomez",
         "cliente32@correo.com",
         "Medellín",
         "2025-09-02T19:32:29.774Z",
         "7ec63ba1-4c97-4be9-a0c5-f6086804a3d8",
         "clientes.csv",
         "abfss://container-course-databricks-001@sadatabrickscourse001.dfs.core.windows.net/clientes/clientes.csv",
         "2025-06-22T00:44:25Z",
         4486,
         null
        ],
        [
         "92",
         "Juan Gomez",
         "cliente92@correo.com",
         "Medellín",
         "2025-09-02T19:32:29.774Z",
         "636930d0-195f-45fa-b6d6-4e15f2b92b95",
         "clientes.csv",
         "abfss://container-course-databricks-001@sadatabrickscourse001.dfs.core.windows.net/clientes/clientes.csv",
         "2025-06-22T00:44:25Z",
         4486,
         null
        ],
        [
         "7",
         "Maria Gomez",
         "cliente7@correo.com",
         "Medellín",
         "2025-09-02T19:32:29.774Z",
         "a43accbb-6f30-4136-988e-cbc40649be6f",
         "clientes.csv",
         "abfss://container-course-databricks-001@sadatabrickscourse001.dfs.core.windows.net/clientes/clientes.csv",
         "2025-06-22T00:44:25Z",
         4486,
         null
        ],
        [
         "48",
         "Juan Perez",
         "cliente48@correo.com",
         "Mendoza",
         "2025-09-03T15:09:26.995Z",
         "28b6b6b9-2ce3-4df8-97e7-4f442765cb66",
         "clientes_5.csv",
         "abfss://container-course-databricks-001@sadatabrickscourse001.dfs.core.windows.net/clientes/clientes_5.csv",
         "2025-09-03T14:48:29Z",
         3112,
         "America"
        ],
        [
         "12",
         "Juan Perez",
         "cliente12@correo.com",
         "Medellín",
         "2025-09-02T19:32:29.774Z",
         "28a4961a-7f83-489e-9243-bf162f1655c4",
         "clientes.csv",
         "abfss://container-course-databricks-001@sadatabrickscourse001.dfs.core.windows.net/clientes/clientes.csv",
         "2025-06-22T00:44:25Z",
         4486,
         null
        ],
        [
         "57",
         "Maria Perez",
         "cliente57@correo.com",
         "Medellín",
         "2025-09-02T19:32:29.774Z",
         "9c614b10-eead-46e1-88d6-7960d884fd15",
         "clientes.csv",
         "abfss://container-course-databricks-001@sadatabrickscourse001.dfs.core.windows.net/clientes/clientes.csv",
         "2025-06-22T00:44:25Z",
         4486,
         null
        ],
        [
         "81",
         "Maria Perez",
         "cliente81@correo.com",
         "Merida",
         "2025-09-03T15:09:26.995Z",
         "59b9dede-b3ec-4323-ac98-ecdfeb219323",
         "clientes_5.csv",
         "abfss://container-course-databricks-001@sadatabrickscourse001.dfs.core.windows.net/clientes/clientes_5.csv",
         "2025-09-03T14:48:29Z",
         3112,
         "America"
        ],
        [
         "80",
         "Juan Gomez",
         "cliente80@correo.com",
         "Lima",
         "2025-09-03T15:09:26.995Z",
         "d20d44af-dd68-481b-9524-e9b3578d9607",
         "clientes_5.csv",
         "abfss://container-course-databricks-001@sadatabrickscourse001.dfs.core.windows.net/clientes/clientes_5.csv",
         "2025-09-03T14:48:29Z",
         3112,
         "America"
        ],
        [
         "3",
         "Maria Perez",
         "cliente3@correo.com",
         "Cali",
         "2025-09-02T19:32:29.774Z",
         "dc849ad5-8c12-480a-9bb7-5dc393266864",
         "clientes.csv",
         "abfss://container-course-databricks-001@sadatabrickscourse001.dfs.core.windows.net/clientes/clientes.csv",
         "2025-06-22T00:44:25Z",
         4486,
         null
        ],
        [
         "77",
         "Maria Gomez",
         "cliente77@correo.com",
         "Medellin",
         "2025-09-03T15:09:26.995Z",
         "8bf3330a-8711-4929-8e8e-e4ba77ac3dba",
         "clientes_5.csv",
         "abfss://container-course-databricks-001@sadatabrickscourse001.dfs.core.windows.net/clientes/clientes_5.csv",
         "2025-09-03T14:48:29Z",
         3112,
         "America"
        ],
        [
         "91",
         "Maria Gomez",
         "cliente91@correo.com",
         "Merida",
         "2025-09-03T15:09:26.995Z",
         "b00b3922-4de8-43ae-afa2-846f4c84d784",
         "clientes_5.csv",
         "abfss://container-course-databricks-001@sadatabrickscourse001.dfs.core.windows.net/clientes/clientes_5.csv",
         "2025-09-03T14:48:29Z",
         3112,
         "America"
        ],
        [
         "66",
         "Juan Perez",
         "cliente66@correo.com",
         "Bogotá",
         "2025-09-02T19:32:29.774Z",
         "32a1525e-20d4-4278-a458-09bdec238064",
         "clientes.csv",
         "abfss://container-course-databricks-001@sadatabrickscourse001.dfs.core.windows.net/clientes/clientes.csv",
         "2025-06-22T00:44:25Z",
         4486,
         null
        ],
        [
         "79",
         "Maria Gomez",
         "cliente79@correo.com",
         "Barranquilla",
         "2025-09-03T15:09:26.995Z",
         "c4c50f0c-6b7d-4709-b4f3-010432bc2923",
         "clientes_5.csv",
         "abfss://container-course-databricks-001@sadatabrickscourse001.dfs.core.windows.net/clientes/clientes_5.csv",
         "2025-09-03T14:48:29Z",
         3112,
         "America"
        ],
        [
         "40",
         "Juan Gomez",
         "cliente40@correo.com",
         "Cartagena",
         "2025-09-02T19:32:29.774Z",
         "8024481b-2218-48dc-9f21-ba3caa0193ed",
         "clientes.csv",
         "abfss://container-course-databricks-001@sadatabrickscourse001.dfs.core.windows.net/clientes/clientes.csv",
         "2025-06-22T00:44:25Z",
         4486,
         null
        ],
        [
         "48",
         "Juan Perez",
         "cliente48@correo.com",
         "Cali",
         "2025-09-02T19:32:29.774Z",
         "fd6ed822-e1ed-46d4-bdef-e48866950380",
         "clientes.csv",
         "abfss://container-course-databricks-001@sadatabrickscourse001.dfs.core.windows.net/clientes/clientes.csv",
         "2025-06-22T00:44:25Z",
         4486,
         null
        ],
        [
         "100",
         "Juan Gomez",
         "cliente100@correo.com",
         "Cartagena",
         "2025-09-02T19:32:29.774Z",
         "55592c6e-f772-49fd-aa41-27758e4da08c",
         "clientes.csv",
         "abfss://container-course-databricks-001@sadatabrickscourse001.dfs.core.windows.net/clientes/clientes.csv",
         "2025-06-22T00:44:25Z",
         4486,
         null
        ],
        [
         "44",
         "Juan Gomez",
         "cliente44@correo.com",
         "Barranquilla",
         "2025-09-03T15:09:26.995Z",
         "9c5284ec-7e84-4266-889a-6c4de7aeb7cf",
         "clientes_5.csv",
         "abfss://container-course-databricks-001@sadatabrickscourse001.dfs.core.windows.net/clientes/clientes_5.csv",
         "2025-09-03T14:48:29Z",
         3112,
         "America"
        ],
        [
         "68",
         "Juan Gomez",
         "cliente68@correo.com",
         "Mendoza",
         "2025-09-03T15:09:26.995Z",
         "629c936a-a53e-495f-add3-e68b4615523b",
         "clientes_5.csv",
         "abfss://container-course-databricks-001@sadatabrickscourse001.dfs.core.windows.net/clientes/clientes_5.csv",
         "2025-09-03T14:48:29Z",
         3112,
         "America"
        ],
        [
         "78",
         "Juan Perez",
         "cliente78@correo.com",
         "Cali",
         "2025-09-02T19:32:29.774Z",
         "ab149f1b-1fb2-4d17-80fb-b25057b16318",
         "clientes.csv",
         "abfss://container-course-databricks-001@sadatabrickscourse001.dfs.core.windows.net/clientes/clientes.csv",
         "2025-06-22T00:44:25Z",
         4486,
         null
        ],
        [
         "46",
         "Juan Gomez",
         "cliente46@correo.com",
         "Bogotá",
         "2025-09-02T19:32:29.774Z",
         "5e648cf4-1214-4894-8444-59545a8c6920",
         "clientes.csv",
         "abfss://container-course-databricks-001@sadatabrickscourse001.dfs.core.windows.net/clientes/clientes.csv",
         "2025-06-22T00:44:25Z",
         4486,
         null
        ],
        [
         "65",
         "Maria Gomez",
         "cliente65@correo.com",
         "Cartagena",
         "2025-09-02T19:32:29.774Z",
         "204b0a60-2601-4249-934f-4cdb9c132e3f",
         "clientes.csv",
         "abfss://container-course-databricks-001@sadatabrickscourse001.dfs.core.windows.net/clientes/clientes.csv",
         "2025-06-22T00:44:25Z",
         4486,
         null
        ],
        [
         "78",
         "Juan Perez",
         "cliente78@correo.com",
         "Mendoza",
         "2025-09-03T15:09:26.995Z",
         "a63a5600-6c14-4085-be93-e77fc52f70ea",
         "clientes_5.csv",
         "abfss://container-course-databricks-001@sadatabrickscourse001.dfs.core.windows.net/clientes/clientes_5.csv",
         "2025-09-03T14:48:29Z",
         3112,
         "America"
        ],
        [
         "42",
         "Juan Perez",
         "cliente42@correo.com",
         "Medellín",
         "2025-09-02T19:32:29.774Z",
         "2cbb1d3c-1b26-4a75-82de-d7d9ed4194be",
         "clientes.csv",
         "abfss://container-course-databricks-001@sadatabrickscourse001.dfs.core.windows.net/clientes/clientes.csv",
         "2025-06-22T00:44:25Z",
         4486,
         null
        ],
        [
         "4",
         "Juan Gomez",
         "cliente4@correo.com",
         "Barranquilla",
         "2025-09-02T19:32:29.774Z",
         "77e0c9e8-e247-43f6-aa22-2ee7fe1c1653",
         "clientes.csv",
         "abfss://container-course-databricks-001@sadatabrickscourse001.dfs.core.windows.net/clientes/clientes.csv",
         "2025-06-22T00:44:25Z",
         4486,
         null
        ],
        [
         "70",
         "Juan Gomez",
         "cliente70@correo.com",
         "Lima",
         "2025-09-03T15:09:26.995Z",
         "12feaf5a-c68e-4cf7-80a7-5a755b35a334",
         "clientes_5.csv",
         "abfss://container-course-databricks-001@sadatabrickscourse001.dfs.core.windows.net/clientes/clientes_5.csv",
         "2025-09-03T14:48:29Z",
         3112,
         "America"
        ],
        [
         "72",
         "Juan Perez",
         "cliente72@correo.com",
         "Medellín",
         "2025-09-02T19:32:29.774Z",
         "e19ead82-7741-4f66-820c-60e8ba09c82d",
         "clientes.csv",
         "abfss://container-course-databricks-001@sadatabrickscourse001.dfs.core.windows.net/clientes/clientes.csv",
         "2025-06-22T00:44:25Z",
         4486,
         null
        ],
        [
         "99",
         "Maria Perez",
         "cliente99@correo.com",
         "Barranquilla",
         "2025-09-02T19:32:29.774Z",
         "da5897eb-6d76-4305-9eb9-f224c8d1a427",
         "clientes.csv",
         "abfss://container-course-databricks-001@sadatabrickscourse001.dfs.core.windows.net/clientes/clientes.csv",
         "2025-06-22T00:44:25Z",
         4486,
         null
        ],
        [
         "56",
         "Juan Gomez",
         "cliente56@correo.com",
         "Bogotá",
         "2025-09-02T19:32:29.774Z",
         "b7816756-7fed-4a8a-b4ae-f139606bdad4",
         "clientes.csv",
         "abfss://container-course-databricks-001@sadatabrickscourse001.dfs.core.windows.net/clientes/clientes.csv",
         "2025-06-22T00:44:25Z",
         4486,
         null
        ],
        [
         "58",
         "Juan Gomez",
         "cliente58@correo.com",
         "Mendoza",
         "2025-09-03T15:09:26.995Z",
         "6f2f8fe5-f946-4eef-862b-ec67efce8a19",
         "clientes_5.csv",
         "abfss://container-course-databricks-001@sadatabrickscourse001.dfs.core.windows.net/clientes/clientes_5.csv",
         "2025-09-03T14:48:29Z",
         3112,
         "America"
        ],
        [
         "84",
         "Juan Perez",
         "cliente84@correo.com",
         "Barranquilla",
         "2025-09-02T19:32:29.774Z",
         "14bcb14a-039b-4044-b99d-cd0a5b02bf40",
         "clientes.csv",
         "abfss://container-course-databricks-001@sadatabrickscourse001.dfs.core.windows.net/clientes/clientes.csv",
         "2025-06-22T00:44:25Z",
         4486,
         null
        ],
        [
         "90",
         "Juan Perez",
         "cliente90@correo.com",
         "Lima",
         "2025-09-03T15:09:26.995Z",
         "9b813b7a-bf16-4248-88cb-10e5de48d7ff",
         "clientes_5.csv",
         "abfss://container-course-databricks-001@sadatabrickscourse001.dfs.core.windows.net/clientes/clientes_5.csv",
         "2025-09-03T14:48:29Z",
         3112,
         "America"
        ],
        [
         "55",
         "Maria Gomez",
         "cliente55@correo.com",
         "Cartagena",
         "2025-09-02T19:32:29.774Z",
         "e0868e98-9052-49d5-87ad-f15c6c6104b5",
         "clientes.csv",
         "abfss://container-course-databricks-001@sadatabrickscourse001.dfs.core.windows.net/clientes/clientes.csv",
         "2025-06-22T00:44:25Z",
         4486,
         null
        ],
        [
         "81",
         "Maria Perez",
         "cliente81@correo.com",
         "Bogotá",
         "2025-09-02T19:32:29.774Z",
         "3d65794e-7fb5-4c0b-9b40-be65269161b0",
         "clientes.csv",
         "abfss://container-course-databricks-001@sadatabrickscourse001.dfs.core.windows.net/clientes/clientes.csv",
         "2025-06-22T00:44:25Z",
         4486,
         null
        ]
       ],
       "datasetInfos": [],
       "dbfsResultPath": null,
       "isJsonSchema": true,
       "metadata": {},
       "overflow": false,
       "plotOptions": {
        "customPlotOptions": {},
        "displayType": "table",
        "pivotAggregation": null,
        "pivotColumns": null,
        "xColumns": null,
        "yColumns": null
       },
       "removedWidgets": [],
       "schema": [
        {
         "metadata": "{}",
         "name": "cliente_id",
         "type": "\"string\""
        },
        {
         "metadata": "{}",
         "name": "nombre",
         "type": "\"string\""
        },
        {
         "metadata": "{}",
         "name": "correo",
         "type": "\"string\""
        },
        {
         "metadata": "{}",
         "name": "ciudad",
         "type": "\"string\""
        },
        {
         "metadata": "{}",
         "name": "ingestion_ts",
         "type": "\"timestamp\""
        },
        {
         "metadata": "{}",
         "name": "ingestion_id",
         "type": "\"string\""
        },
        {
         "metadata": "{}",
         "name": "source_file",
         "type": "\"string\""
        },
        {
         "metadata": "{}",
         "name": "source_path",
         "type": "\"string\""
        },
        {
         "metadata": "{}",
         "name": "file_modification_time",
         "type": "\"timestamp\""
        },
        {
         "metadata": "{}",
         "name": "file_size",
         "type": "\"long\""
        },
        {
         "metadata": "{}",
         "name": "continente",
         "type": "\"string\""
        }
       ],
       "type": "table"
      }
     },
     "output_type": "display_data"
    },
    {
     "output_type": "display_data",
     "data": {
      "text/html": [
       "<style scoped>\n",
       "  .table-result-container {\n",
       "    max-height: 300px;\n",
       "    overflow: auto;\n",
       "  }\n",
       "  table, th, td {\n",
       "    border: 1px solid black;\n",
       "    border-collapse: collapse;\n",
       "  }\n",
       "  th, td {\n",
       "    padding: 5px;\n",
       "  }\n",
       "  th {\n",
       "    text-align: left;\n",
       "  }\n",
       "</style><div class='table-result-container'><table class='table-result'><thead style='background-color: white'><tr><th>cliente_id</th><th>nombre</th><th>correo</th><th>ciudad</th><th>_rescued_data</th><th>ingestion_ts</th><th>ingestion_id</th><th>source_file</th><th>source_path</th><th>file_modification_time</th><th>file_size</th></tr></thead><tbody><tr><td>100</td><td>Juan Gomez</td><td>cliente100@correo.com</td><td>Lima</td><td>{\"continente\":\"Asia\",\"_file_path\":\"abfss://container-course-databricks-001@sadatabrickscourse001.dfs.core.windows.net/clientes/clientes_5.csv\"}</td><td>2025-09-03T15:09:26.995Z</td><td>f291160e-d96c-4630-b7c9-f490ad74a0f8</td><td>clientes_5.csv</td><td>abfss://container-course-databricks-001@sadatabrickscourse001.dfs.core.windows.net/clientes/clientes_5.csv</td><td>2025-09-03T14:48:29Z</td><td>3112</td></tr><tr><td>43</td><td>Maria Gomez</td><td>cliente43@correo.com</td><td>Mendoza</td><td>{\"continente\":\"America\",\"_file_path\":\"abfss://container-course-databricks-001@sadatabrickscourse001.dfs.core.windows.net/clientes/clientes_5.csv\"}</td><td>2025-09-03T15:09:26.995Z</td><td>2a70cc1b-9f41-4cb5-aef9-76c64bfa4cd9</td><td>clientes_5.csv</td><td>abfss://container-course-databricks-001@sadatabrickscourse001.dfs.core.windows.net/clientes/clientes_5.csv</td><td>2025-09-03T14:48:29Z</td><td>3112</td></tr><tr><td>44</td><td>Juan Gomez</td><td>cliente44@correo.com</td><td>Barranquilla</td><td>{\"continente\":\"America\",\"_file_path\":\"abfss://container-course-databricks-001@sadatabrickscourse001.dfs.core.windows.net/clientes/clientes_5.csv\"}</td><td>2025-09-03T15:09:26.995Z</td><td>9c5284ec-7e84-4266-889a-6c4de7aeb7cf</td><td>clientes_5.csv</td><td>abfss://container-course-databricks-001@sadatabrickscourse001.dfs.core.windows.net/clientes/clientes_5.csv</td><td>2025-09-03T14:48:29Z</td><td>3112</td></tr><tr><td>45</td><td>Maria Perez</td><td>cliente45@correo.com</td><td>Lima</td><td>{\"continente\":\"America\",\"_file_path\":\"abfss://container-course-databricks-001@sadatabrickscourse001.dfs.core.windows.net/clientes/clientes_5.csv\"}</td><td>2025-09-03T15:09:26.995Z</td><td>8d5185d0-0ddc-42e9-ab39-f4dc98461c6e</td><td>clientes_5.csv</td><td>abfss://container-course-databricks-001@sadatabrickscourse001.dfs.core.windows.net/clientes/clientes_5.csv</td><td>2025-09-03T14:48:29Z</td><td>3112</td></tr><tr><td>46</td><td>Juan Gomez</td><td>cliente46@correo.com</td><td>Merida</td><td>{\"continente\":\"America\",\"_file_path\":\"abfss://container-course-databricks-001@sadatabrickscourse001.dfs.core.windows.net/clientes/clientes_5.csv\"}</td><td>2025-09-03T15:09:26.995Z</td><td>d4b23198-cd86-4416-846f-d702e865dc62</td><td>clientes_5.csv</td><td>abfss://container-course-databricks-001@sadatabrickscourse001.dfs.core.windows.net/clientes/clientes_5.csv</td><td>2025-09-03T14:48:29Z</td><td>3112</td></tr><tr><td>47</td><td>Maria Gomez</td><td>cliente47@correo.com</td><td>Medellin</td><td>{\"continente\":\"America\",\"_file_path\":\"abfss://container-course-databricks-001@sadatabrickscourse001.dfs.core.windows.net/clientes/clientes_5.csv\"}</td><td>2025-09-03T15:09:26.995Z</td><td>9397a7f0-4ece-4b3d-86d9-d50011f931fd</td><td>clientes_5.csv</td><td>abfss://container-course-databricks-001@sadatabrickscourse001.dfs.core.windows.net/clientes/clientes_5.csv</td><td>2025-09-03T14:48:29Z</td><td>3112</td></tr><tr><td>48</td><td>Juan Perez</td><td>cliente48@correo.com</td><td>Mendoza</td><td>{\"continente\":\"America\",\"_file_path\":\"abfss://container-course-databricks-001@sadatabrickscourse001.dfs.core.windows.net/clientes/clientes_5.csv\"}</td><td>2025-09-03T15:09:26.995Z</td><td>28b6b6b9-2ce3-4df8-97e7-4f442765cb66</td><td>clientes_5.csv</td><td>abfss://container-course-databricks-001@sadatabrickscourse001.dfs.core.windows.net/clientes/clientes_5.csv</td><td>2025-09-03T14:48:29Z</td><td>3112</td></tr><tr><td>49</td><td>Maria Gomez</td><td>cliente49@correo.com</td><td>Barranquilla</td><td>{\"continente\":\"America\",\"_file_path\":\"abfss://container-course-databricks-001@sadatabrickscourse001.dfs.core.windows.net/clientes/clientes_5.csv\"}</td><td>2025-09-03T15:09:26.995Z</td><td>e6d92430-bab1-4a05-bea8-22c5fab29ef2</td><td>clientes_5.csv</td><td>abfss://container-course-databricks-001@sadatabrickscourse001.dfs.core.windows.net/clientes/clientes_5.csv</td><td>2025-09-03T14:48:29Z</td><td>3112</td></tr><tr><td>50</td><td>Juan Gomez</td><td>cliente50@correo.com</td><td>Lima</td><td>{\"continente\":\"America\",\"_file_path\":\"abfss://container-course-databricks-001@sadatabrickscourse001.dfs.core.windows.net/clientes/clientes_5.csv\"}</td><td>2025-09-03T15:09:26.995Z</td><td>07f1ba65-bcf0-4933-b85a-c2b8abedf8fd</td><td>clientes_5.csv</td><td>abfss://container-course-databricks-001@sadatabrickscourse001.dfs.core.windows.net/clientes/clientes_5.csv</td><td>2025-09-03T14:48:29Z</td><td>3112</td></tr><tr><td>51</td><td>Maria Perez</td><td>cliente51@correo.com</td><td>Merida</td><td>{\"continente\":\"America\",\"_file_path\":\"abfss://container-course-databricks-001@sadatabrickscourse001.dfs.core.windows.net/clientes/clientes_5.csv\"}</td><td>2025-09-03T15:09:26.995Z</td><td>1055aeae-3fc5-464e-b467-2a9071ccfec9</td><td>clientes_5.csv</td><td>abfss://container-course-databricks-001@sadatabrickscourse001.dfs.core.windows.net/clientes/clientes_5.csv</td><td>2025-09-03T14:48:29Z</td><td>3112</td></tr><tr><td>52</td><td>Juan Gomez</td><td>cliente52@correo.com</td><td>Medellin</td><td>{\"continente\":\"America\",\"_file_path\":\"abfss://container-course-databricks-001@sadatabrickscourse001.dfs.core.windows.net/clientes/clientes_5.csv\"}</td><td>2025-09-03T15:09:26.995Z</td><td>d3355446-6a88-4063-9e28-a5fdcb8447e6</td><td>clientes_5.csv</td><td>abfss://container-course-databricks-001@sadatabrickscourse001.dfs.core.windows.net/clientes/clientes_5.csv</td><td>2025-09-03T14:48:29Z</td><td>3112</td></tr><tr><td>53</td><td>Maria Gomez</td><td>cliente53@correo.com</td><td>Mendoza</td><td>{\"continente\":\"America\",\"_file_path\":\"abfss://container-course-databricks-001@sadatabrickscourse001.dfs.core.windows.net/clientes/clientes_5.csv\"}</td><td>2025-09-03T15:09:26.995Z</td><td>13952f34-9a58-4409-acb2-08e5184be631</td><td>clientes_5.csv</td><td>abfss://container-course-databricks-001@sadatabrickscourse001.dfs.core.windows.net/clientes/clientes_5.csv</td><td>2025-09-03T14:48:29Z</td><td>3112</td></tr><tr><td>54</td><td>Juan Perez</td><td>cliente54@correo.com</td><td>Barranquilla</td><td>{\"continente\":\"America\",\"_file_path\":\"abfss://container-course-databricks-001@sadatabrickscourse001.dfs.core.windows.net/clientes/clientes_5.csv\"}</td><td>2025-09-03T15:09:26.995Z</td><td>bab74e70-224d-43a1-8c47-51a612087e38</td><td>clientes_5.csv</td><td>abfss://container-course-databricks-001@sadatabrickscourse001.dfs.core.windows.net/clientes/clientes_5.csv</td><td>2025-09-03T14:48:29Z</td><td>3112</td></tr><tr><td>55</td><td>Maria Gomez</td><td>cliente55@correo.com</td><td>Lima</td><td>{\"continente\":\"America\",\"_file_path\":\"abfss://container-course-databricks-001@sadatabrickscourse001.dfs.core.windows.net/clientes/clientes_5.csv\"}</td><td>2025-09-03T15:09:26.995Z</td><td>390a04f9-91dd-406e-b271-7d0358d1ba03</td><td>clientes_5.csv</td><td>abfss://container-course-databricks-001@sadatabrickscourse001.dfs.core.windows.net/clientes/clientes_5.csv</td><td>2025-09-03T14:48:29Z</td><td>3112</td></tr><tr><td>56</td><td>Juan Gomez</td><td>cliente56@correo.com</td><td>Merida</td><td>{\"continente\":\"America\",\"_file_path\":\"abfss://container-course-databricks-001@sadatabrickscourse001.dfs.core.windows.net/clientes/clientes_5.csv\"}</td><td>2025-09-03T15:09:26.995Z</td><td>8058a597-8a12-40f5-889b-3009810cac6a</td><td>clientes_5.csv</td><td>abfss://container-course-databricks-001@sadatabrickscourse001.dfs.core.windows.net/clientes/clientes_5.csv</td><td>2025-09-03T14:48:29Z</td><td>3112</td></tr><tr><td>57</td><td>Maria Perez</td><td>cliente57@correo.com</td><td>Medellin</td><td>{\"continente\":\"America\",\"_file_path\":\"abfss://container-course-databricks-001@sadatabrickscourse001.dfs.core.windows.net/clientes/clientes_5.csv\"}</td><td>2025-09-03T15:09:26.995Z</td><td>2ef40812-1950-4dae-9319-04bc8f9e0832</td><td>clientes_5.csv</td><td>abfss://container-course-databricks-001@sadatabrickscourse001.dfs.core.windows.net/clientes/clientes_5.csv</td><td>2025-09-03T14:48:29Z</td><td>3112</td></tr><tr><td>58</td><td>Juan Gomez</td><td>cliente58@correo.com</td><td>Mendoza</td><td>{\"continente\":\"America\",\"_file_path\":\"abfss://container-course-databricks-001@sadatabrickscourse001.dfs.core.windows.net/clientes/clientes_5.csv\"}</td><td>2025-09-03T15:09:26.995Z</td><td>6f2f8fe5-f946-4eef-862b-ec67efce8a19</td><td>clientes_5.csv</td><td>abfss://container-course-databricks-001@sadatabrickscourse001.dfs.core.windows.net/clientes/clientes_5.csv</td><td>2025-09-03T14:48:29Z</td><td>3112</td></tr><tr><td>59</td><td>Maria Gomez</td><td>cliente59@correo.com</td><td>Barranquilla</td><td>{\"continente\":\"America\",\"_file_path\":\"abfss://container-course-databricks-001@sadatabrickscourse001.dfs.core.windows.net/clientes/clientes_5.csv\"}</td><td>2025-09-03T15:09:26.995Z</td><td>868c91a7-2e62-4594-85f2-04765aabc935</td><td>clientes_5.csv</td><td>abfss://container-course-databricks-001@sadatabrickscourse001.dfs.core.windows.net/clientes/clientes_5.csv</td><td>2025-09-03T14:48:29Z</td><td>3112</td></tr><tr><td>60</td><td>Juan Perez</td><td>cliente60@correo.com</td><td>Lima</td><td>{\"continente\":\"America\",\"_file_path\":\"abfss://container-course-databricks-001@sadatabrickscourse001.dfs.core.windows.net/clientes/clientes_5.csv\"}</td><td>2025-09-03T15:09:26.995Z</td><td>4dac6e6f-e20f-442c-a1e4-2a85ce294522</td><td>clientes_5.csv</td><td>abfss://container-course-databricks-001@sadatabrickscourse001.dfs.core.windows.net/clientes/clientes_5.csv</td><td>2025-09-03T14:48:29Z</td><td>3112</td></tr><tr><td>61</td><td>Maria Gomez</td><td>cliente61@correo.com</td><td>Merida</td><td>{\"continente\":\"America\",\"_file_path\":\"abfss://container-course-databricks-001@sadatabrickscourse001.dfs.core.windows.net/clientes/clientes_5.csv\"}</td><td>2025-09-03T15:09:26.995Z</td><td>70e45b47-3f6a-4cf9-a896-bb3ebd358ab7</td><td>clientes_5.csv</td><td>abfss://container-course-databricks-001@sadatabrickscourse001.dfs.core.windows.net/clientes/clientes_5.csv</td><td>2025-09-03T14:48:29Z</td><td>3112</td></tr><tr><td>62</td><td>Juan Gomez</td><td>cliente62@correo.com</td><td>Medellin</td><td>{\"continente\":\"America\",\"_file_path\":\"abfss://container-course-databricks-001@sadatabrickscourse001.dfs.core.windows.net/clientes/clientes_5.csv\"}</td><td>2025-09-03T15:09:26.995Z</td><td>d1b02bc4-f7ba-4ed3-8e0e-73268952cf0f</td><td>clientes_5.csv</td><td>abfss://container-course-databricks-001@sadatabrickscourse001.dfs.core.windows.net/clientes/clientes_5.csv</td><td>2025-09-03T14:48:29Z</td><td>3112</td></tr><tr><td>63</td><td>Maria Perez</td><td>cliente63@correo.com</td><td>Mendoza</td><td>{\"continente\":\"America\",\"_file_path\":\"abfss://container-course-databricks-001@sadatabrickscourse001.dfs.core.windows.net/clientes/clientes_5.csv\"}</td><td>2025-09-03T15:09:26.995Z</td><td>7d4d9e15-018a-483e-a68b-17bce94f2701</td><td>clientes_5.csv</td><td>abfss://container-course-databricks-001@sadatabrickscourse001.dfs.core.windows.net/clientes/clientes_5.csv</td><td>2025-09-03T14:48:29Z</td><td>3112</td></tr><tr><td>64</td><td>Juan Gomez</td><td>cliente64@correo.com</td><td>Barranquilla</td><td>{\"continente\":\"America\",\"_file_path\":\"abfss://container-course-databricks-001@sadatabrickscourse001.dfs.core.windows.net/clientes/clientes_5.csv\"}</td><td>2025-09-03T15:09:26.995Z</td><td>aa7b1875-c6c9-463c-8cd4-2d979cb8e864</td><td>clientes_5.csv</td><td>abfss://container-course-databricks-001@sadatabrickscourse001.dfs.core.windows.net/clientes/clientes_5.csv</td><td>2025-09-03T14:48:29Z</td><td>3112</td></tr><tr><td>65</td><td>Maria Gomez</td><td>cliente65@correo.com</td><td>Lima</td><td>{\"continente\":\"America\",\"_file_path\":\"abfss://container-course-databricks-001@sadatabrickscourse001.dfs.core.windows.net/clientes/clientes_5.csv\"}</td><td>2025-09-03T15:09:26.995Z</td><td>c001205f-4100-4e36-abec-9c76a06bd85f</td><td>clientes_5.csv</td><td>abfss://container-course-databricks-001@sadatabrickscourse001.dfs.core.windows.net/clientes/clientes_5.csv</td><td>2025-09-03T14:48:29Z</td><td>3112</td></tr><tr><td>66</td><td>Juan Perez</td><td>cliente66@correo.com</td><td>Merida</td><td>{\"continente\":\"America\",\"_file_path\":\"abfss://container-course-databricks-001@sadatabrickscourse001.dfs.core.windows.net/clientes/clientes_5.csv\"}</td><td>2025-09-03T15:09:26.995Z</td><td>b4b7a0f7-b86f-421f-aa1b-301301b77134</td><td>clientes_5.csv</td><td>abfss://container-course-databricks-001@sadatabrickscourse001.dfs.core.windows.net/clientes/clientes_5.csv</td><td>2025-09-03T14:48:29Z</td><td>3112</td></tr><tr><td>67</td><td>Maria Gomez</td><td>cliente67@correo.com</td><td>Medellin</td><td>{\"continente\":\"America\",\"_file_path\":\"abfss://container-course-databricks-001@sadatabrickscourse001.dfs.core.windows.net/clientes/clientes_5.csv\"}</td><td>2025-09-03T15:09:26.995Z</td><td>8c820ff9-ad23-4387-b569-b10e6530d0d1</td><td>clientes_5.csv</td><td>abfss://container-course-databricks-001@sadatabrickscourse001.dfs.core.windows.net/clientes/clientes_5.csv</td><td>2025-09-03T14:48:29Z</td><td>3112</td></tr><tr><td>68</td><td>Juan Gomez</td><td>cliente68@correo.com</td><td>Mendoza</td><td>{\"continente\":\"America\",\"_file_path\":\"abfss://container-course-databricks-001@sadatabrickscourse001.dfs.core.windows.net/clientes/clientes_5.csv\"}</td><td>2025-09-03T15:09:26.995Z</td><td>629c936a-a53e-495f-add3-e68b4615523b</td><td>clientes_5.csv</td><td>abfss://container-course-databricks-001@sadatabrickscourse001.dfs.core.windows.net/clientes/clientes_5.csv</td><td>2025-09-03T14:48:29Z</td><td>3112</td></tr><tr><td>69</td><td>Maria Perez</td><td>cliente69@correo.com</td><td>Barranquilla</td><td>{\"continente\":\"America\",\"_file_path\":\"abfss://container-course-databricks-001@sadatabrickscourse001.dfs.core.windows.net/clientes/clientes_5.csv\"}</td><td>2025-09-03T15:09:26.995Z</td><td>820be41c-719b-4547-bf20-82e135b80452</td><td>clientes_5.csv</td><td>abfss://container-course-databricks-001@sadatabrickscourse001.dfs.core.windows.net/clientes/clientes_5.csv</td><td>2025-09-03T14:48:29Z</td><td>3112</td></tr><tr><td>70</td><td>Juan Gomez</td><td>cliente70@correo.com</td><td>Lima</td><td>{\"continente\":\"America\",\"_file_path\":\"abfss://container-course-databricks-001@sadatabrickscourse001.dfs.core.windows.net/clientes/clientes_5.csv\"}</td><td>2025-09-03T15:09:26.995Z</td><td>12feaf5a-c68e-4cf7-80a7-5a755b35a334</td><td>clientes_5.csv</td><td>abfss://container-course-databricks-001@sadatabrickscourse001.dfs.core.windows.net/clientes/clientes_5.csv</td><td>2025-09-03T14:48:29Z</td><td>3112</td></tr><tr><td>71</td><td>Maria Gomez</td><td>cliente71@correo.com</td><td>Merida</td><td>{\"continente\":\"America\",\"_file_path\":\"abfss://container-course-databricks-001@sadatabrickscourse001.dfs.core.windows.net/clientes/clientes_5.csv\"}</td><td>2025-09-03T15:09:26.995Z</td><td>9e05d9c5-346f-4676-b717-446a568a47e1</td><td>clientes_5.csv</td><td>abfss://container-course-databricks-001@sadatabrickscourse001.dfs.core.windows.net/clientes/clientes_5.csv</td><td>2025-09-03T14:48:29Z</td><td>3112</td></tr><tr><td>72</td><td>Juan Perez</td><td>cliente72@correo.com</td><td>Medellin</td><td>{\"continente\":\"America\",\"_file_path\":\"abfss://container-course-databricks-001@sadatabrickscourse001.dfs.core.windows.net/clientes/clientes_5.csv\"}</td><td>2025-09-03T15:09:26.995Z</td><td>e4ed9bd6-439e-4471-a63d-ccf92e39d829</td><td>clientes_5.csv</td><td>abfss://container-course-databricks-001@sadatabrickscourse001.dfs.core.windows.net/clientes/clientes_5.csv</td><td>2025-09-03T14:48:29Z</td><td>3112</td></tr><tr><td>73</td><td>Maria Gomez</td><td>cliente73@correo.com</td><td>Mendoza</td><td>{\"continente\":\"America\",\"_file_path\":\"abfss://container-course-databricks-001@sadatabrickscourse001.dfs.core.windows.net/clientes/clientes_5.csv\"}</td><td>2025-09-03T15:09:26.995Z</td><td>55ca0d9a-1b7a-407a-bb32-c12a2127627f</td><td>clientes_5.csv</td><td>abfss://container-course-databricks-001@sadatabrickscourse001.dfs.core.windows.net/clientes/clientes_5.csv</td><td>2025-09-03T14:48:29Z</td><td>3112</td></tr><tr><td>74</td><td>Juan Gomez</td><td>cliente74@correo.com</td><td>Barranquilla</td><td>{\"continente\":\"America\",\"_file_path\":\"abfss://container-course-databricks-001@sadatabrickscourse001.dfs.core.windows.net/clientes/clientes_5.csv\"}</td><td>2025-09-03T15:09:26.995Z</td><td>cdb10fd1-cae1-4dab-b325-df33ef93b87e</td><td>clientes_5.csv</td><td>abfss://container-course-databricks-001@sadatabrickscourse001.dfs.core.windows.net/clientes/clientes_5.csv</td><td>2025-09-03T14:48:29Z</td><td>3112</td></tr><tr><td>75</td><td>Maria Perez</td><td>cliente75@correo.com</td><td>Lima</td><td>{\"continente\":\"America\",\"_file_path\":\"abfss://container-course-databricks-001@sadatabrickscourse001.dfs.core.windows.net/clientes/clientes_5.csv\"}</td><td>2025-09-03T15:09:26.995Z</td><td>1a72b975-a88d-4363-beeb-0d45b2871393</td><td>clientes_5.csv</td><td>abfss://container-course-databricks-001@sadatabrickscourse001.dfs.core.windows.net/clientes/clientes_5.csv</td><td>2025-09-03T14:48:29Z</td><td>3112</td></tr><tr><td>76</td><td>Juan Gomez</td><td>cliente76@correo.com</td><td>Merida</td><td>{\"continente\":\"America\",\"_file_path\":\"abfss://container-course-databricks-001@sadatabrickscourse001.dfs.core.windows.net/clientes/clientes_5.csv\"}</td><td>2025-09-03T15:09:26.995Z</td><td>fb4b6a4d-163f-4391-9185-3cb76faa3015</td><td>clientes_5.csv</td><td>abfss://container-course-databricks-001@sadatabrickscourse001.dfs.core.windows.net/clientes/clientes_5.csv</td><td>2025-09-03T14:48:29Z</td><td>3112</td></tr><tr><td>77</td><td>Maria Gomez</td><td>cliente77@correo.com</td><td>Medellin</td><td>{\"continente\":\"America\",\"_file_path\":\"abfss://container-course-databricks-001@sadatabrickscourse001.dfs.core.windows.net/clientes/clientes_5.csv\"}</td><td>2025-09-03T15:09:26.995Z</td><td>8bf3330a-8711-4929-8e8e-e4ba77ac3dba</td><td>clientes_5.csv</td><td>abfss://container-course-databricks-001@sadatabrickscourse001.dfs.core.windows.net/clientes/clientes_5.csv</td><td>2025-09-03T14:48:29Z</td><td>3112</td></tr><tr><td>78</td><td>Juan Perez</td><td>cliente78@correo.com</td><td>Mendoza</td><td>{\"continente\":\"America\",\"_file_path\":\"abfss://container-course-databricks-001@sadatabrickscourse001.dfs.core.windows.net/clientes/clientes_5.csv\"}</td><td>2025-09-03T15:09:26.995Z</td><td>a63a5600-6c14-4085-be93-e77fc52f70ea</td><td>clientes_5.csv</td><td>abfss://container-course-databricks-001@sadatabrickscourse001.dfs.core.windows.net/clientes/clientes_5.csv</td><td>2025-09-03T14:48:29Z</td><td>3112</td></tr><tr><td>79</td><td>Maria Gomez</td><td>cliente79@correo.com</td><td>Barranquilla</td><td>{\"continente\":\"America\",\"_file_path\":\"abfss://container-course-databricks-001@sadatabrickscourse001.dfs.core.windows.net/clientes/clientes_5.csv\"}</td><td>2025-09-03T15:09:26.995Z</td><td>c4c50f0c-6b7d-4709-b4f3-010432bc2923</td><td>clientes_5.csv</td><td>abfss://container-course-databricks-001@sadatabrickscourse001.dfs.core.windows.net/clientes/clientes_5.csv</td><td>2025-09-03T14:48:29Z</td><td>3112</td></tr><tr><td>80</td><td>Juan Gomez</td><td>cliente80@correo.com</td><td>Lima</td><td>{\"continente\":\"America\",\"_file_path\":\"abfss://container-course-databricks-001@sadatabrickscourse001.dfs.core.windows.net/clientes/clientes_5.csv\"}</td><td>2025-09-03T15:09:26.995Z</td><td>d20d44af-dd68-481b-9524-e9b3578d9607</td><td>clientes_5.csv</td><td>abfss://container-course-databricks-001@sadatabrickscourse001.dfs.core.windows.net/clientes/clientes_5.csv</td><td>2025-09-03T14:48:29Z</td><td>3112</td></tr><tr><td>81</td><td>Maria Perez</td><td>cliente81@correo.com</td><td>Merida</td><td>{\"continente\":\"America\",\"_file_path\":\"abfss://container-course-databricks-001@sadatabrickscourse001.dfs.core.windows.net/clientes/clientes_5.csv\"}</td><td>2025-09-03T15:09:26.995Z</td><td>59b9dede-b3ec-4323-ac98-ecdfeb219323</td><td>clientes_5.csv</td><td>abfss://container-course-databricks-001@sadatabrickscourse001.dfs.core.windows.net/clientes/clientes_5.csv</td><td>2025-09-03T14:48:29Z</td><td>3112</td></tr><tr><td>82</td><td>Juan Gomez</td><td>cliente82@correo.com</td><td>Medellin</td><td>{\"continente\":\"America\",\"_file_path\":\"abfss://container-course-databricks-001@sadatabrickscourse001.dfs.core.windows.net/clientes/clientes_5.csv\"}</td><td>2025-09-03T15:09:26.995Z</td><td>cbab9e23-bc2a-46f0-8b36-5f4ae690e068</td><td>clientes_5.csv</td><td>abfss://container-course-databricks-001@sadatabrickscourse001.dfs.core.windows.net/clientes/clientes_5.csv</td><td>2025-09-03T14:48:29Z</td><td>3112</td></tr><tr><td>83</td><td>Maria Gomez</td><td>cliente83@correo.com</td><td>Mendoza</td><td>{\"continente\":\"America\",\"_file_path\":\"abfss://container-course-databricks-001@sadatabrickscourse001.dfs.core.windows.net/clientes/clientes_5.csv\"}</td><td>2025-09-03T15:09:26.995Z</td><td>6ca13a00-32fd-4ec2-88b9-a369a4ed2c25</td><td>clientes_5.csv</td><td>abfss://container-course-databricks-001@sadatabrickscourse001.dfs.core.windows.net/clientes/clientes_5.csv</td><td>2025-09-03T14:48:29Z</td><td>3112</td></tr><tr><td>84</td><td>Juan Perez</td><td>cliente84@correo.com</td><td>Barranquilla</td><td>{\"continente\":\"America\",\"_file_path\":\"abfss://container-course-databricks-001@sadatabrickscourse001.dfs.core.windows.net/clientes/clientes_5.csv\"}</td><td>2025-09-03T15:09:26.995Z</td><td>b95bac8b-d3e3-405c-9b0c-8dc315afb9bc</td><td>clientes_5.csv</td><td>abfss://container-course-databricks-001@sadatabrickscourse001.dfs.core.windows.net/clientes/clientes_5.csv</td><td>2025-09-03T14:48:29Z</td><td>3112</td></tr><tr><td>85</td><td>Maria Gomez</td><td>cliente85@correo.com</td><td>Lima</td><td>{\"continente\":\"America\",\"_file_path\":\"abfss://container-course-databricks-001@sadatabrickscourse001.dfs.core.windows.net/clientes/clientes_5.csv\"}</td><td>2025-09-03T15:09:26.995Z</td><td>f3ca7f7f-a214-484e-bf83-128b02e23824</td><td>clientes_5.csv</td><td>abfss://container-course-databricks-001@sadatabrickscourse001.dfs.core.windows.net/clientes/clientes_5.csv</td><td>2025-09-03T14:48:29Z</td><td>3112</td></tr><tr><td>86</td><td>Juan Gomez</td><td>cliente86@correo.com</td><td>Merida</td><td>{\"continente\":\"America\",\"_file_path\":\"abfss://container-course-databricks-001@sadatabrickscourse001.dfs.core.windows.net/clientes/clientes_5.csv\"}</td><td>2025-09-03T15:09:26.995Z</td><td>ca36b412-3e2d-4576-be9b-9f816be7b99f</td><td>clientes_5.csv</td><td>abfss://container-course-databricks-001@sadatabrickscourse001.dfs.core.windows.net/clientes/clientes_5.csv</td><td>2025-09-03T14:48:29Z</td><td>3112</td></tr><tr><td>87</td><td>Maria Perez</td><td>cliente87@correo.com</td><td>Medellin</td><td>{\"continente\":\"America\",\"_file_path\":\"abfss://container-course-databricks-001@sadatabrickscourse001.dfs.core.windows.net/clientes/clientes_5.csv\"}</td><td>2025-09-03T15:09:26.995Z</td><td>5ad2ae64-8e2d-47b2-8418-49a9c8aa5382</td><td>clientes_5.csv</td><td>abfss://container-course-databricks-001@sadatabrickscourse001.dfs.core.windows.net/clientes/clientes_5.csv</td><td>2025-09-03T14:48:29Z</td><td>3112</td></tr><tr><td>88</td><td>Juan Gomez</td><td>cliente88@correo.com</td><td>Mendoza</td><td>{\"continente\":\"America\",\"_file_path\":\"abfss://container-course-databricks-001@sadatabrickscourse001.dfs.core.windows.net/clientes/clientes_5.csv\"}</td><td>2025-09-03T15:09:26.995Z</td><td>6b2be03c-62a3-4d74-b482-f24f902be1e4</td><td>clientes_5.csv</td><td>abfss://container-course-databricks-001@sadatabrickscourse001.dfs.core.windows.net/clientes/clientes_5.csv</td><td>2025-09-03T14:48:29Z</td><td>3112</td></tr><tr><td>89</td><td>Maria Gomez</td><td>cliente89@correo.com</td><td>Barranquilla</td><td>{\"continente\":\"America\",\"_file_path\":\"abfss://container-course-databricks-001@sadatabrickscourse001.dfs.core.windows.net/clientes/clientes_5.csv\"}</td><td>2025-09-03T15:09:26.995Z</td><td>3c214386-f305-4e93-89b6-316ed7038acc</td><td>clientes_5.csv</td><td>abfss://container-course-databricks-001@sadatabrickscourse001.dfs.core.windows.net/clientes/clientes_5.csv</td><td>2025-09-03T14:48:29Z</td><td>3112</td></tr><tr><td>90</td><td>Juan Perez</td><td>cliente90@correo.com</td><td>Lima</td><td>{\"continente\":\"America\",\"_file_path\":\"abfss://container-course-databricks-001@sadatabrickscourse001.dfs.core.windows.net/clientes/clientes_5.csv\"}</td><td>2025-09-03T15:09:26.995Z</td><td>9b813b7a-bf16-4248-88cb-10e5de48d7ff</td><td>clientes_5.csv</td><td>abfss://container-course-databricks-001@sadatabrickscourse001.dfs.core.windows.net/clientes/clientes_5.csv</td><td>2025-09-03T14:48:29Z</td><td>3112</td></tr><tr><td>91</td><td>Maria Gomez</td><td>cliente91@correo.com</td><td>Merida</td><td>{\"continente\":\"America\",\"_file_path\":\"abfss://container-course-databricks-001@sadatabrickscourse001.dfs.core.windows.net/clientes/clientes_5.csv\"}</td><td>2025-09-03T15:09:26.995Z</td><td>b00b3922-4de8-43ae-afa2-846f4c84d784</td><td>clientes_5.csv</td><td>abfss://container-course-databricks-001@sadatabrickscourse001.dfs.core.windows.net/clientes/clientes_5.csv</td><td>2025-09-03T14:48:29Z</td><td>3112</td></tr><tr><td>92</td><td>Juan Gomez</td><td>cliente92@correo.com</td><td>Medellin</td><td>{\"continente\":\"America\",\"_file_path\":\"abfss://container-course-databricks-001@sadatabrickscourse001.dfs.core.windows.net/clientes/clientes_5.csv\"}</td><td>2025-09-03T15:09:26.995Z</td><td>e3718f7a-71b9-4512-9dbc-1ffab3342d9c</td><td>clientes_5.csv</td><td>abfss://container-course-databricks-001@sadatabrickscourse001.dfs.core.windows.net/clientes/clientes_5.csv</td><td>2025-09-03T14:48:29Z</td><td>3112</td></tr><tr><td>93</td><td>Maria Perez</td><td>cliente93@correo.com</td><td>Mendoza</td><td>{\"continente\":\"America\",\"_file_path\":\"abfss://container-course-databricks-001@sadatabrickscourse001.dfs.core.windows.net/clientes/clientes_5.csv\"}</td><td>2025-09-03T15:09:26.995Z</td><td>445438e1-a85d-43c3-9921-ffbff4e851a0</td><td>clientes_5.csv</td><td>abfss://container-course-databricks-001@sadatabrickscourse001.dfs.core.windows.net/clientes/clientes_5.csv</td><td>2025-09-03T14:48:29Z</td><td>3112</td></tr><tr><td>94</td><td>Juan Gomez</td><td>cliente94@correo.com</td><td>Barranquilla</td><td>{\"continente\":\"America\",\"_file_path\":\"abfss://container-course-databricks-001@sadatabrickscourse001.dfs.core.windows.net/clientes/clientes_5.csv\"}</td><td>2025-09-03T15:09:26.995Z</td><td>baa7ed69-d21b-4a25-ab40-153f329eb1fa</td><td>clientes_5.csv</td><td>abfss://container-course-databricks-001@sadatabrickscourse001.dfs.core.windows.net/clientes/clientes_5.csv</td><td>2025-09-03T14:48:29Z</td><td>3112</td></tr><tr><td>95</td><td>Maria Gomez</td><td>cliente95@correo.com</td><td>Lima</td><td>{\"continente\":\"America\",\"_file_path\":\"abfss://container-course-databricks-001@sadatabrickscourse001.dfs.core.windows.net/clientes/clientes_5.csv\"}</td><td>2025-09-03T15:09:26.995Z</td><td>77700bb8-b42e-4316-afa4-d76aa3c23fbd</td><td>clientes_5.csv</td><td>abfss://container-course-databricks-001@sadatabrickscourse001.dfs.core.windows.net/clientes/clientes_5.csv</td><td>2025-09-03T14:48:29Z</td><td>3112</td></tr><tr><td>96</td><td>Juan Perez</td><td>cliente96@correo.com</td><td>Merida</td><td>{\"continente\":\"America\",\"_file_path\":\"abfss://container-course-databricks-001@sadatabrickscourse001.dfs.core.windows.net/clientes/clientes_5.csv\"}</td><td>2025-09-03T15:09:26.995Z</td><td>5482249f-9a64-4a52-883e-928fea4f2079</td><td>clientes_5.csv</td><td>abfss://container-course-databricks-001@sadatabrickscourse001.dfs.core.windows.net/clientes/clientes_5.csv</td><td>2025-09-03T14:48:29Z</td><td>3112</td></tr><tr><td>97</td><td>Maria Gomez</td><td>cliente97@correo.com</td><td>Medellin</td><td>{\"continente\":\"America\",\"_file_path\":\"abfss://container-course-databricks-001@sadatabrickscourse001.dfs.core.windows.net/clientes/clientes_5.csv\"}</td><td>2025-09-03T15:09:26.995Z</td><td>343389b3-579b-4efd-9555-7611feeaf6b6</td><td>clientes_5.csv</td><td>abfss://container-course-databricks-001@sadatabrickscourse001.dfs.core.windows.net/clientes/clientes_5.csv</td><td>2025-09-03T14:48:29Z</td><td>3112</td></tr><tr><td>98</td><td>Juan Gomez</td><td>cliente98@correo.com</td><td>Mendoza</td><td>{\"continente\":\"America\",\"_file_path\":\"abfss://container-course-databricks-001@sadatabrickscourse001.dfs.core.windows.net/clientes/clientes_5.csv\"}</td><td>2025-09-03T15:09:26.995Z</td><td>1c2e82dc-8e17-49bc-8283-60f237a5cafa</td><td>clientes_5.csv</td><td>abfss://container-course-databricks-001@sadatabrickscourse001.dfs.core.windows.net/clientes/clientes_5.csv</td><td>2025-09-03T14:48:29Z</td><td>3112</td></tr><tr><td>99</td><td>Maria Perez</td><td>cliente99@correo.com</td><td>Barranquilla</td><td>{\"continente\":\"America\",\"_file_path\":\"abfss://container-course-databricks-001@sadatabrickscourse001.dfs.core.windows.net/clientes/clientes_5.csv\"}</td><td>2025-09-03T15:09:26.995Z</td><td>a90785c5-2b14-4c91-a889-f7c27a487760</td><td>clientes_5.csv</td><td>abfss://container-course-databricks-001@sadatabrickscourse001.dfs.core.windows.net/clientes/clientes_5.csv</td><td>2025-09-03T14:48:29Z</td><td>3112</td></tr></tbody></table></div>"
      ]
     },
     "metadata": {
      "application/vnd.databricks.v1+output": {
       "addedWidgets": {},
       "aggData": [],
       "aggError": "",
       "aggOverflow": false,
       "aggSchema": [],
       "aggSeriesLimitReached": false,
       "aggType": "",
       "arguments": {},
       "columnCustomDisplayInfos": {},
       "data": [
        [
         "100",
         "Juan Gomez",
         "cliente100@correo.com",
         "Lima",
         "{\"continente\":\"Asia\",\"_file_path\":\"abfss://container-course-databricks-001@sadatabrickscourse001.dfs.core.windows.net/clientes/clientes_5.csv\"}",
         "2025-09-03T15:09:26.995Z",
         "f291160e-d96c-4630-b7c9-f490ad74a0f8",
         "clientes_5.csv",
         "abfss://container-course-databricks-001@sadatabrickscourse001.dfs.core.windows.net/clientes/clientes_5.csv",
         "2025-09-03T14:48:29Z",
         3112
        ],
        [
         "43",
         "Maria Gomez",
         "cliente43@correo.com",
         "Mendoza",
         "{\"continente\":\"America\",\"_file_path\":\"abfss://container-course-databricks-001@sadatabrickscourse001.dfs.core.windows.net/clientes/clientes_5.csv\"}",
         "2025-09-03T15:09:26.995Z",
         "2a70cc1b-9f41-4cb5-aef9-76c64bfa4cd9",
         "clientes_5.csv",
         "abfss://container-course-databricks-001@sadatabrickscourse001.dfs.core.windows.net/clientes/clientes_5.csv",
         "2025-09-03T14:48:29Z",
         3112
        ],
        [
         "44",
         "Juan Gomez",
         "cliente44@correo.com",
         "Barranquilla",
         "{\"continente\":\"America\",\"_file_path\":\"abfss://container-course-databricks-001@sadatabrickscourse001.dfs.core.windows.net/clientes/clientes_5.csv\"}",
         "2025-09-03T15:09:26.995Z",
         "9c5284ec-7e84-4266-889a-6c4de7aeb7cf",
         "clientes_5.csv",
         "abfss://container-course-databricks-001@sadatabrickscourse001.dfs.core.windows.net/clientes/clientes_5.csv",
         "2025-09-03T14:48:29Z",
         3112
        ],
        [
         "45",
         "Maria Perez",
         "cliente45@correo.com",
         "Lima",
         "{\"continente\":\"America\",\"_file_path\":\"abfss://container-course-databricks-001@sadatabrickscourse001.dfs.core.windows.net/clientes/clientes_5.csv\"}",
         "2025-09-03T15:09:26.995Z",
         "8d5185d0-0ddc-42e9-ab39-f4dc98461c6e",
         "clientes_5.csv",
         "abfss://container-course-databricks-001@sadatabrickscourse001.dfs.core.windows.net/clientes/clientes_5.csv",
         "2025-09-03T14:48:29Z",
         3112
        ],
        [
         "46",
         "Juan Gomez",
         "cliente46@correo.com",
         "Merida",
         "{\"continente\":\"America\",\"_file_path\":\"abfss://container-course-databricks-001@sadatabrickscourse001.dfs.core.windows.net/clientes/clientes_5.csv\"}",
         "2025-09-03T15:09:26.995Z",
         "d4b23198-cd86-4416-846f-d702e865dc62",
         "clientes_5.csv",
         "abfss://container-course-databricks-001@sadatabrickscourse001.dfs.core.windows.net/clientes/clientes_5.csv",
         "2025-09-03T14:48:29Z",
         3112
        ],
        [
         "47",
         "Maria Gomez",
         "cliente47@correo.com",
         "Medellin",
         "{\"continente\":\"America\",\"_file_path\":\"abfss://container-course-databricks-001@sadatabrickscourse001.dfs.core.windows.net/clientes/clientes_5.csv\"}",
         "2025-09-03T15:09:26.995Z",
         "9397a7f0-4ece-4b3d-86d9-d50011f931fd",
         "clientes_5.csv",
         "abfss://container-course-databricks-001@sadatabrickscourse001.dfs.core.windows.net/clientes/clientes_5.csv",
         "2025-09-03T14:48:29Z",
         3112
        ],
        [
         "48",
         "Juan Perez",
         "cliente48@correo.com",
         "Mendoza",
         "{\"continente\":\"America\",\"_file_path\":\"abfss://container-course-databricks-001@sadatabrickscourse001.dfs.core.windows.net/clientes/clientes_5.csv\"}",
         "2025-09-03T15:09:26.995Z",
         "28b6b6b9-2ce3-4df8-97e7-4f442765cb66",
         "clientes_5.csv",
         "abfss://container-course-databricks-001@sadatabrickscourse001.dfs.core.windows.net/clientes/clientes_5.csv",
         "2025-09-03T14:48:29Z",
         3112
        ],
        [
         "49",
         "Maria Gomez",
         "cliente49@correo.com",
         "Barranquilla",
         "{\"continente\":\"America\",\"_file_path\":\"abfss://container-course-databricks-001@sadatabrickscourse001.dfs.core.windows.net/clientes/clientes_5.csv\"}",
         "2025-09-03T15:09:26.995Z",
         "e6d92430-bab1-4a05-bea8-22c5fab29ef2",
         "clientes_5.csv",
         "abfss://container-course-databricks-001@sadatabrickscourse001.dfs.core.windows.net/clientes/clientes_5.csv",
         "2025-09-03T14:48:29Z",
         3112
        ],
        [
         "50",
         "Juan Gomez",
         "cliente50@correo.com",
         "Lima",
         "{\"continente\":\"America\",\"_file_path\":\"abfss://container-course-databricks-001@sadatabrickscourse001.dfs.core.windows.net/clientes/clientes_5.csv\"}",
         "2025-09-03T15:09:26.995Z",
         "07f1ba65-bcf0-4933-b85a-c2b8abedf8fd",
         "clientes_5.csv",
         "abfss://container-course-databricks-001@sadatabrickscourse001.dfs.core.windows.net/clientes/clientes_5.csv",
         "2025-09-03T14:48:29Z",
         3112
        ],
        [
         "51",
         "Maria Perez",
         "cliente51@correo.com",
         "Merida",
         "{\"continente\":\"America\",\"_file_path\":\"abfss://container-course-databricks-001@sadatabrickscourse001.dfs.core.windows.net/clientes/clientes_5.csv\"}",
         "2025-09-03T15:09:26.995Z",
         "1055aeae-3fc5-464e-b467-2a9071ccfec9",
         "clientes_5.csv",
         "abfss://container-course-databricks-001@sadatabrickscourse001.dfs.core.windows.net/clientes/clientes_5.csv",
         "2025-09-03T14:48:29Z",
         3112
        ],
        [
         "52",
         "Juan Gomez",
         "cliente52@correo.com",
         "Medellin",
         "{\"continente\":\"America\",\"_file_path\":\"abfss://container-course-databricks-001@sadatabrickscourse001.dfs.core.windows.net/clientes/clientes_5.csv\"}",
         "2025-09-03T15:09:26.995Z",
         "d3355446-6a88-4063-9e28-a5fdcb8447e6",
         "clientes_5.csv",
         "abfss://container-course-databricks-001@sadatabrickscourse001.dfs.core.windows.net/clientes/clientes_5.csv",
         "2025-09-03T14:48:29Z",
         3112
        ],
        [
         "53",
         "Maria Gomez",
         "cliente53@correo.com",
         "Mendoza",
         "{\"continente\":\"America\",\"_file_path\":\"abfss://container-course-databricks-001@sadatabrickscourse001.dfs.core.windows.net/clientes/clientes_5.csv\"}",
         "2025-09-03T15:09:26.995Z",
         "13952f34-9a58-4409-acb2-08e5184be631",
         "clientes_5.csv",
         "abfss://container-course-databricks-001@sadatabrickscourse001.dfs.core.windows.net/clientes/clientes_5.csv",
         "2025-09-03T14:48:29Z",
         3112
        ],
        [
         "54",
         "Juan Perez",
         "cliente54@correo.com",
         "Barranquilla",
         "{\"continente\":\"America\",\"_file_path\":\"abfss://container-course-databricks-001@sadatabrickscourse001.dfs.core.windows.net/clientes/clientes_5.csv\"}",
         "2025-09-03T15:09:26.995Z",
         "bab74e70-224d-43a1-8c47-51a612087e38",
         "clientes_5.csv",
         "abfss://container-course-databricks-001@sadatabrickscourse001.dfs.core.windows.net/clientes/clientes_5.csv",
         "2025-09-03T14:48:29Z",
         3112
        ],
        [
         "55",
         "Maria Gomez",
         "cliente55@correo.com",
         "Lima",
         "{\"continente\":\"America\",\"_file_path\":\"abfss://container-course-databricks-001@sadatabrickscourse001.dfs.core.windows.net/clientes/clientes_5.csv\"}",
         "2025-09-03T15:09:26.995Z",
         "390a04f9-91dd-406e-b271-7d0358d1ba03",
         "clientes_5.csv",
         "abfss://container-course-databricks-001@sadatabrickscourse001.dfs.core.windows.net/clientes/clientes_5.csv",
         "2025-09-03T14:48:29Z",
         3112
        ],
        [
         "56",
         "Juan Gomez",
         "cliente56@correo.com",
         "Merida",
         "{\"continente\":\"America\",\"_file_path\":\"abfss://container-course-databricks-001@sadatabrickscourse001.dfs.core.windows.net/clientes/clientes_5.csv\"}",
         "2025-09-03T15:09:26.995Z",
         "8058a597-8a12-40f5-889b-3009810cac6a",
         "clientes_5.csv",
         "abfss://container-course-databricks-001@sadatabrickscourse001.dfs.core.windows.net/clientes/clientes_5.csv",
         "2025-09-03T14:48:29Z",
         3112
        ],
        [
         "57",
         "Maria Perez",
         "cliente57@correo.com",
         "Medellin",
         "{\"continente\":\"America\",\"_file_path\":\"abfss://container-course-databricks-001@sadatabrickscourse001.dfs.core.windows.net/clientes/clientes_5.csv\"}",
         "2025-09-03T15:09:26.995Z",
         "2ef40812-1950-4dae-9319-04bc8f9e0832",
         "clientes_5.csv",
         "abfss://container-course-databricks-001@sadatabrickscourse001.dfs.core.windows.net/clientes/clientes_5.csv",
         "2025-09-03T14:48:29Z",
         3112
        ],
        [
         "58",
         "Juan Gomez",
         "cliente58@correo.com",
         "Mendoza",
         "{\"continente\":\"America\",\"_file_path\":\"abfss://container-course-databricks-001@sadatabrickscourse001.dfs.core.windows.net/clientes/clientes_5.csv\"}",
         "2025-09-03T15:09:26.995Z",
         "6f2f8fe5-f946-4eef-862b-ec67efce8a19",
         "clientes_5.csv",
         "abfss://container-course-databricks-001@sadatabrickscourse001.dfs.core.windows.net/clientes/clientes_5.csv",
         "2025-09-03T14:48:29Z",
         3112
        ],
        [
         "59",
         "Maria Gomez",
         "cliente59@correo.com",
         "Barranquilla",
         "{\"continente\":\"America\",\"_file_path\":\"abfss://container-course-databricks-001@sadatabrickscourse001.dfs.core.windows.net/clientes/clientes_5.csv\"}",
         "2025-09-03T15:09:26.995Z",
         "868c91a7-2e62-4594-85f2-04765aabc935",
         "clientes_5.csv",
         "abfss://container-course-databricks-001@sadatabrickscourse001.dfs.core.windows.net/clientes/clientes_5.csv",
         "2025-09-03T14:48:29Z",
         3112
        ],
        [
         "60",
         "Juan Perez",
         "cliente60@correo.com",
         "Lima",
         "{\"continente\":\"America\",\"_file_path\":\"abfss://container-course-databricks-001@sadatabrickscourse001.dfs.core.windows.net/clientes/clientes_5.csv\"}",
         "2025-09-03T15:09:26.995Z",
         "4dac6e6f-e20f-442c-a1e4-2a85ce294522",
         "clientes_5.csv",
         "abfss://container-course-databricks-001@sadatabrickscourse001.dfs.core.windows.net/clientes/clientes_5.csv",
         "2025-09-03T14:48:29Z",
         3112
        ],
        [
         "61",
         "Maria Gomez",
         "cliente61@correo.com",
         "Merida",
         "{\"continente\":\"America\",\"_file_path\":\"abfss://container-course-databricks-001@sadatabrickscourse001.dfs.core.windows.net/clientes/clientes_5.csv\"}",
         "2025-09-03T15:09:26.995Z",
         "70e45b47-3f6a-4cf9-a896-bb3ebd358ab7",
         "clientes_5.csv",
         "abfss://container-course-databricks-001@sadatabrickscourse001.dfs.core.windows.net/clientes/clientes_5.csv",
         "2025-09-03T14:48:29Z",
         3112
        ],
        [
         "62",
         "Juan Gomez",
         "cliente62@correo.com",
         "Medellin",
         "{\"continente\":\"America\",\"_file_path\":\"abfss://container-course-databricks-001@sadatabrickscourse001.dfs.core.windows.net/clientes/clientes_5.csv\"}",
         "2025-09-03T15:09:26.995Z",
         "d1b02bc4-f7ba-4ed3-8e0e-73268952cf0f",
         "clientes_5.csv",
         "abfss://container-course-databricks-001@sadatabrickscourse001.dfs.core.windows.net/clientes/clientes_5.csv",
         "2025-09-03T14:48:29Z",
         3112
        ],
        [
         "63",
         "Maria Perez",
         "cliente63@correo.com",
         "Mendoza",
         "{\"continente\":\"America\",\"_file_path\":\"abfss://container-course-databricks-001@sadatabrickscourse001.dfs.core.windows.net/clientes/clientes_5.csv\"}",
         "2025-09-03T15:09:26.995Z",
         "7d4d9e15-018a-483e-a68b-17bce94f2701",
         "clientes_5.csv",
         "abfss://container-course-databricks-001@sadatabrickscourse001.dfs.core.windows.net/clientes/clientes_5.csv",
         "2025-09-03T14:48:29Z",
         3112
        ],
        [
         "64",
         "Juan Gomez",
         "cliente64@correo.com",
         "Barranquilla",
         "{\"continente\":\"America\",\"_file_path\":\"abfss://container-course-databricks-001@sadatabrickscourse001.dfs.core.windows.net/clientes/clientes_5.csv\"}",
         "2025-09-03T15:09:26.995Z",
         "aa7b1875-c6c9-463c-8cd4-2d979cb8e864",
         "clientes_5.csv",
         "abfss://container-course-databricks-001@sadatabrickscourse001.dfs.core.windows.net/clientes/clientes_5.csv",
         "2025-09-03T14:48:29Z",
         3112
        ],
        [
         "65",
         "Maria Gomez",
         "cliente65@correo.com",
         "Lima",
         "{\"continente\":\"America\",\"_file_path\":\"abfss://container-course-databricks-001@sadatabrickscourse001.dfs.core.windows.net/clientes/clientes_5.csv\"}",
         "2025-09-03T15:09:26.995Z",
         "c001205f-4100-4e36-abec-9c76a06bd85f",
         "clientes_5.csv",
         "abfss://container-course-databricks-001@sadatabrickscourse001.dfs.core.windows.net/clientes/clientes_5.csv",
         "2025-09-03T14:48:29Z",
         3112
        ],
        [
         "66",
         "Juan Perez",
         "cliente66@correo.com",
         "Merida",
         "{\"continente\":\"America\",\"_file_path\":\"abfss://container-course-databricks-001@sadatabrickscourse001.dfs.core.windows.net/clientes/clientes_5.csv\"}",
         "2025-09-03T15:09:26.995Z",
         "b4b7a0f7-b86f-421f-aa1b-301301b77134",
         "clientes_5.csv",
         "abfss://container-course-databricks-001@sadatabrickscourse001.dfs.core.windows.net/clientes/clientes_5.csv",
         "2025-09-03T14:48:29Z",
         3112
        ],
        [
         "67",
         "Maria Gomez",
         "cliente67@correo.com",
         "Medellin",
         "{\"continente\":\"America\",\"_file_path\":\"abfss://container-course-databricks-001@sadatabrickscourse001.dfs.core.windows.net/clientes/clientes_5.csv\"}",
         "2025-09-03T15:09:26.995Z",
         "8c820ff9-ad23-4387-b569-b10e6530d0d1",
         "clientes_5.csv",
         "abfss://container-course-databricks-001@sadatabrickscourse001.dfs.core.windows.net/clientes/clientes_5.csv",
         "2025-09-03T14:48:29Z",
         3112
        ],
        [
         "68",
         "Juan Gomez",
         "cliente68@correo.com",
         "Mendoza",
         "{\"continente\":\"America\",\"_file_path\":\"abfss://container-course-databricks-001@sadatabrickscourse001.dfs.core.windows.net/clientes/clientes_5.csv\"}",
         "2025-09-03T15:09:26.995Z",
         "629c936a-a53e-495f-add3-e68b4615523b",
         "clientes_5.csv",
         "abfss://container-course-databricks-001@sadatabrickscourse001.dfs.core.windows.net/clientes/clientes_5.csv",
         "2025-09-03T14:48:29Z",
         3112
        ],
        [
         "69",
         "Maria Perez",
         "cliente69@correo.com",
         "Barranquilla",
         "{\"continente\":\"America\",\"_file_path\":\"abfss://container-course-databricks-001@sadatabrickscourse001.dfs.core.windows.net/clientes/clientes_5.csv\"}",
         "2025-09-03T15:09:26.995Z",
         "820be41c-719b-4547-bf20-82e135b80452",
         "clientes_5.csv",
         "abfss://container-course-databricks-001@sadatabrickscourse001.dfs.core.windows.net/clientes/clientes_5.csv",
         "2025-09-03T14:48:29Z",
         3112
        ],
        [
         "70",
         "Juan Gomez",
         "cliente70@correo.com",
         "Lima",
         "{\"continente\":\"America\",\"_file_path\":\"abfss://container-course-databricks-001@sadatabrickscourse001.dfs.core.windows.net/clientes/clientes_5.csv\"}",
         "2025-09-03T15:09:26.995Z",
         "12feaf5a-c68e-4cf7-80a7-5a755b35a334",
         "clientes_5.csv",
         "abfss://container-course-databricks-001@sadatabrickscourse001.dfs.core.windows.net/clientes/clientes_5.csv",
         "2025-09-03T14:48:29Z",
         3112
        ],
        [
         "71",
         "Maria Gomez",
         "cliente71@correo.com",
         "Merida",
         "{\"continente\":\"America\",\"_file_path\":\"abfss://container-course-databricks-001@sadatabrickscourse001.dfs.core.windows.net/clientes/clientes_5.csv\"}",
         "2025-09-03T15:09:26.995Z",
         "9e05d9c5-346f-4676-b717-446a568a47e1",
         "clientes_5.csv",
         "abfss://container-course-databricks-001@sadatabrickscourse001.dfs.core.windows.net/clientes/clientes_5.csv",
         "2025-09-03T14:48:29Z",
         3112
        ],
        [
         "72",
         "Juan Perez",
         "cliente72@correo.com",
         "Medellin",
         "{\"continente\":\"America\",\"_file_path\":\"abfss://container-course-databricks-001@sadatabrickscourse001.dfs.core.windows.net/clientes/clientes_5.csv\"}",
         "2025-09-03T15:09:26.995Z",
         "e4ed9bd6-439e-4471-a63d-ccf92e39d829",
         "clientes_5.csv",
         "abfss://container-course-databricks-001@sadatabrickscourse001.dfs.core.windows.net/clientes/clientes_5.csv",
         "2025-09-03T14:48:29Z",
         3112
        ],
        [
         "73",
         "Maria Gomez",
         "cliente73@correo.com",
         "Mendoza",
         "{\"continente\":\"America\",\"_file_path\":\"abfss://container-course-databricks-001@sadatabrickscourse001.dfs.core.windows.net/clientes/clientes_5.csv\"}",
         "2025-09-03T15:09:26.995Z",
         "55ca0d9a-1b7a-407a-bb32-c12a2127627f",
         "clientes_5.csv",
         "abfss://container-course-databricks-001@sadatabrickscourse001.dfs.core.windows.net/clientes/clientes_5.csv",
         "2025-09-03T14:48:29Z",
         3112
        ],
        [
         "74",
         "Juan Gomez",
         "cliente74@correo.com",
         "Barranquilla",
         "{\"continente\":\"America\",\"_file_path\":\"abfss://container-course-databricks-001@sadatabrickscourse001.dfs.core.windows.net/clientes/clientes_5.csv\"}",
         "2025-09-03T15:09:26.995Z",
         "cdb10fd1-cae1-4dab-b325-df33ef93b87e",
         "clientes_5.csv",
         "abfss://container-course-databricks-001@sadatabrickscourse001.dfs.core.windows.net/clientes/clientes_5.csv",
         "2025-09-03T14:48:29Z",
         3112
        ],
        [
         "75",
         "Maria Perez",
         "cliente75@correo.com",
         "Lima",
         "{\"continente\":\"America\",\"_file_path\":\"abfss://container-course-databricks-001@sadatabrickscourse001.dfs.core.windows.net/clientes/clientes_5.csv\"}",
         "2025-09-03T15:09:26.995Z",
         "1a72b975-a88d-4363-beeb-0d45b2871393",
         "clientes_5.csv",
         "abfss://container-course-databricks-001@sadatabrickscourse001.dfs.core.windows.net/clientes/clientes_5.csv",
         "2025-09-03T14:48:29Z",
         3112
        ],
        [
         "76",
         "Juan Gomez",
         "cliente76@correo.com",
         "Merida",
         "{\"continente\":\"America\",\"_file_path\":\"abfss://container-course-databricks-001@sadatabrickscourse001.dfs.core.windows.net/clientes/clientes_5.csv\"}",
         "2025-09-03T15:09:26.995Z",
         "fb4b6a4d-163f-4391-9185-3cb76faa3015",
         "clientes_5.csv",
         "abfss://container-course-databricks-001@sadatabrickscourse001.dfs.core.windows.net/clientes/clientes_5.csv",
         "2025-09-03T14:48:29Z",
         3112
        ],
        [
         "77",
         "Maria Gomez",
         "cliente77@correo.com",
         "Medellin",
         "{\"continente\":\"America\",\"_file_path\":\"abfss://container-course-databricks-001@sadatabrickscourse001.dfs.core.windows.net/clientes/clientes_5.csv\"}",
         "2025-09-03T15:09:26.995Z",
         "8bf3330a-8711-4929-8e8e-e4ba77ac3dba",
         "clientes_5.csv",
         "abfss://container-course-databricks-001@sadatabrickscourse001.dfs.core.windows.net/clientes/clientes_5.csv",
         "2025-09-03T14:48:29Z",
         3112
        ],
        [
         "78",
         "Juan Perez",
         "cliente78@correo.com",
         "Mendoza",
         "{\"continente\":\"America\",\"_file_path\":\"abfss://container-course-databricks-001@sadatabrickscourse001.dfs.core.windows.net/clientes/clientes_5.csv\"}",
         "2025-09-03T15:09:26.995Z",
         "a63a5600-6c14-4085-be93-e77fc52f70ea",
         "clientes_5.csv",
         "abfss://container-course-databricks-001@sadatabrickscourse001.dfs.core.windows.net/clientes/clientes_5.csv",
         "2025-09-03T14:48:29Z",
         3112
        ],
        [
         "79",
         "Maria Gomez",
         "cliente79@correo.com",
         "Barranquilla",
         "{\"continente\":\"America\",\"_file_path\":\"abfss://container-course-databricks-001@sadatabrickscourse001.dfs.core.windows.net/clientes/clientes_5.csv\"}",
         "2025-09-03T15:09:26.995Z",
         "c4c50f0c-6b7d-4709-b4f3-010432bc2923",
         "clientes_5.csv",
         "abfss://container-course-databricks-001@sadatabrickscourse001.dfs.core.windows.net/clientes/clientes_5.csv",
         "2025-09-03T14:48:29Z",
         3112
        ],
        [
         "80",
         "Juan Gomez",
         "cliente80@correo.com",
         "Lima",
         "{\"continente\":\"America\",\"_file_path\":\"abfss://container-course-databricks-001@sadatabrickscourse001.dfs.core.windows.net/clientes/clientes_5.csv\"}",
         "2025-09-03T15:09:26.995Z",
         "d20d44af-dd68-481b-9524-e9b3578d9607",
         "clientes_5.csv",
         "abfss://container-course-databricks-001@sadatabrickscourse001.dfs.core.windows.net/clientes/clientes_5.csv",
         "2025-09-03T14:48:29Z",
         3112
        ],
        [
         "81",
         "Maria Perez",
         "cliente81@correo.com",
         "Merida",
         "{\"continente\":\"America\",\"_file_path\":\"abfss://container-course-databricks-001@sadatabrickscourse001.dfs.core.windows.net/clientes/clientes_5.csv\"}",
         "2025-09-03T15:09:26.995Z",
         "59b9dede-b3ec-4323-ac98-ecdfeb219323",
         "clientes_5.csv",
         "abfss://container-course-databricks-001@sadatabrickscourse001.dfs.core.windows.net/clientes/clientes_5.csv",
         "2025-09-03T14:48:29Z",
         3112
        ],
        [
         "82",
         "Juan Gomez",
         "cliente82@correo.com",
         "Medellin",
         "{\"continente\":\"America\",\"_file_path\":\"abfss://container-course-databricks-001@sadatabrickscourse001.dfs.core.windows.net/clientes/clientes_5.csv\"}",
         "2025-09-03T15:09:26.995Z",
         "cbab9e23-bc2a-46f0-8b36-5f4ae690e068",
         "clientes_5.csv",
         "abfss://container-course-databricks-001@sadatabrickscourse001.dfs.core.windows.net/clientes/clientes_5.csv",
         "2025-09-03T14:48:29Z",
         3112
        ],
        [
         "83",
         "Maria Gomez",
         "cliente83@correo.com",
         "Mendoza",
         "{\"continente\":\"America\",\"_file_path\":\"abfss://container-course-databricks-001@sadatabrickscourse001.dfs.core.windows.net/clientes/clientes_5.csv\"}",
         "2025-09-03T15:09:26.995Z",
         "6ca13a00-32fd-4ec2-88b9-a369a4ed2c25",
         "clientes_5.csv",
         "abfss://container-course-databricks-001@sadatabrickscourse001.dfs.core.windows.net/clientes/clientes_5.csv",
         "2025-09-03T14:48:29Z",
         3112
        ],
        [
         "84",
         "Juan Perez",
         "cliente84@correo.com",
         "Barranquilla",
         "{\"continente\":\"America\",\"_file_path\":\"abfss://container-course-databricks-001@sadatabrickscourse001.dfs.core.windows.net/clientes/clientes_5.csv\"}",
         "2025-09-03T15:09:26.995Z",
         "b95bac8b-d3e3-405c-9b0c-8dc315afb9bc",
         "clientes_5.csv",
         "abfss://container-course-databricks-001@sadatabrickscourse001.dfs.core.windows.net/clientes/clientes_5.csv",
         "2025-09-03T14:48:29Z",
         3112
        ],
        [
         "85",
         "Maria Gomez",
         "cliente85@correo.com",
         "Lima",
         "{\"continente\":\"America\",\"_file_path\":\"abfss://container-course-databricks-001@sadatabrickscourse001.dfs.core.windows.net/clientes/clientes_5.csv\"}",
         "2025-09-03T15:09:26.995Z",
         "f3ca7f7f-a214-484e-bf83-128b02e23824",
         "clientes_5.csv",
         "abfss://container-course-databricks-001@sadatabrickscourse001.dfs.core.windows.net/clientes/clientes_5.csv",
         "2025-09-03T14:48:29Z",
         3112
        ],
        [
         "86",
         "Juan Gomez",
         "cliente86@correo.com",
         "Merida",
         "{\"continente\":\"America\",\"_file_path\":\"abfss://container-course-databricks-001@sadatabrickscourse001.dfs.core.windows.net/clientes/clientes_5.csv\"}",
         "2025-09-03T15:09:26.995Z",
         "ca36b412-3e2d-4576-be9b-9f816be7b99f",
         "clientes_5.csv",
         "abfss://container-course-databricks-001@sadatabrickscourse001.dfs.core.windows.net/clientes/clientes_5.csv",
         "2025-09-03T14:48:29Z",
         3112
        ],
        [
         "87",
         "Maria Perez",
         "cliente87@correo.com",
         "Medellin",
         "{\"continente\":\"America\",\"_file_path\":\"abfss://container-course-databricks-001@sadatabrickscourse001.dfs.core.windows.net/clientes/clientes_5.csv\"}",
         "2025-09-03T15:09:26.995Z",
         "5ad2ae64-8e2d-47b2-8418-49a9c8aa5382",
         "clientes_5.csv",
         "abfss://container-course-databricks-001@sadatabrickscourse001.dfs.core.windows.net/clientes/clientes_5.csv",
         "2025-09-03T14:48:29Z",
         3112
        ],
        [
         "88",
         "Juan Gomez",
         "cliente88@correo.com",
         "Mendoza",
         "{\"continente\":\"America\",\"_file_path\":\"abfss://container-course-databricks-001@sadatabrickscourse001.dfs.core.windows.net/clientes/clientes_5.csv\"}",
         "2025-09-03T15:09:26.995Z",
         "6b2be03c-62a3-4d74-b482-f24f902be1e4",
         "clientes_5.csv",
         "abfss://container-course-databricks-001@sadatabrickscourse001.dfs.core.windows.net/clientes/clientes_5.csv",
         "2025-09-03T14:48:29Z",
         3112
        ],
        [
         "89",
         "Maria Gomez",
         "cliente89@correo.com",
         "Barranquilla",
         "{\"continente\":\"America\",\"_file_path\":\"abfss://container-course-databricks-001@sadatabrickscourse001.dfs.core.windows.net/clientes/clientes_5.csv\"}",
         "2025-09-03T15:09:26.995Z",
         "3c214386-f305-4e93-89b6-316ed7038acc",
         "clientes_5.csv",
         "abfss://container-course-databricks-001@sadatabrickscourse001.dfs.core.windows.net/clientes/clientes_5.csv",
         "2025-09-03T14:48:29Z",
         3112
        ],
        [
         "90",
         "Juan Perez",
         "cliente90@correo.com",
         "Lima",
         "{\"continente\":\"America\",\"_file_path\":\"abfss://container-course-databricks-001@sadatabrickscourse001.dfs.core.windows.net/clientes/clientes_5.csv\"}",
         "2025-09-03T15:09:26.995Z",
         "9b813b7a-bf16-4248-88cb-10e5de48d7ff",
         "clientes_5.csv",
         "abfss://container-course-databricks-001@sadatabrickscourse001.dfs.core.windows.net/clientes/clientes_5.csv",
         "2025-09-03T14:48:29Z",
         3112
        ],
        [
         "91",
         "Maria Gomez",
         "cliente91@correo.com",
         "Merida",
         "{\"continente\":\"America\",\"_file_path\":\"abfss://container-course-databricks-001@sadatabrickscourse001.dfs.core.windows.net/clientes/clientes_5.csv\"}",
         "2025-09-03T15:09:26.995Z",
         "b00b3922-4de8-43ae-afa2-846f4c84d784",
         "clientes_5.csv",
         "abfss://container-course-databricks-001@sadatabrickscourse001.dfs.core.windows.net/clientes/clientes_5.csv",
         "2025-09-03T14:48:29Z",
         3112
        ],
        [
         "92",
         "Juan Gomez",
         "cliente92@correo.com",
         "Medellin",
         "{\"continente\":\"America\",\"_file_path\":\"abfss://container-course-databricks-001@sadatabrickscourse001.dfs.core.windows.net/clientes/clientes_5.csv\"}",
         "2025-09-03T15:09:26.995Z",
         "e3718f7a-71b9-4512-9dbc-1ffab3342d9c",
         "clientes_5.csv",
         "abfss://container-course-databricks-001@sadatabrickscourse001.dfs.core.windows.net/clientes/clientes_5.csv",
         "2025-09-03T14:48:29Z",
         3112
        ],
        [
         "93",
         "Maria Perez",
         "cliente93@correo.com",
         "Mendoza",
         "{\"continente\":\"America\",\"_file_path\":\"abfss://container-course-databricks-001@sadatabrickscourse001.dfs.core.windows.net/clientes/clientes_5.csv\"}",
         "2025-09-03T15:09:26.995Z",
         "445438e1-a85d-43c3-9921-ffbff4e851a0",
         "clientes_5.csv",
         "abfss://container-course-databricks-001@sadatabrickscourse001.dfs.core.windows.net/clientes/clientes_5.csv",
         "2025-09-03T14:48:29Z",
         3112
        ],
        [
         "94",
         "Juan Gomez",
         "cliente94@correo.com",
         "Barranquilla",
         "{\"continente\":\"America\",\"_file_path\":\"abfss://container-course-databricks-001@sadatabrickscourse001.dfs.core.windows.net/clientes/clientes_5.csv\"}",
         "2025-09-03T15:09:26.995Z",
         "baa7ed69-d21b-4a25-ab40-153f329eb1fa",
         "clientes_5.csv",
         "abfss://container-course-databricks-001@sadatabrickscourse001.dfs.core.windows.net/clientes/clientes_5.csv",
         "2025-09-03T14:48:29Z",
         3112
        ],
        [
         "95",
         "Maria Gomez",
         "cliente95@correo.com",
         "Lima",
         "{\"continente\":\"America\",\"_file_path\":\"abfss://container-course-databricks-001@sadatabrickscourse001.dfs.core.windows.net/clientes/clientes_5.csv\"}",
         "2025-09-03T15:09:26.995Z",
         "77700bb8-b42e-4316-afa4-d76aa3c23fbd",
         "clientes_5.csv",
         "abfss://container-course-databricks-001@sadatabrickscourse001.dfs.core.windows.net/clientes/clientes_5.csv",
         "2025-09-03T14:48:29Z",
         3112
        ],
        [
         "96",
         "Juan Perez",
         "cliente96@correo.com",
         "Merida",
         "{\"continente\":\"America\",\"_file_path\":\"abfss://container-course-databricks-001@sadatabrickscourse001.dfs.core.windows.net/clientes/clientes_5.csv\"}",
         "2025-09-03T15:09:26.995Z",
         "5482249f-9a64-4a52-883e-928fea4f2079",
         "clientes_5.csv",
         "abfss://container-course-databricks-001@sadatabrickscourse001.dfs.core.windows.net/clientes/clientes_5.csv",
         "2025-09-03T14:48:29Z",
         3112
        ],
        [
         "97",
         "Maria Gomez",
         "cliente97@correo.com",
         "Medellin",
         "{\"continente\":\"America\",\"_file_path\":\"abfss://container-course-databricks-001@sadatabrickscourse001.dfs.core.windows.net/clientes/clientes_5.csv\"}",
         "2025-09-03T15:09:26.995Z",
         "343389b3-579b-4efd-9555-7611feeaf6b6",
         "clientes_5.csv",
         "abfss://container-course-databricks-001@sadatabrickscourse001.dfs.core.windows.net/clientes/clientes_5.csv",
         "2025-09-03T14:48:29Z",
         3112
        ],
        [
         "98",
         "Juan Gomez",
         "cliente98@correo.com",
         "Mendoza",
         "{\"continente\":\"America\",\"_file_path\":\"abfss://container-course-databricks-001@sadatabrickscourse001.dfs.core.windows.net/clientes/clientes_5.csv\"}",
         "2025-09-03T15:09:26.995Z",
         "1c2e82dc-8e17-49bc-8283-60f237a5cafa",
         "clientes_5.csv",
         "abfss://container-course-databricks-001@sadatabrickscourse001.dfs.core.windows.net/clientes/clientes_5.csv",
         "2025-09-03T14:48:29Z",
         3112
        ],
        [
         "99",
         "Maria Perez",
         "cliente99@correo.com",
         "Barranquilla",
         "{\"continente\":\"America\",\"_file_path\":\"abfss://container-course-databricks-001@sadatabrickscourse001.dfs.core.windows.net/clientes/clientes_5.csv\"}",
         "2025-09-03T15:09:26.995Z",
         "a90785c5-2b14-4c91-a889-f7c27a487760",
         "clientes_5.csv",
         "abfss://container-course-databricks-001@sadatabrickscourse001.dfs.core.windows.net/clientes/clientes_5.csv",
         "2025-09-03T14:48:29Z",
         3112
        ]
       ],
       "datasetInfos": [],
       "dbfsResultPath": null,
       "isJsonSchema": true,
       "metadata": {},
       "overflow": false,
       "plotOptions": {
        "customPlotOptions": {},
        "displayType": "table",
        "pivotAggregation": null,
        "pivotColumns": null,
        "xColumns": null,
        "yColumns": null
       },
       "removedWidgets": [],
       "schema": [
        {
         "metadata": "{}",
         "name": "cliente_id",
         "type": "\"string\""
        },
        {
         "metadata": "{}",
         "name": "nombre",
         "type": "\"string\""
        },
        {
         "metadata": "{}",
         "name": "correo",
         "type": "\"string\""
        },
        {
         "metadata": "{}",
         "name": "ciudad",
         "type": "\"string\""
        },
        {
         "metadata": "{}",
         "name": "_rescued_data",
         "type": "\"string\""
        },
        {
         "metadata": "{}",
         "name": "ingestion_ts",
         "type": "\"timestamp\""
        },
        {
         "metadata": "{}",
         "name": "ingestion_id",
         "type": "\"string\""
        },
        {
         "metadata": "{}",
         "name": "source_file",
         "type": "\"string\""
        },
        {
         "metadata": "{}",
         "name": "source_path",
         "type": "\"string\""
        },
        {
         "metadata": "{}",
         "name": "file_modification_time",
         "type": "\"timestamp\""
        },
        {
         "metadata": "{}",
         "name": "file_size",
         "type": "\"long\""
        }
       ],
       "type": "table"
      }
     },
     "output_type": "display_data"
    },
    {
     "output_type": "display_data",
     "data": {
      "text/plain": [
       "\u001B[0;31m---------------------------------------------------------------------------\u001B[0m\n",
       "\u001B[0;31mUnsupportedOperationException\u001B[0m             Traceback (most recent call last)\n",
       "File \u001B[0;32m<command-5670470672346535>, line 89\u001B[0m\n",
       "\u001B[1;32m     87\u001B[0m \u001B[38;5;66;03m# Ejecutamos ingesta y limpieza.\u001B[39;00m\n",
       "\u001B[1;32m     88\u001B[0m ingestar_auto_loader(location, table_name)\n",
       "\u001B[0;32m---> 89\u001B[0m limpiar_y_guardar_silver(table_name)\n",
       "\n",
       "File \u001B[0;32m<command-5670470672346535>, line 85\u001B[0m, in \u001B[0;36mlimpiar_y_guardar_silver\u001B[0;34m(table_name)\u001B[0m\n",
       "\u001B[1;32m     80\u001B[0m delta_tbl \u001B[38;5;241m=\u001B[39m DeltaTable\u001B[38;5;241m.\u001B[39mforPath(spark, path_silver)\n",
       "\u001B[1;32m     81\u001B[0m id_col \u001B[38;5;241m=\u001B[39m df_silver\u001B[38;5;241m.\u001B[39mcolumns[\u001B[38;5;241m0\u001B[39m]\n",
       "\u001B[1;32m     82\u001B[0m delta_tbl\u001B[38;5;241m.\u001B[39malias(\u001B[38;5;124m\"\u001B[39m\u001B[38;5;124mt\u001B[39m\u001B[38;5;124m\"\u001B[39m)\u001B[38;5;241m.\u001B[39mmerge(df_silver\u001B[38;5;241m.\u001B[39malias(\u001B[38;5;124m\"\u001B[39m\u001B[38;5;124ms\u001B[39m\u001B[38;5;124m\"\u001B[39m), \u001B[38;5;124mf\u001B[39m\u001B[38;5;124m\"\u001B[39m\u001B[38;5;124mt.\u001B[39m\u001B[38;5;132;01m{\u001B[39;00mid_col\u001B[38;5;132;01m}\u001B[39;00m\u001B[38;5;124m = s.\u001B[39m\u001B[38;5;132;01m{\u001B[39;00mid_col\u001B[38;5;132;01m}\u001B[39;00m\u001B[38;5;124m\"\u001B[39m) \\\n",
       "\u001B[1;32m     83\u001B[0m \u001B[38;5;241m.\u001B[39mwhenMatchedUpdateAll() \\\n",
       "\u001B[1;32m     84\u001B[0m \u001B[38;5;241m.\u001B[39mwhenNotMatchedInsertAll() \\\n",
       "\u001B[0;32m---> 85\u001B[0m \u001B[38;5;241m.\u001B[39mexecute()\n",
       "\n",
       "File \u001B[0;32m/databricks/spark/python/delta/tables.py:1230\u001B[0m, in \u001B[0;36mDeltaMergeBuilder.execute\u001B[0;34m(self)\u001B[0m\n",
       "\u001B[1;32m   1223\u001B[0m \u001B[38;5;129m@since\u001B[39m(\u001B[38;5;241m0.4\u001B[39m)  \u001B[38;5;66;03m# type: ignore[arg-type]\u001B[39;00m\n",
       "\u001B[1;32m   1224\u001B[0m \u001B[38;5;28;01mdef\u001B[39;00m \u001B[38;5;21mexecute\u001B[39m(\u001B[38;5;28mself\u001B[39m) \u001B[38;5;241m-\u001B[39m\u001B[38;5;241m>\u001B[39m \u001B[38;5;28;01mNone\u001B[39;00m:\n",
       "\u001B[1;32m   1225\u001B[0m \u001B[38;5;250m    \u001B[39m\u001B[38;5;124;03m\"\"\"\u001B[39;00m\n",
       "\u001B[1;32m   1226\u001B[0m \u001B[38;5;124;03m    Execute the merge operation based on the built matched and not matched actions.\u001B[39;00m\n",
       "\u001B[1;32m   1227\u001B[0m \n",
       "\u001B[1;32m   1228\u001B[0m \u001B[38;5;124;03m    See :py:class:`~delta.tables.DeltaMergeBuilder` for complete usage details.\u001B[39;00m\n",
       "\u001B[1;32m   1229\u001B[0m \u001B[38;5;124;03m    \"\"\"\u001B[39;00m\n",
       "\u001B[0;32m-> 1230\u001B[0m     \u001B[38;5;28mself\u001B[39m\u001B[38;5;241m.\u001B[39m_jbuilder\u001B[38;5;241m.\u001B[39mexecute()\n",
       "\n",
       "File \u001B[0;32m/databricks/spark/python/lib/py4j-0.10.9.7-src.zip/py4j/java_gateway.py:1355\u001B[0m, in \u001B[0;36mJavaMember.__call__\u001B[0;34m(self, *args)\u001B[0m\n",
       "\u001B[1;32m   1349\u001B[0m command \u001B[38;5;241m=\u001B[39m proto\u001B[38;5;241m.\u001B[39mCALL_COMMAND_NAME \u001B[38;5;241m+\u001B[39m\\\n",
       "\u001B[1;32m   1350\u001B[0m     \u001B[38;5;28mself\u001B[39m\u001B[38;5;241m.\u001B[39mcommand_header \u001B[38;5;241m+\u001B[39m\\\n",
       "\u001B[1;32m   1351\u001B[0m     args_command \u001B[38;5;241m+\u001B[39m\\\n",
       "\u001B[1;32m   1352\u001B[0m     proto\u001B[38;5;241m.\u001B[39mEND_COMMAND_PART\n",
       "\u001B[1;32m   1354\u001B[0m answer \u001B[38;5;241m=\u001B[39m \u001B[38;5;28mself\u001B[39m\u001B[38;5;241m.\u001B[39mgateway_client\u001B[38;5;241m.\u001B[39msend_command(command)\n",
       "\u001B[0;32m-> 1355\u001B[0m return_value \u001B[38;5;241m=\u001B[39m get_return_value(\n",
       "\u001B[1;32m   1356\u001B[0m     answer, \u001B[38;5;28mself\u001B[39m\u001B[38;5;241m.\u001B[39mgateway_client, \u001B[38;5;28mself\u001B[39m\u001B[38;5;241m.\u001B[39mtarget_id, \u001B[38;5;28mself\u001B[39m\u001B[38;5;241m.\u001B[39mname)\n",
       "\u001B[1;32m   1358\u001B[0m \u001B[38;5;28;01mfor\u001B[39;00m temp_arg \u001B[38;5;129;01min\u001B[39;00m temp_args:\n",
       "\u001B[1;32m   1359\u001B[0m     \u001B[38;5;28;01mif\u001B[39;00m \u001B[38;5;28mhasattr\u001B[39m(temp_arg, \u001B[38;5;124m\"\u001B[39m\u001B[38;5;124m_detach\u001B[39m\u001B[38;5;124m\"\u001B[39m):\n",
       "\n",
       "File \u001B[0;32m/databricks/spark/python/pyspark/errors/exceptions/captured.py:261\u001B[0m, in \u001B[0;36mcapture_sql_exception.<locals>.deco\u001B[0;34m(*a, **kw)\u001B[0m\n",
       "\u001B[1;32m    257\u001B[0m converted \u001B[38;5;241m=\u001B[39m convert_exception(e\u001B[38;5;241m.\u001B[39mjava_exception)\n",
       "\u001B[1;32m    258\u001B[0m \u001B[38;5;28;01mif\u001B[39;00m \u001B[38;5;129;01mnot\u001B[39;00m \u001B[38;5;28misinstance\u001B[39m(converted, UnknownException):\n",
       "\u001B[1;32m    259\u001B[0m     \u001B[38;5;66;03m# Hide where the exception came from that shows a non-Pythonic\u001B[39;00m\n",
       "\u001B[1;32m    260\u001B[0m     \u001B[38;5;66;03m# JVM exception message.\u001B[39;00m\n",
       "\u001B[0;32m--> 261\u001B[0m     \u001B[38;5;28;01mraise\u001B[39;00m converted \u001B[38;5;28;01mfrom\u001B[39;00m \u001B[38;5;28;01mNone\u001B[39;00m\n",
       "\u001B[1;32m    262\u001B[0m \u001B[38;5;28;01melse\u001B[39;00m:\n",
       "\u001B[1;32m    263\u001B[0m     \u001B[38;5;28;01mraise\u001B[39;00m\n",
       "\n",
       "\u001B[0;31mUnsupportedOperationException\u001B[0m: [DELTA_MULTIPLE_SOURCE_ROW_MATCHING_TARGET_ROW_IN_MERGE] Cannot perform Merge as multiple source rows matched and attempted to modify the same\n",
       "target row in the Delta table in possibly conflicting ways. By SQL semantics of Merge,\n",
       "when multiple source rows match on the same target row, the result may be ambiguous\n",
       "as it is unclear which source row should be used to update or delete the matching\n",
       "target row. You can preprocess the source table to eliminate the possibility of\n",
       "multiple matches. Please refer to\n",
       "https://docs.microsoft.com/azure/databricks/delta/merge#merge-error"
      ]
     },
     "metadata": {
      "application/vnd.databricks.v1+output": {
       "addedWidgets": {},
       "arguments": {
        "location": "clientes_5",
        "table_name": "clientes_autoloader"
       },
       "datasetInfos": [],
       "jupyterProps": {
        "ename": "UnsupportedOperationException",
        "evalue": "[DELTA_MULTIPLE_SOURCE_ROW_MATCHING_TARGET_ROW_IN_MERGE] Cannot perform Merge as multiple source rows matched and attempted to modify the same\ntarget row in the Delta table in possibly conflicting ways. By SQL semantics of Merge,\nwhen multiple source rows match on the same target row, the result may be ambiguous\nas it is unclear which source row should be used to update or delete the matching\ntarget row. You can preprocess the source table to eliminate the possibility of\nmultiple matches. Please refer to\nhttps://docs.microsoft.com/azure/databricks/delta/merge#merge-error"
       },
       "metadata": {
        "errorSummary": "[DELTA_MULTIPLE_SOURCE_ROW_MATCHING_TARGET_ROW_IN_MERGE] Cannot perform Merge as multiple source rows matched and attempted to modify the same\ntarget row in the Delta table in possibly conflicting ways. By SQL semantics of Merge,\nwhen multiple source rows match on the same target row, the result may be ambiguous\nas it is unclear which source row should be used to update or delete the matching\ntarget row. You can preprocess the source table to eliminate the possibility of\nmultiple matches. Please refer to\nhttps://docs.microsoft.com/azure/databricks/delta/merge#merge-error SQLSTATE: 21506"
       },
       "removedWidgets": [],
       "sqlProps": {
        "breakingChangeInfo": null,
        "errorClass": "DELTA_MULTIPLE_SOURCE_ROW_MATCHING_TARGET_ROW_IN_MERGE",
        "pysparkCallSite": null,
        "pysparkFragment": null,
        "pysparkSummary": null,
        "sqlState": "21506",
        "stackTrace": null,
        "startIndex": null,
        "stopIndex": null
       },
       "stackFrames": [
        "\u001B[0;31m---------------------------------------------------------------------------\u001B[0m",
        "\u001B[0;31mUnsupportedOperationException\u001B[0m             Traceback (most recent call last)",
        "File \u001B[0;32m<command-5670470672346535>, line 89\u001B[0m\n\u001B[1;32m     87\u001B[0m \u001B[38;5;66;03m# Ejecutamos ingesta y limpieza.\u001B[39;00m\n\u001B[1;32m     88\u001B[0m ingestar_auto_loader(location, table_name)\n\u001B[0;32m---> 89\u001B[0m limpiar_y_guardar_silver(table_name)\n",
        "File \u001B[0;32m<command-5670470672346535>, line 85\u001B[0m, in \u001B[0;36mlimpiar_y_guardar_silver\u001B[0;34m(table_name)\u001B[0m\n\u001B[1;32m     80\u001B[0m delta_tbl \u001B[38;5;241m=\u001B[39m DeltaTable\u001B[38;5;241m.\u001B[39mforPath(spark, path_silver)\n\u001B[1;32m     81\u001B[0m id_col \u001B[38;5;241m=\u001B[39m df_silver\u001B[38;5;241m.\u001B[39mcolumns[\u001B[38;5;241m0\u001B[39m]\n\u001B[1;32m     82\u001B[0m delta_tbl\u001B[38;5;241m.\u001B[39malias(\u001B[38;5;124m\"\u001B[39m\u001B[38;5;124mt\u001B[39m\u001B[38;5;124m\"\u001B[39m)\u001B[38;5;241m.\u001B[39mmerge(df_silver\u001B[38;5;241m.\u001B[39malias(\u001B[38;5;124m\"\u001B[39m\u001B[38;5;124ms\u001B[39m\u001B[38;5;124m\"\u001B[39m), \u001B[38;5;124mf\u001B[39m\u001B[38;5;124m\"\u001B[39m\u001B[38;5;124mt.\u001B[39m\u001B[38;5;132;01m{\u001B[39;00mid_col\u001B[38;5;132;01m}\u001B[39;00m\u001B[38;5;124m = s.\u001B[39m\u001B[38;5;132;01m{\u001B[39;00mid_col\u001B[38;5;132;01m}\u001B[39;00m\u001B[38;5;124m\"\u001B[39m) \\\n\u001B[1;32m     83\u001B[0m \u001B[38;5;241m.\u001B[39mwhenMatchedUpdateAll() \\\n\u001B[1;32m     84\u001B[0m \u001B[38;5;241m.\u001B[39mwhenNotMatchedInsertAll() \\\n\u001B[0;32m---> 85\u001B[0m \u001B[38;5;241m.\u001B[39mexecute()\n",
        "File \u001B[0;32m/databricks/spark/python/delta/tables.py:1230\u001B[0m, in \u001B[0;36mDeltaMergeBuilder.execute\u001B[0;34m(self)\u001B[0m\n\u001B[1;32m   1223\u001B[0m \u001B[38;5;129m@since\u001B[39m(\u001B[38;5;241m0.4\u001B[39m)  \u001B[38;5;66;03m# type: ignore[arg-type]\u001B[39;00m\n\u001B[1;32m   1224\u001B[0m \u001B[38;5;28;01mdef\u001B[39;00m \u001B[38;5;21mexecute\u001B[39m(\u001B[38;5;28mself\u001B[39m) \u001B[38;5;241m-\u001B[39m\u001B[38;5;241m>\u001B[39m \u001B[38;5;28;01mNone\u001B[39;00m:\n\u001B[1;32m   1225\u001B[0m \u001B[38;5;250m    \u001B[39m\u001B[38;5;124;03m\"\"\"\u001B[39;00m\n\u001B[1;32m   1226\u001B[0m \u001B[38;5;124;03m    Execute the merge operation based on the built matched and not matched actions.\u001B[39;00m\n\u001B[1;32m   1227\u001B[0m \n\u001B[1;32m   1228\u001B[0m \u001B[38;5;124;03m    See :py:class:`~delta.tables.DeltaMergeBuilder` for complete usage details.\u001B[39;00m\n\u001B[1;32m   1229\u001B[0m \u001B[38;5;124;03m    \"\"\"\u001B[39;00m\n\u001B[0;32m-> 1230\u001B[0m     \u001B[38;5;28mself\u001B[39m\u001B[38;5;241m.\u001B[39m_jbuilder\u001B[38;5;241m.\u001B[39mexecute()\n",
        "File \u001B[0;32m/databricks/spark/python/lib/py4j-0.10.9.7-src.zip/py4j/java_gateway.py:1355\u001B[0m, in \u001B[0;36mJavaMember.__call__\u001B[0;34m(self, *args)\u001B[0m\n\u001B[1;32m   1349\u001B[0m command \u001B[38;5;241m=\u001B[39m proto\u001B[38;5;241m.\u001B[39mCALL_COMMAND_NAME \u001B[38;5;241m+\u001B[39m\\\n\u001B[1;32m   1350\u001B[0m     \u001B[38;5;28mself\u001B[39m\u001B[38;5;241m.\u001B[39mcommand_header \u001B[38;5;241m+\u001B[39m\\\n\u001B[1;32m   1351\u001B[0m     args_command \u001B[38;5;241m+\u001B[39m\\\n\u001B[1;32m   1352\u001B[0m     proto\u001B[38;5;241m.\u001B[39mEND_COMMAND_PART\n\u001B[1;32m   1354\u001B[0m answer \u001B[38;5;241m=\u001B[39m \u001B[38;5;28mself\u001B[39m\u001B[38;5;241m.\u001B[39mgateway_client\u001B[38;5;241m.\u001B[39msend_command(command)\n\u001B[0;32m-> 1355\u001B[0m return_value \u001B[38;5;241m=\u001B[39m get_return_value(\n\u001B[1;32m   1356\u001B[0m     answer, \u001B[38;5;28mself\u001B[39m\u001B[38;5;241m.\u001B[39mgateway_client, \u001B[38;5;28mself\u001B[39m\u001B[38;5;241m.\u001B[39mtarget_id, \u001B[38;5;28mself\u001B[39m\u001B[38;5;241m.\u001B[39mname)\n\u001B[1;32m   1358\u001B[0m \u001B[38;5;28;01mfor\u001B[39;00m temp_arg \u001B[38;5;129;01min\u001B[39;00m temp_args:\n\u001B[1;32m   1359\u001B[0m     \u001B[38;5;28;01mif\u001B[39;00m \u001B[38;5;28mhasattr\u001B[39m(temp_arg, \u001B[38;5;124m\"\u001B[39m\u001B[38;5;124m_detach\u001B[39m\u001B[38;5;124m\"\u001B[39m):\n",
        "File \u001B[0;32m/databricks/spark/python/pyspark/errors/exceptions/captured.py:261\u001B[0m, in \u001B[0;36mcapture_sql_exception.<locals>.deco\u001B[0;34m(*a, **kw)\u001B[0m\n\u001B[1;32m    257\u001B[0m converted \u001B[38;5;241m=\u001B[39m convert_exception(e\u001B[38;5;241m.\u001B[39mjava_exception)\n\u001B[1;32m    258\u001B[0m \u001B[38;5;28;01mif\u001B[39;00m \u001B[38;5;129;01mnot\u001B[39;00m \u001B[38;5;28misinstance\u001B[39m(converted, UnknownException):\n\u001B[1;32m    259\u001B[0m     \u001B[38;5;66;03m# Hide where the exception came from that shows a non-Pythonic\u001B[39;00m\n\u001B[1;32m    260\u001B[0m     \u001B[38;5;66;03m# JVM exception message.\u001B[39;00m\n\u001B[0;32m--> 261\u001B[0m     \u001B[38;5;28;01mraise\u001B[39;00m converted \u001B[38;5;28;01mfrom\u001B[39;00m \u001B[38;5;28;01mNone\u001B[39;00m\n\u001B[1;32m    262\u001B[0m \u001B[38;5;28;01melse\u001B[39;00m:\n\u001B[1;32m    263\u001B[0m     \u001B[38;5;28;01mraise\u001B[39;00m\n",
        "\u001B[0;31mUnsupportedOperationException\u001B[0m: [DELTA_MULTIPLE_SOURCE_ROW_MATCHING_TARGET_ROW_IN_MERGE] Cannot perform Merge as multiple source rows matched and attempted to modify the same\ntarget row in the Delta table in possibly conflicting ways. By SQL semantics of Merge,\nwhen multiple source rows match on the same target row, the result may be ambiguous\nas it is unclear which source row should be used to update or delete the matching\ntarget row. You can preprocess the source table to eliminate the possibility of\nmultiple matches. Please refer to\nhttps://docs.microsoft.com/azure/databricks/delta/merge#merge-error"
       ],
       "type": "baseError"
      }
     },
     "output_type": "display_data"
    }
   ],
   "source": [
    "location = dbutils.widgets.get(\"location\")\n",
    "table_name = dbutils.widgets.get(\"table_name\")\n",
    "\n",
    "def limpiar_y_guardar_silver(table_name):\n",
    "\n",
    "    # Cargamos la tabla desde bronce.\n",
    "    df_bronce = spark.table(f\"hive_metastore.bronce.{table_name}\")\n",
    "\n",
    "    # Eliminamos duplicados y nulos.\n",
    "    id_col = df_bronce.columns[0]\n",
    "    df_bronce = df_bronce.filter(col(id_col).isNotNull())\n",
    "\n",
    "    window = Window.partitionBy(id_col).orderBy(desc(\"ingestion_ts\"))\n",
    "\n",
    "    df_bronce = (\n",
    "        df_bronce\n",
    "        .withColumn(\"rn\", row_number().over(window))\n",
    "        .filter(col(\"rn\") == 1)\n",
    "        .drop(\"rn\")\n",
    "    )\n",
    "\n",
    "    df_bronce = replace_nulls(df_bronce)\n",
    "    \n",
    "    has_rescued_data = \"_rescued_data\" in df_bronce.columns\n",
    "    \n",
    "    # Buscamos rescues del último batch, no de todo el histórico.\n",
    "    if has_rescued_data:\n",
    "\n",
    "        last_ts = df_bronce.agg(max(\"ingestion_ts\")).collect()[0][0]\n",
    "\n",
    "        # Filtramos solo ese batch y con rescued_data válido.\n",
    "        df_rescued = (df_bronce\n",
    "            .filter(col(\"ingestion_ts\") == last_ts)\n",
    "            .filter((col(\"_rescued_data\").isNotNull()) & (col(\"_rescued_data\") != \"NA\"))\n",
    "        )\n",
    "\n",
    "        rescued_non_empty = df_rescued.limit(1).count() > 0 \n",
    "    else:\n",
    "        rescued_non_empty = False\n",
    "\n",
    "    # Si la columna \"_rescued_data\" contiene datos, intentamos parsearla.\n",
    "    if has_rescued_data and rescued_non_empty:\n",
    "\n",
    "        # Recorremos los rescue\n",
    "        rescued_rows = df_rescued.limit(50).collect()\n",
    "\n",
    "        for row in rescued_rows:\n",
    "            rescued_json_str = row[\"_rescued_data\"]\n",
    "\n",
    "            # Inferimos el schema a partir de cada JSON nuevo.\n",
    "            schema_col = schema_of_json(lit(rescued_json_str))\n",
    "            schema_str = spark.range(1).select(schema_col.alias(\"schema_json\")).collect()[0][\"schema_json\"]\n",
    "            inferred_schema = StructType.fromDDL(schema_str)\n",
    "\n",
    "            # Parseamos y extraemos campos nuevos.\n",
    "            df_bronce = df_bronce.withColumn(\"rescued_json\", from_json(col(\"_rescued_data\"), inferred_schema))\n",
    "            for field in inferred_schema.fieldNames():\n",
    "                if field not in df_bronce.columns:\n",
    "                    df_bronce = df_bronce.withColumn(field, col(\"rescued_json\").getField(field))\n",
    "\n",
    "        # Limpiamos columnas auxiliares.\n",
    "        cols_to_drop = [c for c in [\"_rescued_data\", \"rescued_json\", \"_file_path\"] if c in df_bronce.columns]\n",
    "        df_silver = df_bronce.drop(*cols_to_drop).dropDuplicates()\n",
    "\n",
    "    else:\n",
    "        \n",
    "        df_silver = df_bronce.drop(\"_rescued_data\").dropDuplicates()\n",
    "\n",
    "    df_silver = replace_nulls(df_silver)\n",
    "\n",
    "    # Ruta y nombre de la tabla destino.\n",
    "    path_silver = f\"dbfs:/user/hive/warehouse/silver.db/{table_name}\"\n",
    "    full_table_name = f\"hive_metastore.silver.{table_name}\"\n",
    "\n",
    "    # Guardamos como Delta Table (creamos o actualizamos).\n",
    "    if not DeltaTable.isDeltaTable(spark, path_silver):\n",
    "        df_silver.write.format(\"delta\").saveAsTable(full_table_name)\n",
    "    else:\n",
    "\n",
    "        # Habilitamos la evolución del esquema.\n",
    "        spark.conf.set(\"spark.databricks.delta.schema.autoMerge.enabled\", \"true\")\n",
    "\n",
    "        delta_tbl = DeltaTable.forPath(spark, path_silver)\n",
    "        id_col = df_silver.columns[0]\n",
    "        delta_tbl.alias(\"t\").merge(df_silver.alias(\"s\"), f\"t.{id_col} = s.{id_col}\") \\\n",
    "        .whenMatchedUpdateAll() \\\n",
    "        .whenNotMatchedInsertAll() \\\n",
    "        .execute()\n",
    "\n",
    "# Ejecutamos ingesta y limpieza.\n",
    "ingestar_auto_loader(location, table_name)\n",
    "limpiar_y_guardar_silver(table_name)"
   ]
  },
  {
   "cell_type": "markdown",
   "metadata": {
    "application/vnd.databricks.v1+cell": {
     "cellMetadata": {
      "byteLimit": 2048000,
      "rowLimit": 10000
     },
     "inputWidgets": {},
     "nuid": "ba11d46a-14cf-4857-b724-8fc27aca3588",
     "showTitle": false,
     "tableResultSettingsMap": {},
     "title": ""
    }
   },
   "source": [
    "##5. Crear una tabla final consolidada en el esquema 'oro' que combine: \uD83D\uDD1A\n",
    "- Ventas\n",
    "- Información de clientes\n",
    "- Detalles de productos\n",
    "- Categorías"
   ]
  },
  {
   "cell_type": "code",
   "execution_count": 0,
   "metadata": {
    "application/vnd.databricks.v1+cell": {
     "cellMetadata": {
      "byteLimit": 2048000,
      "rowLimit": 10000
     },
     "inputWidgets": {},
     "nuid": "aff8f9a1-0ca4-4745-933d-aaac906ed50b",
     "showTitle": false,
     "tableResultSettingsMap": {},
     "title": ""
    }
   },
   "outputs": [
    {
     "output_type": "display_data",
     "data": {
      "text/plain": [
       "\u001B[0;31m---------------------------------------------------------------------------\u001B[0m\n",
       "\u001B[0;31mUnsupportedOperationException\u001B[0m             Traceback (most recent call last)\n",
       "File \u001B[0;32m<command-5670470672346535>, line 89\u001B[0m\n",
       "\u001B[1;32m     87\u001B[0m \u001B[38;5;66;03m# Ejecutamos ingesta y limpieza.\u001B[39;00m\n",
       "\u001B[1;32m     88\u001B[0m ingestar_auto_loader(location, table_name)\n",
       "\u001B[0;32m---> 89\u001B[0m limpiar_y_guardar_silver(table_name)\n",
       "\n",
       "File \u001B[0;32m<command-5670470672346535>, line 85\u001B[0m, in \u001B[0;36mlimpiar_y_guardar_silver\u001B[0;34m(table_name)\u001B[0m\n",
       "\u001B[1;32m     80\u001B[0m delta_tbl \u001B[38;5;241m=\u001B[39m DeltaTable\u001B[38;5;241m.\u001B[39mforPath(spark, path_silver)\n",
       "\u001B[1;32m     81\u001B[0m id_col \u001B[38;5;241m=\u001B[39m df_silver\u001B[38;5;241m.\u001B[39mcolumns[\u001B[38;5;241m0\u001B[39m]\n",
       "\u001B[1;32m     82\u001B[0m delta_tbl\u001B[38;5;241m.\u001B[39malias(\u001B[38;5;124m\"\u001B[39m\u001B[38;5;124mt\u001B[39m\u001B[38;5;124m\"\u001B[39m)\u001B[38;5;241m.\u001B[39mmerge(df_silver\u001B[38;5;241m.\u001B[39malias(\u001B[38;5;124m\"\u001B[39m\u001B[38;5;124ms\u001B[39m\u001B[38;5;124m\"\u001B[39m), \u001B[38;5;124mf\u001B[39m\u001B[38;5;124m\"\u001B[39m\u001B[38;5;124mt.\u001B[39m\u001B[38;5;132;01m{\u001B[39;00mid_col\u001B[38;5;132;01m}\u001B[39;00m\u001B[38;5;124m = s.\u001B[39m\u001B[38;5;132;01m{\u001B[39;00mid_col\u001B[38;5;132;01m}\u001B[39;00m\u001B[38;5;124m\"\u001B[39m) \\\n",
       "\u001B[1;32m     83\u001B[0m \u001B[38;5;241m.\u001B[39mwhenMatchedUpdateAll() \\\n",
       "\u001B[1;32m     84\u001B[0m \u001B[38;5;241m.\u001B[39mwhenNotMatchedInsertAll() \\\n",
       "\u001B[0;32m---> 85\u001B[0m \u001B[38;5;241m.\u001B[39mexecute()\n",
       "\n",
       "File \u001B[0;32m/databricks/spark/python/delta/tables.py:1230\u001B[0m, in \u001B[0;36mDeltaMergeBuilder.execute\u001B[0;34m(self)\u001B[0m\n",
       "\u001B[1;32m   1223\u001B[0m \u001B[38;5;129m@since\u001B[39m(\u001B[38;5;241m0.4\u001B[39m)  \u001B[38;5;66;03m# type: ignore[arg-type]\u001B[39;00m\n",
       "\u001B[1;32m   1224\u001B[0m \u001B[38;5;28;01mdef\u001B[39;00m \u001B[38;5;21mexecute\u001B[39m(\u001B[38;5;28mself\u001B[39m) \u001B[38;5;241m-\u001B[39m\u001B[38;5;241m>\u001B[39m \u001B[38;5;28;01mNone\u001B[39;00m:\n",
       "\u001B[1;32m   1225\u001B[0m \u001B[38;5;250m    \u001B[39m\u001B[38;5;124;03m\"\"\"\u001B[39;00m\n",
       "\u001B[1;32m   1226\u001B[0m \u001B[38;5;124;03m    Execute the merge operation based on the built matched and not matched actions.\u001B[39;00m\n",
       "\u001B[1;32m   1227\u001B[0m \n",
       "\u001B[1;32m   1228\u001B[0m \u001B[38;5;124;03m    See :py:class:`~delta.tables.DeltaMergeBuilder` for complete usage details.\u001B[39;00m\n",
       "\u001B[1;32m   1229\u001B[0m \u001B[38;5;124;03m    \"\"\"\u001B[39;00m\n",
       "\u001B[0;32m-> 1230\u001B[0m     \u001B[38;5;28mself\u001B[39m\u001B[38;5;241m.\u001B[39m_jbuilder\u001B[38;5;241m.\u001B[39mexecute()\n",
       "\n",
       "File \u001B[0;32m/databricks/spark/python/lib/py4j-0.10.9.7-src.zip/py4j/java_gateway.py:1355\u001B[0m, in \u001B[0;36mJavaMember.__call__\u001B[0;34m(self, *args)\u001B[0m\n",
       "\u001B[1;32m   1349\u001B[0m command \u001B[38;5;241m=\u001B[39m proto\u001B[38;5;241m.\u001B[39mCALL_COMMAND_NAME \u001B[38;5;241m+\u001B[39m\\\n",
       "\u001B[1;32m   1350\u001B[0m     \u001B[38;5;28mself\u001B[39m\u001B[38;5;241m.\u001B[39mcommand_header \u001B[38;5;241m+\u001B[39m\\\n",
       "\u001B[1;32m   1351\u001B[0m     args_command \u001B[38;5;241m+\u001B[39m\\\n",
       "\u001B[1;32m   1352\u001B[0m     proto\u001B[38;5;241m.\u001B[39mEND_COMMAND_PART\n",
       "\u001B[1;32m   1354\u001B[0m answer \u001B[38;5;241m=\u001B[39m \u001B[38;5;28mself\u001B[39m\u001B[38;5;241m.\u001B[39mgateway_client\u001B[38;5;241m.\u001B[39msend_command(command)\n",
       "\u001B[0;32m-> 1355\u001B[0m return_value \u001B[38;5;241m=\u001B[39m get_return_value(\n",
       "\u001B[1;32m   1356\u001B[0m     answer, \u001B[38;5;28mself\u001B[39m\u001B[38;5;241m.\u001B[39mgateway_client, \u001B[38;5;28mself\u001B[39m\u001B[38;5;241m.\u001B[39mtarget_id, \u001B[38;5;28mself\u001B[39m\u001B[38;5;241m.\u001B[39mname)\n",
       "\u001B[1;32m   1358\u001B[0m \u001B[38;5;28;01mfor\u001B[39;00m temp_arg \u001B[38;5;129;01min\u001B[39;00m temp_args:\n",
       "\u001B[1;32m   1359\u001B[0m     \u001B[38;5;28;01mif\u001B[39;00m \u001B[38;5;28mhasattr\u001B[39m(temp_arg, \u001B[38;5;124m\"\u001B[39m\u001B[38;5;124m_detach\u001B[39m\u001B[38;5;124m\"\u001B[39m):\n",
       "\n",
       "File \u001B[0;32m/databricks/spark/python/pyspark/errors/exceptions/captured.py:261\u001B[0m, in \u001B[0;36mcapture_sql_exception.<locals>.deco\u001B[0;34m(*a, **kw)\u001B[0m\n",
       "\u001B[1;32m    257\u001B[0m converted \u001B[38;5;241m=\u001B[39m convert_exception(e\u001B[38;5;241m.\u001B[39mjava_exception)\n",
       "\u001B[1;32m    258\u001B[0m \u001B[38;5;28;01mif\u001B[39;00m \u001B[38;5;129;01mnot\u001B[39;00m \u001B[38;5;28misinstance\u001B[39m(converted, UnknownException):\n",
       "\u001B[1;32m    259\u001B[0m     \u001B[38;5;66;03m# Hide where the exception came from that shows a non-Pythonic\u001B[39;00m\n",
       "\u001B[1;32m    260\u001B[0m     \u001B[38;5;66;03m# JVM exception message.\u001B[39;00m\n",
       "\u001B[0;32m--> 261\u001B[0m     \u001B[38;5;28;01mraise\u001B[39;00m converted \u001B[38;5;28;01mfrom\u001B[39;00m \u001B[38;5;28;01mNone\u001B[39;00m\n",
       "\u001B[1;32m    262\u001B[0m \u001B[38;5;28;01melse\u001B[39;00m:\n",
       "\u001B[1;32m    263\u001B[0m     \u001B[38;5;28;01mraise\u001B[39;00m\n",
       "\n",
       "\u001B[0;31mUnsupportedOperationException\u001B[0m: [DELTA_MULTIPLE_SOURCE_ROW_MATCHING_TARGET_ROW_IN_MERGE] Cannot perform Merge as multiple source rows matched and attempted to modify the same\n",
       "target row in the Delta table in possibly conflicting ways. By SQL semantics of Merge,\n",
       "when multiple source rows match on the same target row, the result may be ambiguous\n",
       "as it is unclear which source row should be used to update or delete the matching\n",
       "target row. You can preprocess the source table to eliminate the possibility of\n",
       "multiple matches. Please refer to\n",
       "https://docs.microsoft.com/azure/databricks/delta/merge#merge-error"
      ]
     },
     "metadata": {
      "application/vnd.databricks.v1+output": {
       "addedWidgets": {},
       "arguments": {
        "location": "clientes_5",
        "table_name": "clientes_autoloader"
       },
       "datasetInfos": [],
       "jupyterProps": {
        "ename": "UnsupportedOperationException",
        "evalue": "[DELTA_MULTIPLE_SOURCE_ROW_MATCHING_TARGET_ROW_IN_MERGE] Cannot perform Merge as multiple source rows matched and attempted to modify the same\ntarget row in the Delta table in possibly conflicting ways. By SQL semantics of Merge,\nwhen multiple source rows match on the same target row, the result may be ambiguous\nas it is unclear which source row should be used to update or delete the matching\ntarget row. You can preprocess the source table to eliminate the possibility of\nmultiple matches. Please refer to\nhttps://docs.microsoft.com/azure/databricks/delta/merge#merge-error"
       },
       "metadata": {
        "errorSummary": "Command skipped"
       },
       "removedWidgets": [],
       "sqlProps": {
        "breakingChangeInfo": null,
        "errorClass": "DELTA_MULTIPLE_SOURCE_ROW_MATCHING_TARGET_ROW_IN_MERGE",
        "pysparkCallSite": null,
        "pysparkFragment": null,
        "pysparkSummary": null,
        "sqlState": "21506",
        "stackTrace": null,
        "startIndex": null,
        "stopIndex": null
       },
       "stackFrames": [
        "\u001B[0;31m---------------------------------------------------------------------------\u001B[0m",
        "\u001B[0;31mUnsupportedOperationException\u001B[0m             Traceback (most recent call last)",
        "File \u001B[0;32m<command-5670470672346535>, line 89\u001B[0m\n\u001B[1;32m     87\u001B[0m \u001B[38;5;66;03m# Ejecutamos ingesta y limpieza.\u001B[39;00m\n\u001B[1;32m     88\u001B[0m ingestar_auto_loader(location, table_name)\n\u001B[0;32m---> 89\u001B[0m limpiar_y_guardar_silver(table_name)\n",
        "File \u001B[0;32m<command-5670470672346535>, line 85\u001B[0m, in \u001B[0;36mlimpiar_y_guardar_silver\u001B[0;34m(table_name)\u001B[0m\n\u001B[1;32m     80\u001B[0m delta_tbl \u001B[38;5;241m=\u001B[39m DeltaTable\u001B[38;5;241m.\u001B[39mforPath(spark, path_silver)\n\u001B[1;32m     81\u001B[0m id_col \u001B[38;5;241m=\u001B[39m df_silver\u001B[38;5;241m.\u001B[39mcolumns[\u001B[38;5;241m0\u001B[39m]\n\u001B[1;32m     82\u001B[0m delta_tbl\u001B[38;5;241m.\u001B[39malias(\u001B[38;5;124m\"\u001B[39m\u001B[38;5;124mt\u001B[39m\u001B[38;5;124m\"\u001B[39m)\u001B[38;5;241m.\u001B[39mmerge(df_silver\u001B[38;5;241m.\u001B[39malias(\u001B[38;5;124m\"\u001B[39m\u001B[38;5;124ms\u001B[39m\u001B[38;5;124m\"\u001B[39m), \u001B[38;5;124mf\u001B[39m\u001B[38;5;124m\"\u001B[39m\u001B[38;5;124mt.\u001B[39m\u001B[38;5;132;01m{\u001B[39;00mid_col\u001B[38;5;132;01m}\u001B[39;00m\u001B[38;5;124m = s.\u001B[39m\u001B[38;5;132;01m{\u001B[39;00mid_col\u001B[38;5;132;01m}\u001B[39;00m\u001B[38;5;124m\"\u001B[39m) \\\n\u001B[1;32m     83\u001B[0m \u001B[38;5;241m.\u001B[39mwhenMatchedUpdateAll() \\\n\u001B[1;32m     84\u001B[0m \u001B[38;5;241m.\u001B[39mwhenNotMatchedInsertAll() \\\n\u001B[0;32m---> 85\u001B[0m \u001B[38;5;241m.\u001B[39mexecute()\n",
        "File \u001B[0;32m/databricks/spark/python/delta/tables.py:1230\u001B[0m, in \u001B[0;36mDeltaMergeBuilder.execute\u001B[0;34m(self)\u001B[0m\n\u001B[1;32m   1223\u001B[0m \u001B[38;5;129m@since\u001B[39m(\u001B[38;5;241m0.4\u001B[39m)  \u001B[38;5;66;03m# type: ignore[arg-type]\u001B[39;00m\n\u001B[1;32m   1224\u001B[0m \u001B[38;5;28;01mdef\u001B[39;00m \u001B[38;5;21mexecute\u001B[39m(\u001B[38;5;28mself\u001B[39m) \u001B[38;5;241m-\u001B[39m\u001B[38;5;241m>\u001B[39m \u001B[38;5;28;01mNone\u001B[39;00m:\n\u001B[1;32m   1225\u001B[0m \u001B[38;5;250m    \u001B[39m\u001B[38;5;124;03m\"\"\"\u001B[39;00m\n\u001B[1;32m   1226\u001B[0m \u001B[38;5;124;03m    Execute the merge operation based on the built matched and not matched actions.\u001B[39;00m\n\u001B[1;32m   1227\u001B[0m \n\u001B[1;32m   1228\u001B[0m \u001B[38;5;124;03m    See :py:class:`~delta.tables.DeltaMergeBuilder` for complete usage details.\u001B[39;00m\n\u001B[1;32m   1229\u001B[0m \u001B[38;5;124;03m    \"\"\"\u001B[39;00m\n\u001B[0;32m-> 1230\u001B[0m     \u001B[38;5;28mself\u001B[39m\u001B[38;5;241m.\u001B[39m_jbuilder\u001B[38;5;241m.\u001B[39mexecute()\n",
        "File \u001B[0;32m/databricks/spark/python/lib/py4j-0.10.9.7-src.zip/py4j/java_gateway.py:1355\u001B[0m, in \u001B[0;36mJavaMember.__call__\u001B[0;34m(self, *args)\u001B[0m\n\u001B[1;32m   1349\u001B[0m command \u001B[38;5;241m=\u001B[39m proto\u001B[38;5;241m.\u001B[39mCALL_COMMAND_NAME \u001B[38;5;241m+\u001B[39m\\\n\u001B[1;32m   1350\u001B[0m     \u001B[38;5;28mself\u001B[39m\u001B[38;5;241m.\u001B[39mcommand_header \u001B[38;5;241m+\u001B[39m\\\n\u001B[1;32m   1351\u001B[0m     args_command \u001B[38;5;241m+\u001B[39m\\\n\u001B[1;32m   1352\u001B[0m     proto\u001B[38;5;241m.\u001B[39mEND_COMMAND_PART\n\u001B[1;32m   1354\u001B[0m answer \u001B[38;5;241m=\u001B[39m \u001B[38;5;28mself\u001B[39m\u001B[38;5;241m.\u001B[39mgateway_client\u001B[38;5;241m.\u001B[39msend_command(command)\n\u001B[0;32m-> 1355\u001B[0m return_value \u001B[38;5;241m=\u001B[39m get_return_value(\n\u001B[1;32m   1356\u001B[0m     answer, \u001B[38;5;28mself\u001B[39m\u001B[38;5;241m.\u001B[39mgateway_client, \u001B[38;5;28mself\u001B[39m\u001B[38;5;241m.\u001B[39mtarget_id, \u001B[38;5;28mself\u001B[39m\u001B[38;5;241m.\u001B[39mname)\n\u001B[1;32m   1358\u001B[0m \u001B[38;5;28;01mfor\u001B[39;00m temp_arg \u001B[38;5;129;01min\u001B[39;00m temp_args:\n\u001B[1;32m   1359\u001B[0m     \u001B[38;5;28;01mif\u001B[39;00m \u001B[38;5;28mhasattr\u001B[39m(temp_arg, \u001B[38;5;124m\"\u001B[39m\u001B[38;5;124m_detach\u001B[39m\u001B[38;5;124m\"\u001B[39m):\n",
        "File \u001B[0;32m/databricks/spark/python/pyspark/errors/exceptions/captured.py:261\u001B[0m, in \u001B[0;36mcapture_sql_exception.<locals>.deco\u001B[0;34m(*a, **kw)\u001B[0m\n\u001B[1;32m    257\u001B[0m converted \u001B[38;5;241m=\u001B[39m convert_exception(e\u001B[38;5;241m.\u001B[39mjava_exception)\n\u001B[1;32m    258\u001B[0m \u001B[38;5;28;01mif\u001B[39;00m \u001B[38;5;129;01mnot\u001B[39;00m \u001B[38;5;28misinstance\u001B[39m(converted, UnknownException):\n\u001B[1;32m    259\u001B[0m     \u001B[38;5;66;03m# Hide where the exception came from that shows a non-Pythonic\u001B[39;00m\n\u001B[1;32m    260\u001B[0m     \u001B[38;5;66;03m# JVM exception message.\u001B[39;00m\n\u001B[0;32m--> 261\u001B[0m     \u001B[38;5;28;01mraise\u001B[39;00m converted \u001B[38;5;28;01mfrom\u001B[39;00m \u001B[38;5;28;01mNone\u001B[39;00m\n\u001B[1;32m    262\u001B[0m \u001B[38;5;28;01melse\u001B[39;00m:\n\u001B[1;32m    263\u001B[0m     \u001B[38;5;28;01mraise\u001B[39;00m\n",
        "\u001B[0;31mUnsupportedOperationException\u001B[0m: [DELTA_MULTIPLE_SOURCE_ROW_MATCHING_TARGET_ROW_IN_MERGE] Cannot perform Merge as multiple source rows matched and attempted to modify the same\ntarget row in the Delta table in possibly conflicting ways. By SQL semantics of Merge,\nwhen multiple source rows match on the same target row, the result may be ambiguous\nas it is unclear which source row should be used to update or delete the matching\ntarget row. You can preprocess the source table to eliminate the possibility of\nmultiple matches. Please refer to\nhttps://docs.microsoft.com/azure/databricks/delta/merge#merge-error"
       ],
       "type": "baseError"
      }
     },
     "output_type": "display_data"
    }
   ],
   "source": [
    "# Generamos una función para eliminar columnas de auditoria.\n",
    "\n",
    "AUDIT_COLS = [\n",
    "    \"ingestion_ts\",\n",
    "    \"ingestion_id\",\n",
    "    \"source_file\",\n",
    "    \"source_path\",\n",
    "    \"file_modification_time\",\n",
    "    \"file_size\"\n",
    "]\n",
    "\n",
    "def drop_audit_cols(df):\n",
    "    cols_to_drop = [c for c in AUDIT_COLS if c in df.columns]\n",
    "    return df.drop(*cols_to_drop) if cols_to_drop else df\n"
   ]
  },
  {
   "cell_type": "code",
   "execution_count": 0,
   "metadata": {
    "application/vnd.databricks.v1+cell": {
     "cellMetadata": {
      "byteLimit": 2048000,
      "rowLimit": 10000
     },
     "inputWidgets": {},
     "nuid": "063bb901-3cb1-4cc4-a2df-95833614a5e0",
     "showTitle": false,
     "tableResultSettingsMap": {},
     "title": ""
    }
   },
   "outputs": [
    {
     "output_type": "display_data",
     "data": {
      "text/plain": [
       "\u001B[0;31m---------------------------------------------------------------------------\u001B[0m\n",
       "\u001B[0;31mUnsupportedOperationException\u001B[0m             Traceback (most recent call last)\n",
       "File \u001B[0;32m<command-5670470672346535>, line 89\u001B[0m\n",
       "\u001B[1;32m     87\u001B[0m \u001B[38;5;66;03m# Ejecutamos ingesta y limpieza.\u001B[39;00m\n",
       "\u001B[1;32m     88\u001B[0m ingestar_auto_loader(location, table_name)\n",
       "\u001B[0;32m---> 89\u001B[0m limpiar_y_guardar_silver(table_name)\n",
       "\n",
       "File \u001B[0;32m<command-5670470672346535>, line 85\u001B[0m, in \u001B[0;36mlimpiar_y_guardar_silver\u001B[0;34m(table_name)\u001B[0m\n",
       "\u001B[1;32m     80\u001B[0m delta_tbl \u001B[38;5;241m=\u001B[39m DeltaTable\u001B[38;5;241m.\u001B[39mforPath(spark, path_silver)\n",
       "\u001B[1;32m     81\u001B[0m id_col \u001B[38;5;241m=\u001B[39m df_silver\u001B[38;5;241m.\u001B[39mcolumns[\u001B[38;5;241m0\u001B[39m]\n",
       "\u001B[1;32m     82\u001B[0m delta_tbl\u001B[38;5;241m.\u001B[39malias(\u001B[38;5;124m\"\u001B[39m\u001B[38;5;124mt\u001B[39m\u001B[38;5;124m\"\u001B[39m)\u001B[38;5;241m.\u001B[39mmerge(df_silver\u001B[38;5;241m.\u001B[39malias(\u001B[38;5;124m\"\u001B[39m\u001B[38;5;124ms\u001B[39m\u001B[38;5;124m\"\u001B[39m), \u001B[38;5;124mf\u001B[39m\u001B[38;5;124m\"\u001B[39m\u001B[38;5;124mt.\u001B[39m\u001B[38;5;132;01m{\u001B[39;00mid_col\u001B[38;5;132;01m}\u001B[39;00m\u001B[38;5;124m = s.\u001B[39m\u001B[38;5;132;01m{\u001B[39;00mid_col\u001B[38;5;132;01m}\u001B[39;00m\u001B[38;5;124m\"\u001B[39m) \\\n",
       "\u001B[1;32m     83\u001B[0m \u001B[38;5;241m.\u001B[39mwhenMatchedUpdateAll() \\\n",
       "\u001B[1;32m     84\u001B[0m \u001B[38;5;241m.\u001B[39mwhenNotMatchedInsertAll() \\\n",
       "\u001B[0;32m---> 85\u001B[0m \u001B[38;5;241m.\u001B[39mexecute()\n",
       "\n",
       "File \u001B[0;32m/databricks/spark/python/delta/tables.py:1230\u001B[0m, in \u001B[0;36mDeltaMergeBuilder.execute\u001B[0;34m(self)\u001B[0m\n",
       "\u001B[1;32m   1223\u001B[0m \u001B[38;5;129m@since\u001B[39m(\u001B[38;5;241m0.4\u001B[39m)  \u001B[38;5;66;03m# type: ignore[arg-type]\u001B[39;00m\n",
       "\u001B[1;32m   1224\u001B[0m \u001B[38;5;28;01mdef\u001B[39;00m \u001B[38;5;21mexecute\u001B[39m(\u001B[38;5;28mself\u001B[39m) \u001B[38;5;241m-\u001B[39m\u001B[38;5;241m>\u001B[39m \u001B[38;5;28;01mNone\u001B[39;00m:\n",
       "\u001B[1;32m   1225\u001B[0m \u001B[38;5;250m    \u001B[39m\u001B[38;5;124;03m\"\"\"\u001B[39;00m\n",
       "\u001B[1;32m   1226\u001B[0m \u001B[38;5;124;03m    Execute the merge operation based on the built matched and not matched actions.\u001B[39;00m\n",
       "\u001B[1;32m   1227\u001B[0m \n",
       "\u001B[1;32m   1228\u001B[0m \u001B[38;5;124;03m    See :py:class:`~delta.tables.DeltaMergeBuilder` for complete usage details.\u001B[39;00m\n",
       "\u001B[1;32m   1229\u001B[0m \u001B[38;5;124;03m    \"\"\"\u001B[39;00m\n",
       "\u001B[0;32m-> 1230\u001B[0m     \u001B[38;5;28mself\u001B[39m\u001B[38;5;241m.\u001B[39m_jbuilder\u001B[38;5;241m.\u001B[39mexecute()\n",
       "\n",
       "File \u001B[0;32m/databricks/spark/python/lib/py4j-0.10.9.7-src.zip/py4j/java_gateway.py:1355\u001B[0m, in \u001B[0;36mJavaMember.__call__\u001B[0;34m(self, *args)\u001B[0m\n",
       "\u001B[1;32m   1349\u001B[0m command \u001B[38;5;241m=\u001B[39m proto\u001B[38;5;241m.\u001B[39mCALL_COMMAND_NAME \u001B[38;5;241m+\u001B[39m\\\n",
       "\u001B[1;32m   1350\u001B[0m     \u001B[38;5;28mself\u001B[39m\u001B[38;5;241m.\u001B[39mcommand_header \u001B[38;5;241m+\u001B[39m\\\n",
       "\u001B[1;32m   1351\u001B[0m     args_command \u001B[38;5;241m+\u001B[39m\\\n",
       "\u001B[1;32m   1352\u001B[0m     proto\u001B[38;5;241m.\u001B[39mEND_COMMAND_PART\n",
       "\u001B[1;32m   1354\u001B[0m answer \u001B[38;5;241m=\u001B[39m \u001B[38;5;28mself\u001B[39m\u001B[38;5;241m.\u001B[39mgateway_client\u001B[38;5;241m.\u001B[39msend_command(command)\n",
       "\u001B[0;32m-> 1355\u001B[0m return_value \u001B[38;5;241m=\u001B[39m get_return_value(\n",
       "\u001B[1;32m   1356\u001B[0m     answer, \u001B[38;5;28mself\u001B[39m\u001B[38;5;241m.\u001B[39mgateway_client, \u001B[38;5;28mself\u001B[39m\u001B[38;5;241m.\u001B[39mtarget_id, \u001B[38;5;28mself\u001B[39m\u001B[38;5;241m.\u001B[39mname)\n",
       "\u001B[1;32m   1358\u001B[0m \u001B[38;5;28;01mfor\u001B[39;00m temp_arg \u001B[38;5;129;01min\u001B[39;00m temp_args:\n",
       "\u001B[1;32m   1359\u001B[0m     \u001B[38;5;28;01mif\u001B[39;00m \u001B[38;5;28mhasattr\u001B[39m(temp_arg, \u001B[38;5;124m\"\u001B[39m\u001B[38;5;124m_detach\u001B[39m\u001B[38;5;124m\"\u001B[39m):\n",
       "\n",
       "File \u001B[0;32m/databricks/spark/python/pyspark/errors/exceptions/captured.py:261\u001B[0m, in \u001B[0;36mcapture_sql_exception.<locals>.deco\u001B[0;34m(*a, **kw)\u001B[0m\n",
       "\u001B[1;32m    257\u001B[0m converted \u001B[38;5;241m=\u001B[39m convert_exception(e\u001B[38;5;241m.\u001B[39mjava_exception)\n",
       "\u001B[1;32m    258\u001B[0m \u001B[38;5;28;01mif\u001B[39;00m \u001B[38;5;129;01mnot\u001B[39;00m \u001B[38;5;28misinstance\u001B[39m(converted, UnknownException):\n",
       "\u001B[1;32m    259\u001B[0m     \u001B[38;5;66;03m# Hide where the exception came from that shows a non-Pythonic\u001B[39;00m\n",
       "\u001B[1;32m    260\u001B[0m     \u001B[38;5;66;03m# JVM exception message.\u001B[39;00m\n",
       "\u001B[0;32m--> 261\u001B[0m     \u001B[38;5;28;01mraise\u001B[39;00m converted \u001B[38;5;28;01mfrom\u001B[39;00m \u001B[38;5;28;01mNone\u001B[39;00m\n",
       "\u001B[1;32m    262\u001B[0m \u001B[38;5;28;01melse\u001B[39;00m:\n",
       "\u001B[1;32m    263\u001B[0m     \u001B[38;5;28;01mraise\u001B[39;00m\n",
       "\n",
       "\u001B[0;31mUnsupportedOperationException\u001B[0m: [DELTA_MULTIPLE_SOURCE_ROW_MATCHING_TARGET_ROW_IN_MERGE] Cannot perform Merge as multiple source rows matched and attempted to modify the same\n",
       "target row in the Delta table in possibly conflicting ways. By SQL semantics of Merge,\n",
       "when multiple source rows match on the same target row, the result may be ambiguous\n",
       "as it is unclear which source row should be used to update or delete the matching\n",
       "target row. You can preprocess the source table to eliminate the possibility of\n",
       "multiple matches. Please refer to\n",
       "https://docs.microsoft.com/azure/databricks/delta/merge#merge-error"
      ]
     },
     "metadata": {
      "application/vnd.databricks.v1+output": {
       "addedWidgets": {},
       "arguments": {
        "location": "clientes_5",
        "table_name": "clientes_autoloader"
       },
       "datasetInfos": [],
       "jupyterProps": {
        "ename": "UnsupportedOperationException",
        "evalue": "[DELTA_MULTIPLE_SOURCE_ROW_MATCHING_TARGET_ROW_IN_MERGE] Cannot perform Merge as multiple source rows matched and attempted to modify the same\ntarget row in the Delta table in possibly conflicting ways. By SQL semantics of Merge,\nwhen multiple source rows match on the same target row, the result may be ambiguous\nas it is unclear which source row should be used to update or delete the matching\ntarget row. You can preprocess the source table to eliminate the possibility of\nmultiple matches. Please refer to\nhttps://docs.microsoft.com/azure/databricks/delta/merge#merge-error"
       },
       "metadata": {
        "errorSummary": "Command skipped"
       },
       "removedWidgets": [],
       "sqlProps": {
        "breakingChangeInfo": null,
        "errorClass": "DELTA_MULTIPLE_SOURCE_ROW_MATCHING_TARGET_ROW_IN_MERGE",
        "pysparkCallSite": null,
        "pysparkFragment": null,
        "pysparkSummary": null,
        "sqlState": "21506",
        "stackTrace": null,
        "startIndex": null,
        "stopIndex": null
       },
       "stackFrames": [
        "\u001B[0;31m---------------------------------------------------------------------------\u001B[0m",
        "\u001B[0;31mUnsupportedOperationException\u001B[0m             Traceback (most recent call last)",
        "File \u001B[0;32m<command-5670470672346535>, line 89\u001B[0m\n\u001B[1;32m     87\u001B[0m \u001B[38;5;66;03m# Ejecutamos ingesta y limpieza.\u001B[39;00m\n\u001B[1;32m     88\u001B[0m ingestar_auto_loader(location, table_name)\n\u001B[0;32m---> 89\u001B[0m limpiar_y_guardar_silver(table_name)\n",
        "File \u001B[0;32m<command-5670470672346535>, line 85\u001B[0m, in \u001B[0;36mlimpiar_y_guardar_silver\u001B[0;34m(table_name)\u001B[0m\n\u001B[1;32m     80\u001B[0m delta_tbl \u001B[38;5;241m=\u001B[39m DeltaTable\u001B[38;5;241m.\u001B[39mforPath(spark, path_silver)\n\u001B[1;32m     81\u001B[0m id_col \u001B[38;5;241m=\u001B[39m df_silver\u001B[38;5;241m.\u001B[39mcolumns[\u001B[38;5;241m0\u001B[39m]\n\u001B[1;32m     82\u001B[0m delta_tbl\u001B[38;5;241m.\u001B[39malias(\u001B[38;5;124m\"\u001B[39m\u001B[38;5;124mt\u001B[39m\u001B[38;5;124m\"\u001B[39m)\u001B[38;5;241m.\u001B[39mmerge(df_silver\u001B[38;5;241m.\u001B[39malias(\u001B[38;5;124m\"\u001B[39m\u001B[38;5;124ms\u001B[39m\u001B[38;5;124m\"\u001B[39m), \u001B[38;5;124mf\u001B[39m\u001B[38;5;124m\"\u001B[39m\u001B[38;5;124mt.\u001B[39m\u001B[38;5;132;01m{\u001B[39;00mid_col\u001B[38;5;132;01m}\u001B[39;00m\u001B[38;5;124m = s.\u001B[39m\u001B[38;5;132;01m{\u001B[39;00mid_col\u001B[38;5;132;01m}\u001B[39;00m\u001B[38;5;124m\"\u001B[39m) \\\n\u001B[1;32m     83\u001B[0m \u001B[38;5;241m.\u001B[39mwhenMatchedUpdateAll() \\\n\u001B[1;32m     84\u001B[0m \u001B[38;5;241m.\u001B[39mwhenNotMatchedInsertAll() \\\n\u001B[0;32m---> 85\u001B[0m \u001B[38;5;241m.\u001B[39mexecute()\n",
        "File \u001B[0;32m/databricks/spark/python/delta/tables.py:1230\u001B[0m, in \u001B[0;36mDeltaMergeBuilder.execute\u001B[0;34m(self)\u001B[0m\n\u001B[1;32m   1223\u001B[0m \u001B[38;5;129m@since\u001B[39m(\u001B[38;5;241m0.4\u001B[39m)  \u001B[38;5;66;03m# type: ignore[arg-type]\u001B[39;00m\n\u001B[1;32m   1224\u001B[0m \u001B[38;5;28;01mdef\u001B[39;00m \u001B[38;5;21mexecute\u001B[39m(\u001B[38;5;28mself\u001B[39m) \u001B[38;5;241m-\u001B[39m\u001B[38;5;241m>\u001B[39m \u001B[38;5;28;01mNone\u001B[39;00m:\n\u001B[1;32m   1225\u001B[0m \u001B[38;5;250m    \u001B[39m\u001B[38;5;124;03m\"\"\"\u001B[39;00m\n\u001B[1;32m   1226\u001B[0m \u001B[38;5;124;03m    Execute the merge operation based on the built matched and not matched actions.\u001B[39;00m\n\u001B[1;32m   1227\u001B[0m \n\u001B[1;32m   1228\u001B[0m \u001B[38;5;124;03m    See :py:class:`~delta.tables.DeltaMergeBuilder` for complete usage details.\u001B[39;00m\n\u001B[1;32m   1229\u001B[0m \u001B[38;5;124;03m    \"\"\"\u001B[39;00m\n\u001B[0;32m-> 1230\u001B[0m     \u001B[38;5;28mself\u001B[39m\u001B[38;5;241m.\u001B[39m_jbuilder\u001B[38;5;241m.\u001B[39mexecute()\n",
        "File \u001B[0;32m/databricks/spark/python/lib/py4j-0.10.9.7-src.zip/py4j/java_gateway.py:1355\u001B[0m, in \u001B[0;36mJavaMember.__call__\u001B[0;34m(self, *args)\u001B[0m\n\u001B[1;32m   1349\u001B[0m command \u001B[38;5;241m=\u001B[39m proto\u001B[38;5;241m.\u001B[39mCALL_COMMAND_NAME \u001B[38;5;241m+\u001B[39m\\\n\u001B[1;32m   1350\u001B[0m     \u001B[38;5;28mself\u001B[39m\u001B[38;5;241m.\u001B[39mcommand_header \u001B[38;5;241m+\u001B[39m\\\n\u001B[1;32m   1351\u001B[0m     args_command \u001B[38;5;241m+\u001B[39m\\\n\u001B[1;32m   1352\u001B[0m     proto\u001B[38;5;241m.\u001B[39mEND_COMMAND_PART\n\u001B[1;32m   1354\u001B[0m answer \u001B[38;5;241m=\u001B[39m \u001B[38;5;28mself\u001B[39m\u001B[38;5;241m.\u001B[39mgateway_client\u001B[38;5;241m.\u001B[39msend_command(command)\n\u001B[0;32m-> 1355\u001B[0m return_value \u001B[38;5;241m=\u001B[39m get_return_value(\n\u001B[1;32m   1356\u001B[0m     answer, \u001B[38;5;28mself\u001B[39m\u001B[38;5;241m.\u001B[39mgateway_client, \u001B[38;5;28mself\u001B[39m\u001B[38;5;241m.\u001B[39mtarget_id, \u001B[38;5;28mself\u001B[39m\u001B[38;5;241m.\u001B[39mname)\n\u001B[1;32m   1358\u001B[0m \u001B[38;5;28;01mfor\u001B[39;00m temp_arg \u001B[38;5;129;01min\u001B[39;00m temp_args:\n\u001B[1;32m   1359\u001B[0m     \u001B[38;5;28;01mif\u001B[39;00m \u001B[38;5;28mhasattr\u001B[39m(temp_arg, \u001B[38;5;124m\"\u001B[39m\u001B[38;5;124m_detach\u001B[39m\u001B[38;5;124m\"\u001B[39m):\n",
        "File \u001B[0;32m/databricks/spark/python/pyspark/errors/exceptions/captured.py:261\u001B[0m, in \u001B[0;36mcapture_sql_exception.<locals>.deco\u001B[0;34m(*a, **kw)\u001B[0m\n\u001B[1;32m    257\u001B[0m converted \u001B[38;5;241m=\u001B[39m convert_exception(e\u001B[38;5;241m.\u001B[39mjava_exception)\n\u001B[1;32m    258\u001B[0m \u001B[38;5;28;01mif\u001B[39;00m \u001B[38;5;129;01mnot\u001B[39;00m \u001B[38;5;28misinstance\u001B[39m(converted, UnknownException):\n\u001B[1;32m    259\u001B[0m     \u001B[38;5;66;03m# Hide where the exception came from that shows a non-Pythonic\u001B[39;00m\n\u001B[1;32m    260\u001B[0m     \u001B[38;5;66;03m# JVM exception message.\u001B[39;00m\n\u001B[0;32m--> 261\u001B[0m     \u001B[38;5;28;01mraise\u001B[39;00m converted \u001B[38;5;28;01mfrom\u001B[39;00m \u001B[38;5;28;01mNone\u001B[39;00m\n\u001B[1;32m    262\u001B[0m \u001B[38;5;28;01melse\u001B[39;00m:\n\u001B[1;32m    263\u001B[0m     \u001B[38;5;28;01mraise\u001B[39;00m\n",
        "\u001B[0;31mUnsupportedOperationException\u001B[0m: [DELTA_MULTIPLE_SOURCE_ROW_MATCHING_TARGET_ROW_IN_MERGE] Cannot perform Merge as multiple source rows matched and attempted to modify the same\ntarget row in the Delta table in possibly conflicting ways. By SQL semantics of Merge,\nwhen multiple source rows match on the same target row, the result may be ambiguous\nas it is unclear which source row should be used to update or delete the matching\ntarget row. You can preprocess the source table to eliminate the possibility of\nmultiple matches. Please refer to\nhttps://docs.microsoft.com/azure/databricks/delta/merge#merge-error"
       ],
       "type": "baseError"
      }
     },
     "output_type": "display_data"
    }
   ],
   "source": [
    "tables = [\"clientes_autoloader\", \"productos_autoloader\", \"categorias_autoloader\", \"ventas_autoloader\"]\n",
    "\n",
    "if all(spark.catalog.tableExists(f\"hive_metastore.silver.{t}\") for t in tables):\n",
    "\n",
    "    clientes = spark.table(\"hive_metastore.silver.clientes_autoloader\")\n",
    "    productos = spark.table(\"hive_metastore.silver.productos_autoloader\")\n",
    "    categorias = spark.table(\"hive_metastore.silver.categorias_autoloader\")\n",
    "    ventas = spark.table(\"hive_metastore.silver.ventas_autoloader\")\n",
    "\n",
    "    # Realizamos los joins entre hechos y dimensiones eliminando los campos de auditoria.\n",
    "    df_gold = drop_audit_cols(ventas) \\\n",
    "        .join(drop_audit_cols(clientes), on=\"cliente_id\", how=\"inner\") \\\n",
    "        .join(drop_audit_cols(productos), on=\"producto_id\", how=\"inner\") \\\n",
    "        .join(drop_audit_cols(categorias), on=\"categoria_id\", how=\"inner\") \\\n",
    "\n",
    "    df_gold = df_gold.dropDuplicates()\n",
    "\n",
    "    gold_table_name = \"hive_metastore.gold.tabla_final_consolidada\"\n",
    "    gold_path_name = \"dbfs:/user/hive/warehouse/gold.db/tabla_final_consolidada\"\n",
    "\n",
    "    if not DeltaTable.isDeltaTable(spark, gold_path_name):\n",
    "        df_gold.write.format(\"delta\").saveAsTable(gold_table_name)\n",
    "        print(\"Tabla oro creada correctamente.\")\n",
    "    else:\n",
    "        delta_oro = DeltaTable.forPath(spark, gold_path_name)\n",
    "        delta_oro.alias(\"t\").merge(df_gold.alias(\"s\"), \"t.venta_id = s.venta_id\") \\\n",
    "        .whenMatchedUpdateAll() \\\n",
    "        .whenNotMatchedInsertAll() \\\n",
    "        .execute()\n",
    "\n",
    "        print(\"Tabla oro actualizada con nuevos datos o cambios.\")\n",
    "\n",
    "else:\n",
    "    print(\"No están disponibles todas las tablas necesarias.\")"
   ]
  }
 ],
 "metadata": {
  "application/vnd.databricks.v1+notebook": {
   "computePreferences": null,
   "dashboards": [],
   "environmentMetadata": {
    "base_environment": "",
    "environment_version": "2"
   },
   "inputWidgetPreferences": null,
   "language": "python",
   "notebookMetadata": {
    "mostRecentlyExecutedCommandWithImplicitDF": {
     "commandId": 5932073149273841,
     "dataframes": [
      "_sqldf"
     ]
    },
    "pythonIndentUnit": 4
   },
   "notebookName": "Taller Autoloader",
   "widgets": {}
  },
  "language_info": {
   "name": "python"
  }
 },
 "nbformat": 4,
 "nbformat_minor": 0
}